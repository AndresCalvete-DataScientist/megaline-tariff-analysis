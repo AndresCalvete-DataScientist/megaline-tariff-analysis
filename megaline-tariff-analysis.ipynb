{
 "cells": [
  {
   "cell_type": "markdown",
   "metadata": {
    "id": "3rYiDeEH0q0f"
   },
   "source": [
    "# Análisis comparativo de planes telefónicos Megaline"
   ]
  },
  {
   "cell_type": "markdown",
   "metadata": {},
   "source": [
    "## Contenido\n",
    "\n",
    "* [Introducción](#intro)\n",
    "* [1. Descripción y preparación de los datos](#data_review)\n",
    "    * [1.1 Planes](#plans)\n",
    "    * [1.2 Usuarios/as](#users)\n",
    "    * [1.3 Llamadas](#calls)\n",
    "    * [1.4 Mensajes](#messages)\n",
    "    * [1.5 Internet](#data)\n",
    "* [2. Evaluación de las tarifas por usuario](#'user_rates')\n",
    "* [3. Análisis del comportamiento de los usuarios](#data_analysis) \n",
    "    * [3.1 Análisis de llamadas](#calls_analysis)\n",
    "    * [3.2 Análisis de mensajes](#messages_analysis)  \n",
    "    * [3.3 Análisis de internet](#internet_analysis)\n",
    "    * [3.4 Análisis de ingresos](#income_analysis)\n",
    "* [4. Pruebas de las hipótesis estadísticas](#hypothesis)\n",
    "    * [4.1. Hipótesis 1: El ingreso promedio de los usuarios de las tarifas Ultimate y Surf difiere](#hypothesis_1)\n",
    "    * [4.2. Hipótesis 2: El ingreso promedio de los usuarios en el área de estados Nueva York-Nueva Jersey es diferente al de los usuarios de otras regiones](#hypothesis_2)\n",
    "* [Conclusiones](#end)"
   ]
  },
  {
   "cell_type": "markdown",
   "metadata": {},
   "source": [
    "## Introducción <a id='intro'></a>\n",
    "\n",
    "El operador de telecomunicaciones Megaline ofrece a sus clientes dos tarifas de prepago, Surf y Ultimate. El departamento comercial quiere saber cuál de las tarifas genera más ingresos para poder ajustar el presupuesto de publicidad.\n",
    "\n",
    "Se realizará un análisis preliminar de las tarifas basado en una selección de clientes relativamente pequeña, los datos de 500 clientes de Megaline. Estos datos tendrán información de quiénes son los clientes, de dónde son, qué tarifa usan, así como la cantidad de llamadas que hicieron y los mensajes de texto que enviaron en 2018. El objetivo es analizar el comportamiento de los clientes y determinar qué tarifa de prepago genera más ingresos. También se pretende probar las siguientes hipótesis:\n",
    "\n",
    "- El ingreso promedio de los usuarios de las tarifas Ultimate y Surf difiere.\n",
    "- El ingreso promedio de los usuarios en el área de estados Nueva York-Nueva Jersey es diferente al de los usuarios de otras regiones."
   ]
  },
  {
   "cell_type": "markdown",
   "metadata": {},
   "source": [
    "### Descripción de las tarifas\n",
    "Nota: Megaline redondea los segundos a minutos y los megabytes a gigabytes. Para las llamadas, cada llamada individual se redondea: incluso si la llamada duró solo un segundo, se contará como un minuto. Para el tráfico web, las sesiones web individuales no se redondean. En vez de esto, el total del mes se redondea hacia arriba. Si alguien usa 1025 megabytes este mes, se le cobrarán 2 gigabytes.\n",
    "\n",
    "#### Surf\n",
    "\n",
    "Pago mensual: $20.  \n",
    "500 minutos al mes, 50 SMS y 15 GB de datos.  \n",
    "Si se exceden los límites del paquete:  \n",
    "1 minuto: 3 centavos.  \n",
    "1 SMS: 3 centavos.  \n",
    "1 GB de datos: $10.\n",
    "\n",
    "#### Ultimate\n",
    "\n",
    "Pago mensual: $70.  \n",
    "3000 minutos al mes, 1000 SMS y 30 GB de datos.  \n",
    "Si se exceden los límites del paquete:  \n",
    "1 minuto: 1 centavo.  \n",
    "1 SMS: 1 centavo.  \n",
    "1 GB de datos: $7.  \n",
    "Diccionario de datos\n",
    "\n",
    "### Diccionario de datos\n",
    "\n",
    "La tabla users (datos sobre los usuarios):\n",
    "- user_id: identificador único del usuario.\n",
    "- first_name: nombre del usuario.\n",
    "- last_name: apellido del usuario.\n",
    "- age: edad del usuario (en años).\n",
    "- reg_date: fecha de suscripción (dd, mm, aa).\n",
    "- churn_date: la fecha en la que el usuario dejó de usar el servicio (si el valor es ausente, la tarifa se estaba usando cuando fue extraída esta base de datos).\n",
    "- city: ciudad de residencia del usuario.\n",
    "- plan: nombre de la tarifa.\n",
    "\n",
    "La tabla calls (datos sobre las llamadas):\n",
    "- id: identificador único de la llamada.\n",
    "- call_date: fecha de la llamada.\n",
    "- duration: duración de la llamada (en minutos).\n",
    "- user_id: el identificador del usuario que realiza la llamada.\n",
    "\n",
    "La tabla messages (datos sobre los SMS):\n",
    "- id: identificador único del SMS.\n",
    "- message_date: fecha del SMS.\n",
    "- user_id: el identificador del usuario que manda el SMS.\n",
    "\n",
    "La tabla internet (datos sobre las sesiones web):\n",
    "- id: identificador único de la sesión.\n",
    "- mb_used: el volumen de datos gastados durante la sesión (en megabytes).\n",
    "- session_date: fecha de la sesión web.\n",
    "- user_id: identificador del usuario.\n",
    "\n",
    "La tabla plans (datos sobre las tarifas):\n",
    "- plan_name: nombre de la tarifa.\n",
    "- usd_monthly_fee: pago mensual en dólares estadounidenses.\n",
    "- minutes_included: minutos incluidos al mes.\n",
    "- messages_included: SMS incluidos al mes.\n",
    "- mb_per_month_included: datos incluidos al mes (en megabytes).\n",
    "- usd_per_minute: precio por minuto tras exceder los límites del paquete (por ejemplo, si el paquete incluye 100 minutos, el operador cobrará el minuto 101).\n",
    "- usd_per_message: precio por SMS tras exceder los límites del paquete.\n",
    "- usd_per_gb: precio por gigabyte de los datos extra tras exceder los límites del paquete (1 GB = 1024 megabytes)."
   ]
  },
  {
   "cell_type": "markdown",
   "metadata": {
    "id": "MQi4IPy70q0y"
   },
   "source": [
    "## 1. Descripción y preparación de los datos. <a id='data_review'></a>"
   ]
  },
  {
   "cell_type": "markdown",
   "metadata": {
    "id": "vUuZw80S0q01"
   },
   "source": [
    "Los datos para este proyecto se dividen en varias tablas. Se explorará cada una para tener una comprensión inicial de los datos y, si es necesario, realizando las correcciones requeridas en cada tabla."
   ]
  },
  {
   "cell_type": "code",
   "execution_count": null,
   "metadata": {
    "id": "MtYIuBxu0q0z",
    "trusted": true
   },
   "outputs": [],
   "source": [
    "# Cargar las librerías necesarias\n",
    "import pandas as pd\n",
    "import numpy as np\n",
    "from scipy import stats as st\n",
    "import seaborn as sns\n",
    "import matplotlib.pyplot as plt"
   ]
  },
  {
   "cell_type": "code",
   "execution_count": 48,
   "metadata": {
    "id": "CCqPW7rS0q01",
    "trusted": true
   },
   "outputs": [],
   "source": [
    "# Carga los archivos de datos en diferentes DataFrames\n",
    "users_df = pd.read_csv('/datasets/megaline_users.csv')\n",
    "calls_df = pd.read_csv('/datasets/megaline_calls.csv')\n",
    "messages_df = pd.read_csv('/datasets/megaline_messages.csv')\n",
    "internet_df = pd.read_csv('/datasets/megaline_internet.csv')\n",
    "plans_df = pd.read_csv('/datasets/megaline_plans.csv')"
   ]
  },
  {
   "cell_type": "markdown",
   "metadata": {
    "id": "1n2X6WXf0q04"
   },
   "source": [
    "### 1.1 Planes. <a id='plans'></a>"
   ]
  },
  {
   "cell_type": "code",
   "execution_count": 49,
   "metadata": {
    "id": "GptqP3Q40q02",
    "trusted": true
   },
   "outputs": [
    {
     "name": "stdout",
     "output_type": "stream",
     "text": [
      "<class 'pandas.core.frame.DataFrame'>\n",
      "RangeIndex: 2 entries, 0 to 1\n",
      "Data columns (total 8 columns):\n",
      " #   Column                 Non-Null Count  Dtype  \n",
      "---  ------                 --------------  -----  \n",
      " 0   messages_included      2 non-null      int64  \n",
      " 1   mb_per_month_included  2 non-null      int64  \n",
      " 2   minutes_included       2 non-null      int64  \n",
      " 3   usd_monthly_pay        2 non-null      int64  \n",
      " 4   usd_per_gb             2 non-null      int64  \n",
      " 5   usd_per_message        2 non-null      float64\n",
      " 6   usd_per_minute         2 non-null      float64\n",
      " 7   plan_name              2 non-null      object \n",
      "dtypes: float64(2), int64(5), object(1)\n",
      "memory usage: 256.0+ bytes\n"
     ]
    }
   ],
   "source": [
    "# Imprime la información general/resumida sobre el DataFrame de las tarifas\n",
    "plans_df.info()"
   ]
  },
  {
   "cell_type": "code",
   "execution_count": 50,
   "metadata": {
    "id": "64xzjwL70q02",
    "trusted": true
   },
   "outputs": [
    {
     "data": {
      "text/html": [
       "<div>\n",
       "<style scoped>\n",
       "    .dataframe tbody tr th:only-of-type {\n",
       "        vertical-align: middle;\n",
       "    }\n",
       "\n",
       "    .dataframe tbody tr th {\n",
       "        vertical-align: top;\n",
       "    }\n",
       "\n",
       "    .dataframe thead th {\n",
       "        text-align: right;\n",
       "    }\n",
       "</style>\n",
       "<table border=\"1\" class=\"dataframe\">\n",
       "  <thead>\n",
       "    <tr style=\"text-align: right;\">\n",
       "      <th></th>\n",
       "      <th>messages_included</th>\n",
       "      <th>mb_per_month_included</th>\n",
       "      <th>minutes_included</th>\n",
       "      <th>usd_monthly_pay</th>\n",
       "      <th>usd_per_gb</th>\n",
       "      <th>usd_per_message</th>\n",
       "      <th>usd_per_minute</th>\n",
       "      <th>plan_name</th>\n",
       "    </tr>\n",
       "  </thead>\n",
       "  <tbody>\n",
       "    <tr>\n",
       "      <th>0</th>\n",
       "      <td>50</td>\n",
       "      <td>15360</td>\n",
       "      <td>500</td>\n",
       "      <td>20</td>\n",
       "      <td>10</td>\n",
       "      <td>0.03</td>\n",
       "      <td>0.03</td>\n",
       "      <td>surf</td>\n",
       "    </tr>\n",
       "    <tr>\n",
       "      <th>1</th>\n",
       "      <td>1000</td>\n",
       "      <td>30720</td>\n",
       "      <td>3000</td>\n",
       "      <td>70</td>\n",
       "      <td>7</td>\n",
       "      <td>0.01</td>\n",
       "      <td>0.01</td>\n",
       "      <td>ultimate</td>\n",
       "    </tr>\n",
       "  </tbody>\n",
       "</table>\n",
       "</div>"
      ],
      "text/plain": [
       "   messages_included  mb_per_month_included  minutes_included  \\\n",
       "0                 50                  15360               500   \n",
       "1               1000                  30720              3000   \n",
       "\n",
       "   usd_monthly_pay  usd_per_gb  usd_per_message  usd_per_minute plan_name  \n",
       "0               20          10             0.03            0.03      surf  \n",
       "1               70           7             0.01            0.01  ultimate  "
      ]
     },
     "execution_count": 50,
     "metadata": {},
     "output_type": "execute_result"
    }
   ],
   "source": [
    "# Imprime una muestra de los datos para las tarifas\n",
    "plans_df"
   ]
  },
  {
   "cell_type": "markdown",
   "metadata": {},
   "source": [
    "En nuestros registros solo se observa que la columna que describe los megabytes incluidos en el plan, no se encuentra en GB, lo cual sería más práctico dada la información de cómo se realizan los cobros. Estos deberían ser los números descritos en el plan: 15 y 30 (GB). Además, debemos incluir una corrección al título de dicha columna para que represente correctamente su contenido."
   ]
  },
  {
   "cell_type": "code",
   "execution_count": 51,
   "metadata": {
    "trusted": true
   },
   "outputs": [
    {
     "name": "stdout",
     "output_type": "stream",
     "text": [
      "<class 'pandas.core.frame.DataFrame'>\n",
      "RangeIndex: 2 entries, 0 to 1\n",
      "Data columns (total 8 columns):\n",
      " #   Column                 Non-Null Count  Dtype  \n",
      "---  ------                 --------------  -----  \n",
      " 0   messages_included      2 non-null      int64  \n",
      " 1   gb_per_month_included  2 non-null      int64  \n",
      " 2   minutes_included       2 non-null      int64  \n",
      " 3   usd_monthly_pay        2 non-null      int64  \n",
      " 4   usd_per_gb             2 non-null      int64  \n",
      " 5   usd_per_message        2 non-null      float64\n",
      " 6   usd_per_minute         2 non-null      float64\n",
      " 7   plan_name              2 non-null      object \n",
      "dtypes: float64(2), int64(5), object(1)\n",
      "memory usage: 256.0+ bytes\n",
      "None\n"
     ]
    },
    {
     "data": {
      "text/html": [
       "<div>\n",
       "<style scoped>\n",
       "    .dataframe tbody tr th:only-of-type {\n",
       "        vertical-align: middle;\n",
       "    }\n",
       "\n",
       "    .dataframe tbody tr th {\n",
       "        vertical-align: top;\n",
       "    }\n",
       "\n",
       "    .dataframe thead th {\n",
       "        text-align: right;\n",
       "    }\n",
       "</style>\n",
       "<table border=\"1\" class=\"dataframe\">\n",
       "  <thead>\n",
       "    <tr style=\"text-align: right;\">\n",
       "      <th></th>\n",
       "      <th>messages_included</th>\n",
       "      <th>gb_per_month_included</th>\n",
       "      <th>minutes_included</th>\n",
       "      <th>usd_monthly_pay</th>\n",
       "      <th>usd_per_gb</th>\n",
       "      <th>usd_per_message</th>\n",
       "      <th>usd_per_minute</th>\n",
       "      <th>plan_name</th>\n",
       "    </tr>\n",
       "  </thead>\n",
       "  <tbody>\n",
       "    <tr>\n",
       "      <th>0</th>\n",
       "      <td>50</td>\n",
       "      <td>15</td>\n",
       "      <td>500</td>\n",
       "      <td>20</td>\n",
       "      <td>10</td>\n",
       "      <td>0.03</td>\n",
       "      <td>0.03</td>\n",
       "      <td>surf</td>\n",
       "    </tr>\n",
       "    <tr>\n",
       "      <th>1</th>\n",
       "      <td>1000</td>\n",
       "      <td>30</td>\n",
       "      <td>3000</td>\n",
       "      <td>70</td>\n",
       "      <td>7</td>\n",
       "      <td>0.01</td>\n",
       "      <td>0.01</td>\n",
       "      <td>ultimate</td>\n",
       "    </tr>\n",
       "  </tbody>\n",
       "</table>\n",
       "</div>"
      ],
      "text/plain": [
       "   messages_included  gb_per_month_included  minutes_included  \\\n",
       "0                 50                     15               500   \n",
       "1               1000                     30              3000   \n",
       "\n",
       "   usd_monthly_pay  usd_per_gb  usd_per_message  usd_per_minute plan_name  \n",
       "0               20          10             0.03            0.03      surf  \n",
       "1               70           7             0.01            0.01  ultimate  "
      ]
     },
     "execution_count": 51,
     "metadata": {},
     "output_type": "execute_result"
    }
   ],
   "source": [
    "# Correcciones en plans_df.\n",
    "plans_df['mb_per_month_included'] = plans_df['mb_per_month_included'] // 1024 # Actualizar el valor de mb a gb.\n",
    "plans_df.rename(columns={'mb_per_month_included': 'gb_per_month_included'}, inplace=True) # Actualizar el nombre de la columna\n",
    "\n",
    "print(plans_df.info())\n",
    "plans_df.head()"
   ]
  },
  {
   "cell_type": "markdown",
   "metadata": {},
   "source": [
    "### 1.2. Usuarios/as. <a id='users'></a>"
   ]
  },
  {
   "cell_type": "code",
   "execution_count": 52,
   "metadata": {
    "id": "2NgjWFqx0q05",
    "trusted": true
   },
   "outputs": [
    {
     "name": "stdout",
     "output_type": "stream",
     "text": [
      "<class 'pandas.core.frame.DataFrame'>\n",
      "RangeIndex: 500 entries, 0 to 499\n",
      "Data columns (total 8 columns):\n",
      " #   Column      Non-Null Count  Dtype \n",
      "---  ------      --------------  ----- \n",
      " 0   user_id     500 non-null    int64 \n",
      " 1   first_name  500 non-null    object\n",
      " 2   last_name   500 non-null    object\n",
      " 3   age         500 non-null    int64 \n",
      " 4   city        500 non-null    object\n",
      " 5   reg_date    500 non-null    object\n",
      " 6   plan        500 non-null    object\n",
      " 7   churn_date  34 non-null     object\n",
      "dtypes: int64(2), object(6)\n",
      "memory usage: 31.4+ KB\n"
     ]
    }
   ],
   "source": [
    "# Imprime la información general/resumida sobre el DataFrame de usuarios\n",
    "users_df.info()"
   ]
  },
  {
   "cell_type": "code",
   "execution_count": 53,
   "metadata": {
    "id": "1IN1L9uh0q05",
    "trusted": true
   },
   "outputs": [
    {
     "data": {
      "text/html": [
       "<div>\n",
       "<style scoped>\n",
       "    .dataframe tbody tr th:only-of-type {\n",
       "        vertical-align: middle;\n",
       "    }\n",
       "\n",
       "    .dataframe tbody tr th {\n",
       "        vertical-align: top;\n",
       "    }\n",
       "\n",
       "    .dataframe thead th {\n",
       "        text-align: right;\n",
       "    }\n",
       "</style>\n",
       "<table border=\"1\" class=\"dataframe\">\n",
       "  <thead>\n",
       "    <tr style=\"text-align: right;\">\n",
       "      <th></th>\n",
       "      <th>user_id</th>\n",
       "      <th>first_name</th>\n",
       "      <th>last_name</th>\n",
       "      <th>age</th>\n",
       "      <th>city</th>\n",
       "      <th>reg_date</th>\n",
       "      <th>plan</th>\n",
       "      <th>churn_date</th>\n",
       "    </tr>\n",
       "  </thead>\n",
       "  <tbody>\n",
       "    <tr>\n",
       "      <th>363</th>\n",
       "      <td>1363</td>\n",
       "      <td>Sandee</td>\n",
       "      <td>Lott</td>\n",
       "      <td>33</td>\n",
       "      <td>Seattle-Tacoma-Bellevue, WA MSA</td>\n",
       "      <td>2018-01-05</td>\n",
       "      <td>ultimate</td>\n",
       "      <td>2018-08-16</td>\n",
       "    </tr>\n",
       "    <tr>\n",
       "      <th>200</th>\n",
       "      <td>1200</td>\n",
       "      <td>Delmar</td>\n",
       "      <td>Cross</td>\n",
       "      <td>45</td>\n",
       "      <td>Boston-Cambridge-Newton, MA-NH MSA</td>\n",
       "      <td>2018-11-27</td>\n",
       "      <td>surf</td>\n",
       "      <td>NaN</td>\n",
       "    </tr>\n",
       "    <tr>\n",
       "      <th>317</th>\n",
       "      <td>1317</td>\n",
       "      <td>Ruthanne</td>\n",
       "      <td>Heath</td>\n",
       "      <td>70</td>\n",
       "      <td>Phoenix-Mesa-Chandler, AZ MSA</td>\n",
       "      <td>2018-11-11</td>\n",
       "      <td>ultimate</td>\n",
       "      <td>NaN</td>\n",
       "    </tr>\n",
       "    <tr>\n",
       "      <th>264</th>\n",
       "      <td>1264</td>\n",
       "      <td>Jessie</td>\n",
       "      <td>Hill</td>\n",
       "      <td>69</td>\n",
       "      <td>Los Angeles-Long Beach-Anaheim, CA MSA</td>\n",
       "      <td>2018-05-03</td>\n",
       "      <td>ultimate</td>\n",
       "      <td>NaN</td>\n",
       "    </tr>\n",
       "    <tr>\n",
       "      <th>116</th>\n",
       "      <td>1116</td>\n",
       "      <td>Moriah</td>\n",
       "      <td>Yates</td>\n",
       "      <td>60</td>\n",
       "      <td>Cincinnati, OH-KY-IN MSA</td>\n",
       "      <td>2018-08-08</td>\n",
       "      <td>surf</td>\n",
       "      <td>NaN</td>\n",
       "    </tr>\n",
       "  </tbody>\n",
       "</table>\n",
       "</div>"
      ],
      "text/plain": [
       "     user_id first_name last_name  age  \\\n",
       "363     1363     Sandee      Lott   33   \n",
       "200     1200     Delmar     Cross   45   \n",
       "317     1317   Ruthanne     Heath   70   \n",
       "264     1264     Jessie      Hill   69   \n",
       "116     1116     Moriah     Yates   60   \n",
       "\n",
       "                                       city    reg_date      plan  churn_date  \n",
       "363         Seattle-Tacoma-Bellevue, WA MSA  2018-01-05  ultimate  2018-08-16  \n",
       "200      Boston-Cambridge-Newton, MA-NH MSA  2018-11-27      surf         NaN  \n",
       "317           Phoenix-Mesa-Chandler, AZ MSA  2018-11-11  ultimate         NaN  \n",
       "264  Los Angeles-Long Beach-Anaheim, CA MSA  2018-05-03  ultimate         NaN  \n",
       "116                Cincinnati, OH-KY-IN MSA  2018-08-08      surf         NaN  "
      ]
     },
     "execution_count": 53,
     "metadata": {},
     "output_type": "execute_result"
    }
   ],
   "source": [
    "# Imprime una muestra de datos para usuarios\n",
    "users_df.sample(5)"
   ]
  },
  {
   "cell_type": "markdown",
   "metadata": {},
   "source": [
    "En el caso de esta tabla encontramos que la columna user_id es del tipo int, esto podría cambiarse al tipo string (object). Otra observación es sobre las columnas reg_date y churn_date las cuales podrían ser del tipo datetime. No se observan valores ausentes que no sean justificados."
   ]
  },
  {
   "cell_type": "code",
   "execution_count": 54,
   "metadata": {
    "id": "Y7SVmjGn0q03",
    "trusted": true
   },
   "outputs": [
    {
     "name": "stdout",
     "output_type": "stream",
     "text": [
      "<class 'pandas.core.frame.DataFrame'>\n",
      "RangeIndex: 500 entries, 0 to 499\n",
      "Data columns (total 8 columns):\n",
      " #   Column      Non-Null Count  Dtype         \n",
      "---  ------      --------------  -----         \n",
      " 0   user_id     500 non-null    object        \n",
      " 1   first_name  500 non-null    object        \n",
      " 2   last_name   500 non-null    object        \n",
      " 3   age         500 non-null    int64         \n",
      " 4   city        500 non-null    object        \n",
      " 5   reg_date    500 non-null    datetime64[ns]\n",
      " 6   plan        500 non-null    object        \n",
      " 7   churn_date  34 non-null     datetime64[ns]\n",
      "dtypes: datetime64[ns](2), int64(1), object(5)\n",
      "memory usage: 31.4+ KB\n",
      "None\n"
     ]
    },
    {
     "data": {
      "text/html": [
       "<div>\n",
       "<style scoped>\n",
       "    .dataframe tbody tr th:only-of-type {\n",
       "        vertical-align: middle;\n",
       "    }\n",
       "\n",
       "    .dataframe tbody tr th {\n",
       "        vertical-align: top;\n",
       "    }\n",
       "\n",
       "    .dataframe thead th {\n",
       "        text-align: right;\n",
       "    }\n",
       "</style>\n",
       "<table border=\"1\" class=\"dataframe\">\n",
       "  <thead>\n",
       "    <tr style=\"text-align: right;\">\n",
       "      <th></th>\n",
       "      <th>user_id</th>\n",
       "      <th>first_name</th>\n",
       "      <th>last_name</th>\n",
       "      <th>age</th>\n",
       "      <th>city</th>\n",
       "      <th>reg_date</th>\n",
       "      <th>plan</th>\n",
       "      <th>churn_date</th>\n",
       "    </tr>\n",
       "  </thead>\n",
       "  <tbody>\n",
       "    <tr>\n",
       "      <th>0</th>\n",
       "      <td>1000</td>\n",
       "      <td>Anamaria</td>\n",
       "      <td>Bauer</td>\n",
       "      <td>45</td>\n",
       "      <td>Atlanta-Sandy Springs-Roswell, GA MSA</td>\n",
       "      <td>2018-12-24</td>\n",
       "      <td>ultimate</td>\n",
       "      <td>NaT</td>\n",
       "    </tr>\n",
       "    <tr>\n",
       "      <th>1</th>\n",
       "      <td>1001</td>\n",
       "      <td>Mickey</td>\n",
       "      <td>Wilkerson</td>\n",
       "      <td>28</td>\n",
       "      <td>Seattle-Tacoma-Bellevue, WA MSA</td>\n",
       "      <td>2018-08-13</td>\n",
       "      <td>surf</td>\n",
       "      <td>NaT</td>\n",
       "    </tr>\n",
       "    <tr>\n",
       "      <th>2</th>\n",
       "      <td>1002</td>\n",
       "      <td>Carlee</td>\n",
       "      <td>Hoffman</td>\n",
       "      <td>36</td>\n",
       "      <td>Las Vegas-Henderson-Paradise, NV MSA</td>\n",
       "      <td>2018-10-21</td>\n",
       "      <td>surf</td>\n",
       "      <td>NaT</td>\n",
       "    </tr>\n",
       "    <tr>\n",
       "      <th>3</th>\n",
       "      <td>1003</td>\n",
       "      <td>Reynaldo</td>\n",
       "      <td>Jenkins</td>\n",
       "      <td>52</td>\n",
       "      <td>Tulsa, OK MSA</td>\n",
       "      <td>2018-01-28</td>\n",
       "      <td>surf</td>\n",
       "      <td>NaT</td>\n",
       "    </tr>\n",
       "    <tr>\n",
       "      <th>4</th>\n",
       "      <td>1004</td>\n",
       "      <td>Leonila</td>\n",
       "      <td>Thompson</td>\n",
       "      <td>40</td>\n",
       "      <td>Seattle-Tacoma-Bellevue, WA MSA</td>\n",
       "      <td>2018-05-23</td>\n",
       "      <td>surf</td>\n",
       "      <td>NaT</td>\n",
       "    </tr>\n",
       "  </tbody>\n",
       "</table>\n",
       "</div>"
      ],
      "text/plain": [
       "  user_id first_name  last_name  age                                   city  \\\n",
       "0    1000   Anamaria      Bauer   45  Atlanta-Sandy Springs-Roswell, GA MSA   \n",
       "1    1001     Mickey  Wilkerson   28        Seattle-Tacoma-Bellevue, WA MSA   \n",
       "2    1002     Carlee    Hoffman   36   Las Vegas-Henderson-Paradise, NV MSA   \n",
       "3    1003   Reynaldo    Jenkins   52                          Tulsa, OK MSA   \n",
       "4    1004    Leonila   Thompson   40        Seattle-Tacoma-Bellevue, WA MSA   \n",
       "\n",
       "    reg_date      plan churn_date  \n",
       "0 2018-12-24  ultimate        NaT  \n",
       "1 2018-08-13      surf        NaT  \n",
       "2 2018-10-21      surf        NaT  \n",
       "3 2018-01-28      surf        NaT  \n",
       "4 2018-05-23      surf        NaT  "
      ]
     },
     "execution_count": 54,
     "metadata": {},
     "output_type": "execute_result"
    }
   ],
   "source": [
    "# Correcciones en users_df.\n",
    "users_df['user_id'] = users_df['user_id'].astype('object') # Cambio del tipo de dato de int a object.\n",
    "users_df['reg_date'] = pd.to_datetime(users_df['reg_date']) # Cambio del tipo de dato de object a datetime.\n",
    "users_df['churn_date'] = pd.to_datetime(users_df['churn_date']) # Cambio del tipo de dato de object a datetime.\n",
    "\n",
    "print(users_df.info())\n",
    "users_df.head()"
   ]
  },
  {
   "cell_type": "markdown",
   "metadata": {
    "id": "o7MeKCid0q08"
   },
   "source": [
    "### 1.3. Llamadas. <a id='calls'></a>"
   ]
  },
  {
   "cell_type": "code",
   "execution_count": 55,
   "metadata": {
    "id": "6dDlnoDm0q08",
    "trusted": true
   },
   "outputs": [
    {
     "name": "stdout",
     "output_type": "stream",
     "text": [
      "<class 'pandas.core.frame.DataFrame'>\n",
      "RangeIndex: 137735 entries, 0 to 137734\n",
      "Data columns (total 4 columns):\n",
      " #   Column     Non-Null Count   Dtype  \n",
      "---  ------     --------------   -----  \n",
      " 0   id         137735 non-null  object \n",
      " 1   user_id    137735 non-null  int64  \n",
      " 2   call_date  137735 non-null  object \n",
      " 3   duration   137735 non-null  float64\n",
      "dtypes: float64(1), int64(1), object(2)\n",
      "memory usage: 4.2+ MB\n"
     ]
    }
   ],
   "source": [
    "# Imprime la información general/resumida sobre el DataFrame de las llamadas\n",
    "calls_df.info()"
   ]
  },
  {
   "cell_type": "code",
   "execution_count": 56,
   "metadata": {
    "id": "kuh1vlNB0q09",
    "trusted": true
   },
   "outputs": [
    {
     "data": {
      "text/html": [
       "<div>\n",
       "<style scoped>\n",
       "    .dataframe tbody tr th:only-of-type {\n",
       "        vertical-align: middle;\n",
       "    }\n",
       "\n",
       "    .dataframe tbody tr th {\n",
       "        vertical-align: top;\n",
       "    }\n",
       "\n",
       "    .dataframe thead th {\n",
       "        text-align: right;\n",
       "    }\n",
       "</style>\n",
       "<table border=\"1\" class=\"dataframe\">\n",
       "  <thead>\n",
       "    <tr style=\"text-align: right;\">\n",
       "      <th></th>\n",
       "      <th>id</th>\n",
       "      <th>user_id</th>\n",
       "      <th>call_date</th>\n",
       "      <th>duration</th>\n",
       "    </tr>\n",
       "  </thead>\n",
       "  <tbody>\n",
       "    <tr>\n",
       "      <th>2081</th>\n",
       "      <td>1009_503</td>\n",
       "      <td>1009</td>\n",
       "      <td>2018-05-21</td>\n",
       "      <td>10.87</td>\n",
       "    </tr>\n",
       "    <tr>\n",
       "      <th>47770</th>\n",
       "      <td>1172_361</td>\n",
       "      <td>1172</td>\n",
       "      <td>2018-09-27</td>\n",
       "      <td>2.91</td>\n",
       "    </tr>\n",
       "    <tr>\n",
       "      <th>32677</th>\n",
       "      <td>1123_35</td>\n",
       "      <td>1123</td>\n",
       "      <td>2018-07-06</td>\n",
       "      <td>6.18</td>\n",
       "    </tr>\n",
       "    <tr>\n",
       "      <th>23825</th>\n",
       "      <td>1088_320</td>\n",
       "      <td>1088</td>\n",
       "      <td>2018-12-26</td>\n",
       "      <td>5.39</td>\n",
       "    </tr>\n",
       "    <tr>\n",
       "      <th>25564</th>\n",
       "      <td>1098_249</td>\n",
       "      <td>1098</td>\n",
       "      <td>2018-08-31</td>\n",
       "      <td>17.84</td>\n",
       "    </tr>\n",
       "  </tbody>\n",
       "</table>\n",
       "</div>"
      ],
      "text/plain": [
       "             id  user_id   call_date  duration\n",
       "2081   1009_503     1009  2018-05-21     10.87\n",
       "47770  1172_361     1172  2018-09-27      2.91\n",
       "32677   1123_35     1123  2018-07-06      6.18\n",
       "23825  1088_320     1088  2018-12-26      5.39\n",
       "25564  1098_249     1098  2018-08-31     17.84"
      ]
     },
     "execution_count": 56,
     "metadata": {},
     "output_type": "execute_result"
    }
   ],
   "source": [
    "# Imprime una muestra de datos para las llamadas\n",
    "calls_df.sample(5)"
   ]
  },
  {
   "cell_type": "markdown",
   "metadata": {},
   "source": [
    "En el caso de esta tabla encontramos que la columna user_id es del tipo int, esto podría cambiarse al tipo string (object). Otra observación es sobre la columna call_date la cual podría ser del tipo datetime. No se observan valores ausentes."
   ]
  },
  {
   "cell_type": "code",
   "execution_count": 57,
   "metadata": {
    "trusted": true
   },
   "outputs": [
    {
     "name": "stdout",
     "output_type": "stream",
     "text": [
      "<class 'pandas.core.frame.DataFrame'>\n",
      "RangeIndex: 137735 entries, 0 to 137734\n",
      "Data columns (total 4 columns):\n",
      " #   Column     Non-Null Count   Dtype         \n",
      "---  ------     --------------   -----         \n",
      " 0   id         137735 non-null  object        \n",
      " 1   user_id    137735 non-null  object        \n",
      " 2   call_date  137735 non-null  datetime64[ns]\n",
      " 3   duration   137735 non-null  float64       \n",
      "dtypes: datetime64[ns](1), float64(1), object(2)\n",
      "memory usage: 4.2+ MB\n",
      "None\n"
     ]
    },
    {
     "data": {
      "text/html": [
       "<div>\n",
       "<style scoped>\n",
       "    .dataframe tbody tr th:only-of-type {\n",
       "        vertical-align: middle;\n",
       "    }\n",
       "\n",
       "    .dataframe tbody tr th {\n",
       "        vertical-align: top;\n",
       "    }\n",
       "\n",
       "    .dataframe thead th {\n",
       "        text-align: right;\n",
       "    }\n",
       "</style>\n",
       "<table border=\"1\" class=\"dataframe\">\n",
       "  <thead>\n",
       "    <tr style=\"text-align: right;\">\n",
       "      <th></th>\n",
       "      <th>id</th>\n",
       "      <th>user_id</th>\n",
       "      <th>call_date</th>\n",
       "      <th>duration</th>\n",
       "    </tr>\n",
       "  </thead>\n",
       "  <tbody>\n",
       "    <tr>\n",
       "      <th>0</th>\n",
       "      <td>1000_93</td>\n",
       "      <td>1000</td>\n",
       "      <td>2018-12-27</td>\n",
       "      <td>8.52</td>\n",
       "    </tr>\n",
       "    <tr>\n",
       "      <th>1</th>\n",
       "      <td>1000_145</td>\n",
       "      <td>1000</td>\n",
       "      <td>2018-12-27</td>\n",
       "      <td>13.66</td>\n",
       "    </tr>\n",
       "    <tr>\n",
       "      <th>2</th>\n",
       "      <td>1000_247</td>\n",
       "      <td>1000</td>\n",
       "      <td>2018-12-27</td>\n",
       "      <td>14.48</td>\n",
       "    </tr>\n",
       "    <tr>\n",
       "      <th>3</th>\n",
       "      <td>1000_309</td>\n",
       "      <td>1000</td>\n",
       "      <td>2018-12-28</td>\n",
       "      <td>5.76</td>\n",
       "    </tr>\n",
       "    <tr>\n",
       "      <th>4</th>\n",
       "      <td>1000_380</td>\n",
       "      <td>1000</td>\n",
       "      <td>2018-12-30</td>\n",
       "      <td>4.22</td>\n",
       "    </tr>\n",
       "  </tbody>\n",
       "</table>\n",
       "</div>"
      ],
      "text/plain": [
       "         id user_id  call_date  duration\n",
       "0   1000_93    1000 2018-12-27      8.52\n",
       "1  1000_145    1000 2018-12-27     13.66\n",
       "2  1000_247    1000 2018-12-27     14.48\n",
       "3  1000_309    1000 2018-12-28      5.76\n",
       "4  1000_380    1000 2018-12-30      4.22"
      ]
     },
     "execution_count": 57,
     "metadata": {},
     "output_type": "execute_result"
    }
   ],
   "source": [
    "# Correcciones en calls_df.\n",
    "calls_df['user_id'] = calls_df['user_id'].astype('object') # Cambio del tipo de dato de int a object.\n",
    "calls_df['call_date'] = pd.to_datetime(calls_df['call_date']) # Cambio del tipo de dato de object a datetime.\n",
    "\n",
    "print(calls_df.info())\n",
    "calls_df.head()"
   ]
  },
  {
   "cell_type": "markdown",
   "metadata": {},
   "source": [
    "Usaremos una nueva columna para representar el mes de cada llamada en esta tabla; será útil para futuras evaluaciones."
   ]
  },
  {
   "cell_type": "code",
   "execution_count": 58,
   "metadata": {
    "id": "iZ1avpA_0q0_",
    "trusted": true
   },
   "outputs": [
    {
     "data": {
      "text/html": [
       "<div>\n",
       "<style scoped>\n",
       "    .dataframe tbody tr th:only-of-type {\n",
       "        vertical-align: middle;\n",
       "    }\n",
       "\n",
       "    .dataframe tbody tr th {\n",
       "        vertical-align: top;\n",
       "    }\n",
       "\n",
       "    .dataframe thead th {\n",
       "        text-align: right;\n",
       "    }\n",
       "</style>\n",
       "<table border=\"1\" class=\"dataframe\">\n",
       "  <thead>\n",
       "    <tr style=\"text-align: right;\">\n",
       "      <th></th>\n",
       "      <th>id</th>\n",
       "      <th>user_id</th>\n",
       "      <th>call_date</th>\n",
       "      <th>duration</th>\n",
       "      <th>call_date_month</th>\n",
       "    </tr>\n",
       "  </thead>\n",
       "  <tbody>\n",
       "    <tr>\n",
       "      <th>0</th>\n",
       "      <td>1000_93</td>\n",
       "      <td>1000</td>\n",
       "      <td>2018-12-27</td>\n",
       "      <td>8.52</td>\n",
       "      <td>12</td>\n",
       "    </tr>\n",
       "    <tr>\n",
       "      <th>1</th>\n",
       "      <td>1000_145</td>\n",
       "      <td>1000</td>\n",
       "      <td>2018-12-27</td>\n",
       "      <td>13.66</td>\n",
       "      <td>12</td>\n",
       "    </tr>\n",
       "    <tr>\n",
       "      <th>2</th>\n",
       "      <td>1000_247</td>\n",
       "      <td>1000</td>\n",
       "      <td>2018-12-27</td>\n",
       "      <td>14.48</td>\n",
       "      <td>12</td>\n",
       "    </tr>\n",
       "    <tr>\n",
       "      <th>3</th>\n",
       "      <td>1000_309</td>\n",
       "      <td>1000</td>\n",
       "      <td>2018-12-28</td>\n",
       "      <td>5.76</td>\n",
       "      <td>12</td>\n",
       "    </tr>\n",
       "    <tr>\n",
       "      <th>4</th>\n",
       "      <td>1000_380</td>\n",
       "      <td>1000</td>\n",
       "      <td>2018-12-30</td>\n",
       "      <td>4.22</td>\n",
       "      <td>12</td>\n",
       "    </tr>\n",
       "    <tr>\n",
       "      <th>...</th>\n",
       "      <td>...</td>\n",
       "      <td>...</td>\n",
       "      <td>...</td>\n",
       "      <td>...</td>\n",
       "      <td>...</td>\n",
       "    </tr>\n",
       "    <tr>\n",
       "      <th>137730</th>\n",
       "      <td>1499_199</td>\n",
       "      <td>1499</td>\n",
       "      <td>2018-11-21</td>\n",
       "      <td>8.72</td>\n",
       "      <td>11</td>\n",
       "    </tr>\n",
       "    <tr>\n",
       "      <th>137731</th>\n",
       "      <td>1499_200</td>\n",
       "      <td>1499</td>\n",
       "      <td>2018-10-20</td>\n",
       "      <td>10.89</td>\n",
       "      <td>10</td>\n",
       "    </tr>\n",
       "    <tr>\n",
       "      <th>137732</th>\n",
       "      <td>1499_201</td>\n",
       "      <td>1499</td>\n",
       "      <td>2018-09-21</td>\n",
       "      <td>8.12</td>\n",
       "      <td>9</td>\n",
       "    </tr>\n",
       "    <tr>\n",
       "      <th>137733</th>\n",
       "      <td>1499_202</td>\n",
       "      <td>1499</td>\n",
       "      <td>2018-10-10</td>\n",
       "      <td>0.37</td>\n",
       "      <td>10</td>\n",
       "    </tr>\n",
       "    <tr>\n",
       "      <th>137734</th>\n",
       "      <td>1499_203</td>\n",
       "      <td>1499</td>\n",
       "      <td>2018-12-29</td>\n",
       "      <td>13.86</td>\n",
       "      <td>12</td>\n",
       "    </tr>\n",
       "  </tbody>\n",
       "</table>\n",
       "<p>137735 rows × 5 columns</p>\n",
       "</div>"
      ],
      "text/plain": [
       "              id user_id  call_date  duration  call_date_month\n",
       "0        1000_93    1000 2018-12-27      8.52               12\n",
       "1       1000_145    1000 2018-12-27     13.66               12\n",
       "2       1000_247    1000 2018-12-27     14.48               12\n",
       "3       1000_309    1000 2018-12-28      5.76               12\n",
       "4       1000_380    1000 2018-12-30      4.22               12\n",
       "...          ...     ...        ...       ...              ...\n",
       "137730  1499_199    1499 2018-11-21      8.72               11\n",
       "137731  1499_200    1499 2018-10-20     10.89               10\n",
       "137732  1499_201    1499 2018-09-21      8.12                9\n",
       "137733  1499_202    1499 2018-10-10      0.37               10\n",
       "137734  1499_203    1499 2018-12-29     13.86               12\n",
       "\n",
       "[137735 rows x 5 columns]"
      ]
     },
     "execution_count": 58,
     "metadata": {},
     "output_type": "execute_result"
    }
   ],
   "source": [
    "# Adicionar la columna de mes.\n",
    "calls_df['call_date_month'] = calls_df['call_date'].dt.month\n",
    "calls_df"
   ]
  },
  {
   "cell_type": "markdown",
   "metadata": {
    "id": "mOUZSi180q0_"
   },
   "source": [
    "### 1.4. Mensajes. <a id='messages'></a>"
   ]
  },
  {
   "cell_type": "code",
   "execution_count": 59,
   "metadata": {
    "id": "R-bYJpdV0q1A",
    "trusted": true
   },
   "outputs": [
    {
     "name": "stdout",
     "output_type": "stream",
     "text": [
      "<class 'pandas.core.frame.DataFrame'>\n",
      "RangeIndex: 76051 entries, 0 to 76050\n",
      "Data columns (total 3 columns):\n",
      " #   Column        Non-Null Count  Dtype \n",
      "---  ------        --------------  ----- \n",
      " 0   id            76051 non-null  object\n",
      " 1   user_id       76051 non-null  int64 \n",
      " 2   message_date  76051 non-null  object\n",
      "dtypes: int64(1), object(2)\n",
      "memory usage: 1.7+ MB\n"
     ]
    }
   ],
   "source": [
    "# Imprime la información general/resumida sobre el DataFrame de los mensajes\n",
    "messages_df.info()"
   ]
  },
  {
   "cell_type": "code",
   "execution_count": 60,
   "metadata": {
    "id": "mCEl2iGE0q1A",
    "trusted": true
   },
   "outputs": [
    {
     "data": {
      "text/html": [
       "<div>\n",
       "<style scoped>\n",
       "    .dataframe tbody tr th:only-of-type {\n",
       "        vertical-align: middle;\n",
       "    }\n",
       "\n",
       "    .dataframe tbody tr th {\n",
       "        vertical-align: top;\n",
       "    }\n",
       "\n",
       "    .dataframe thead th {\n",
       "        text-align: right;\n",
       "    }\n",
       "</style>\n",
       "<table border=\"1\" class=\"dataframe\">\n",
       "  <thead>\n",
       "    <tr style=\"text-align: right;\">\n",
       "      <th></th>\n",
       "      <th>id</th>\n",
       "      <th>user_id</th>\n",
       "      <th>message_date</th>\n",
       "    </tr>\n",
       "  </thead>\n",
       "  <tbody>\n",
       "    <tr>\n",
       "      <th>47566</th>\n",
       "      <td>1324_281</td>\n",
       "      <td>1324</td>\n",
       "      <td>2018-07-28</td>\n",
       "    </tr>\n",
       "    <tr>\n",
       "      <th>9483</th>\n",
       "      <td>1069_564</td>\n",
       "      <td>1069</td>\n",
       "      <td>2018-10-11</td>\n",
       "    </tr>\n",
       "    <tr>\n",
       "      <th>27347</th>\n",
       "      <td>1167_304</td>\n",
       "      <td>1167</td>\n",
       "      <td>2018-10-23</td>\n",
       "    </tr>\n",
       "    <tr>\n",
       "      <th>46938</th>\n",
       "      <td>1320_182</td>\n",
       "      <td>1320</td>\n",
       "      <td>2018-07-21</td>\n",
       "    </tr>\n",
       "    <tr>\n",
       "      <th>51187</th>\n",
       "      <td>1331_362</td>\n",
       "      <td>1331</td>\n",
       "      <td>2018-09-02</td>\n",
       "    </tr>\n",
       "  </tbody>\n",
       "</table>\n",
       "</div>"
      ],
      "text/plain": [
       "             id  user_id message_date\n",
       "47566  1324_281     1324   2018-07-28\n",
       "9483   1069_564     1069   2018-10-11\n",
       "27347  1167_304     1167   2018-10-23\n",
       "46938  1320_182     1320   2018-07-21\n",
       "51187  1331_362     1331   2018-09-02"
      ]
     },
     "execution_count": 60,
     "metadata": {},
     "output_type": "execute_result"
    }
   ],
   "source": [
    "# Imprime una muestra de datos para los mensajes\n",
    "messages_df.sample(5)"
   ]
  },
  {
   "cell_type": "markdown",
   "metadata": {},
   "source": [
    "En el caso de esta tabla encontramos que la columna user_id es del tipo int, esto podría cambiarse al tipo string (object). Otra observación es sobre la columna message_date la cual podría ser del tipo datetime. No se observan valores ausentes."
   ]
  },
  {
   "cell_type": "code",
   "execution_count": 61,
   "metadata": {
    "trusted": true
   },
   "outputs": [
    {
     "name": "stdout",
     "output_type": "stream",
     "text": [
      "<class 'pandas.core.frame.DataFrame'>\n",
      "RangeIndex: 76051 entries, 0 to 76050\n",
      "Data columns (total 3 columns):\n",
      " #   Column        Non-Null Count  Dtype         \n",
      "---  ------        --------------  -----         \n",
      " 0   id            76051 non-null  object        \n",
      " 1   user_id       76051 non-null  object        \n",
      " 2   message_date  76051 non-null  datetime64[ns]\n",
      "dtypes: datetime64[ns](1), object(2)\n",
      "memory usage: 1.7+ MB\n",
      "None\n"
     ]
    },
    {
     "data": {
      "text/html": [
       "<div>\n",
       "<style scoped>\n",
       "    .dataframe tbody tr th:only-of-type {\n",
       "        vertical-align: middle;\n",
       "    }\n",
       "\n",
       "    .dataframe tbody tr th {\n",
       "        vertical-align: top;\n",
       "    }\n",
       "\n",
       "    .dataframe thead th {\n",
       "        text-align: right;\n",
       "    }\n",
       "</style>\n",
       "<table border=\"1\" class=\"dataframe\">\n",
       "  <thead>\n",
       "    <tr style=\"text-align: right;\">\n",
       "      <th></th>\n",
       "      <th>id</th>\n",
       "      <th>user_id</th>\n",
       "      <th>message_date</th>\n",
       "    </tr>\n",
       "  </thead>\n",
       "  <tbody>\n",
       "    <tr>\n",
       "      <th>0</th>\n",
       "      <td>1000_125</td>\n",
       "      <td>1000</td>\n",
       "      <td>2018-12-27</td>\n",
       "    </tr>\n",
       "    <tr>\n",
       "      <th>1</th>\n",
       "      <td>1000_160</td>\n",
       "      <td>1000</td>\n",
       "      <td>2018-12-31</td>\n",
       "    </tr>\n",
       "    <tr>\n",
       "      <th>2</th>\n",
       "      <td>1000_223</td>\n",
       "      <td>1000</td>\n",
       "      <td>2018-12-31</td>\n",
       "    </tr>\n",
       "    <tr>\n",
       "      <th>3</th>\n",
       "      <td>1000_251</td>\n",
       "      <td>1000</td>\n",
       "      <td>2018-12-27</td>\n",
       "    </tr>\n",
       "    <tr>\n",
       "      <th>4</th>\n",
       "      <td>1000_255</td>\n",
       "      <td>1000</td>\n",
       "      <td>2018-12-26</td>\n",
       "    </tr>\n",
       "  </tbody>\n",
       "</table>\n",
       "</div>"
      ],
      "text/plain": [
       "         id user_id message_date\n",
       "0  1000_125    1000   2018-12-27\n",
       "1  1000_160    1000   2018-12-31\n",
       "2  1000_223    1000   2018-12-31\n",
       "3  1000_251    1000   2018-12-27\n",
       "4  1000_255    1000   2018-12-26"
      ]
     },
     "execution_count": 61,
     "metadata": {},
     "output_type": "execute_result"
    }
   ],
   "source": [
    "# Correcciones en messages_df.\n",
    "messages_df['user_id'] = messages_df['user_id'].astype('object') # Cambio del tipo de dato de int a object.\n",
    "messages_df['message_date'] = pd.to_datetime(messages_df['message_date']) # Cambio del tipo de dato de object a datetime.\n",
    "\n",
    "print(messages_df.info())\n",
    "messages_df.head()"
   ]
  },
  {
   "cell_type": "markdown",
   "metadata": {},
   "source": [
    "Nuevamente, usaremos una nueva columna para representar el mes de cada mensaje."
   ]
  },
  {
   "cell_type": "code",
   "execution_count": 62,
   "metadata": {
    "id": "zYEXZac10q1C",
    "trusted": true
   },
   "outputs": [
    {
     "data": {
      "text/html": [
       "<div>\n",
       "<style scoped>\n",
       "    .dataframe tbody tr th:only-of-type {\n",
       "        vertical-align: middle;\n",
       "    }\n",
       "\n",
       "    .dataframe tbody tr th {\n",
       "        vertical-align: top;\n",
       "    }\n",
       "\n",
       "    .dataframe thead th {\n",
       "        text-align: right;\n",
       "    }\n",
       "</style>\n",
       "<table border=\"1\" class=\"dataframe\">\n",
       "  <thead>\n",
       "    <tr style=\"text-align: right;\">\n",
       "      <th></th>\n",
       "      <th>id</th>\n",
       "      <th>user_id</th>\n",
       "      <th>message_date</th>\n",
       "      <th>message_date_month</th>\n",
       "    </tr>\n",
       "  </thead>\n",
       "  <tbody>\n",
       "    <tr>\n",
       "      <th>0</th>\n",
       "      <td>1000_125</td>\n",
       "      <td>1000</td>\n",
       "      <td>2018-12-27</td>\n",
       "      <td>12</td>\n",
       "    </tr>\n",
       "    <tr>\n",
       "      <th>1</th>\n",
       "      <td>1000_160</td>\n",
       "      <td>1000</td>\n",
       "      <td>2018-12-31</td>\n",
       "      <td>12</td>\n",
       "    </tr>\n",
       "    <tr>\n",
       "      <th>2</th>\n",
       "      <td>1000_223</td>\n",
       "      <td>1000</td>\n",
       "      <td>2018-12-31</td>\n",
       "      <td>12</td>\n",
       "    </tr>\n",
       "    <tr>\n",
       "      <th>3</th>\n",
       "      <td>1000_251</td>\n",
       "      <td>1000</td>\n",
       "      <td>2018-12-27</td>\n",
       "      <td>12</td>\n",
       "    </tr>\n",
       "    <tr>\n",
       "      <th>4</th>\n",
       "      <td>1000_255</td>\n",
       "      <td>1000</td>\n",
       "      <td>2018-12-26</td>\n",
       "      <td>12</td>\n",
       "    </tr>\n",
       "    <tr>\n",
       "      <th>...</th>\n",
       "      <td>...</td>\n",
       "      <td>...</td>\n",
       "      <td>...</td>\n",
       "      <td>...</td>\n",
       "    </tr>\n",
       "    <tr>\n",
       "      <th>76046</th>\n",
       "      <td>1497_526</td>\n",
       "      <td>1497</td>\n",
       "      <td>2018-12-24</td>\n",
       "      <td>12</td>\n",
       "    </tr>\n",
       "    <tr>\n",
       "      <th>76047</th>\n",
       "      <td>1497_536</td>\n",
       "      <td>1497</td>\n",
       "      <td>2018-12-24</td>\n",
       "      <td>12</td>\n",
       "    </tr>\n",
       "    <tr>\n",
       "      <th>76048</th>\n",
       "      <td>1497_547</td>\n",
       "      <td>1497</td>\n",
       "      <td>2018-12-31</td>\n",
       "      <td>12</td>\n",
       "    </tr>\n",
       "    <tr>\n",
       "      <th>76049</th>\n",
       "      <td>1497_558</td>\n",
       "      <td>1497</td>\n",
       "      <td>2018-12-24</td>\n",
       "      <td>12</td>\n",
       "    </tr>\n",
       "    <tr>\n",
       "      <th>76050</th>\n",
       "      <td>1497_613</td>\n",
       "      <td>1497</td>\n",
       "      <td>2018-12-23</td>\n",
       "      <td>12</td>\n",
       "    </tr>\n",
       "  </tbody>\n",
       "</table>\n",
       "<p>76051 rows × 4 columns</p>\n",
       "</div>"
      ],
      "text/plain": [
       "             id user_id message_date  message_date_month\n",
       "0      1000_125    1000   2018-12-27                  12\n",
       "1      1000_160    1000   2018-12-31                  12\n",
       "2      1000_223    1000   2018-12-31                  12\n",
       "3      1000_251    1000   2018-12-27                  12\n",
       "4      1000_255    1000   2018-12-26                  12\n",
       "...         ...     ...          ...                 ...\n",
       "76046  1497_526    1497   2018-12-24                  12\n",
       "76047  1497_536    1497   2018-12-24                  12\n",
       "76048  1497_547    1497   2018-12-31                  12\n",
       "76049  1497_558    1497   2018-12-24                  12\n",
       "76050  1497_613    1497   2018-12-23                  12\n",
       "\n",
       "[76051 rows x 4 columns]"
      ]
     },
     "execution_count": 62,
     "metadata": {},
     "output_type": "execute_result"
    }
   ],
   "source": [
    "# Adicionar la columna de mes.\n",
    "messages_df['message_date_month'] = messages_df['message_date'].dt.month\n",
    "messages_df"
   ]
  },
  {
   "cell_type": "markdown",
   "metadata": {
    "id": "bStkaxn40q1C"
   },
   "source": [
    "### 1.5. Internet. <a id='data'></a>"
   ]
  },
  {
   "cell_type": "code",
   "execution_count": 63,
   "metadata": {
    "id": "e-Uz5qyn0q1C",
    "trusted": true
   },
   "outputs": [
    {
     "name": "stdout",
     "output_type": "stream",
     "text": [
      "<class 'pandas.core.frame.DataFrame'>\n",
      "RangeIndex: 104825 entries, 0 to 104824\n",
      "Data columns (total 4 columns):\n",
      " #   Column        Non-Null Count   Dtype  \n",
      "---  ------        --------------   -----  \n",
      " 0   id            104825 non-null  object \n",
      " 1   user_id       104825 non-null  int64  \n",
      " 2   session_date  104825 non-null  object \n",
      " 3   mb_used       104825 non-null  float64\n",
      "dtypes: float64(1), int64(1), object(2)\n",
      "memory usage: 3.2+ MB\n"
     ]
    }
   ],
   "source": [
    "# Imprime la información general/resumida sobre el DataFrame de internet\n",
    "internet_df.info()"
   ]
  },
  {
   "cell_type": "code",
   "execution_count": 64,
   "metadata": {
    "id": "9r3x_XLw0q1C",
    "trusted": true
   },
   "outputs": [
    {
     "data": {
      "text/html": [
       "<div>\n",
       "<style scoped>\n",
       "    .dataframe tbody tr th:only-of-type {\n",
       "        vertical-align: middle;\n",
       "    }\n",
       "\n",
       "    .dataframe tbody tr th {\n",
       "        vertical-align: top;\n",
       "    }\n",
       "\n",
       "    .dataframe thead th {\n",
       "        text-align: right;\n",
       "    }\n",
       "</style>\n",
       "<table border=\"1\" class=\"dataframe\">\n",
       "  <thead>\n",
       "    <tr style=\"text-align: right;\">\n",
       "      <th></th>\n",
       "      <th>id</th>\n",
       "      <th>user_id</th>\n",
       "      <th>session_date</th>\n",
       "      <th>mb_used</th>\n",
       "    </tr>\n",
       "  </thead>\n",
       "  <tbody>\n",
       "    <tr>\n",
       "      <th>42899</th>\n",
       "      <td>1191_78</td>\n",
       "      <td>1191</td>\n",
       "      <td>2018-12-12</td>\n",
       "      <td>645.95</td>\n",
       "    </tr>\n",
       "    <tr>\n",
       "      <th>74176</th>\n",
       "      <td>1347_271</td>\n",
       "      <td>1347</td>\n",
       "      <td>2018-10-04</td>\n",
       "      <td>700.23</td>\n",
       "    </tr>\n",
       "    <tr>\n",
       "      <th>27913</th>\n",
       "      <td>1128_67</td>\n",
       "      <td>1128</td>\n",
       "      <td>2018-07-13</td>\n",
       "      <td>751.94</td>\n",
       "    </tr>\n",
       "    <tr>\n",
       "      <th>10384</th>\n",
       "      <td>1053_457</td>\n",
       "      <td>1053</td>\n",
       "      <td>2018-10-19</td>\n",
       "      <td>497.84</td>\n",
       "    </tr>\n",
       "    <tr>\n",
       "      <th>32609</th>\n",
       "      <td>1147_233</td>\n",
       "      <td>1147</td>\n",
       "      <td>2018-12-10</td>\n",
       "      <td>248.40</td>\n",
       "    </tr>\n",
       "  </tbody>\n",
       "</table>\n",
       "</div>"
      ],
      "text/plain": [
       "             id  user_id session_date  mb_used\n",
       "42899   1191_78     1191   2018-12-12   645.95\n",
       "74176  1347_271     1347   2018-10-04   700.23\n",
       "27913   1128_67     1128   2018-07-13   751.94\n",
       "10384  1053_457     1053   2018-10-19   497.84\n",
       "32609  1147_233     1147   2018-12-10   248.40"
      ]
     },
     "execution_count": 64,
     "metadata": {},
     "output_type": "execute_result"
    }
   ],
   "source": [
    "# Imprime una muestra de datos para el tráfico de internet\n",
    "internet_df.sample(5)"
   ]
  },
  {
   "cell_type": "markdown",
   "metadata": {},
   "source": [
    "En esta tabla encontramos que la columna user_id es del tipo int, esto podría cambiarse al tipo string (object). Otra observación es sobre la columna session_date la cual podría ser del tipo datetime. No se observan valores ausentes."
   ]
  },
  {
   "cell_type": "code",
   "execution_count": 65,
   "metadata": {
    "trusted": true
   },
   "outputs": [
    {
     "name": "stdout",
     "output_type": "stream",
     "text": [
      "<class 'pandas.core.frame.DataFrame'>\n",
      "RangeIndex: 104825 entries, 0 to 104824\n",
      "Data columns (total 4 columns):\n",
      " #   Column        Non-Null Count   Dtype         \n",
      "---  ------        --------------   -----         \n",
      " 0   id            104825 non-null  object        \n",
      " 1   user_id       104825 non-null  object        \n",
      " 2   session_date  104825 non-null  datetime64[ns]\n",
      " 3   mb_used       104825 non-null  float64       \n",
      "dtypes: datetime64[ns](1), float64(1), object(2)\n",
      "memory usage: 3.2+ MB\n",
      "None\n"
     ]
    },
    {
     "data": {
      "text/html": [
       "<div>\n",
       "<style scoped>\n",
       "    .dataframe tbody tr th:only-of-type {\n",
       "        vertical-align: middle;\n",
       "    }\n",
       "\n",
       "    .dataframe tbody tr th {\n",
       "        vertical-align: top;\n",
       "    }\n",
       "\n",
       "    .dataframe thead th {\n",
       "        text-align: right;\n",
       "    }\n",
       "</style>\n",
       "<table border=\"1\" class=\"dataframe\">\n",
       "  <thead>\n",
       "    <tr style=\"text-align: right;\">\n",
       "      <th></th>\n",
       "      <th>id</th>\n",
       "      <th>user_id</th>\n",
       "      <th>session_date</th>\n",
       "      <th>mb_used</th>\n",
       "    </tr>\n",
       "  </thead>\n",
       "  <tbody>\n",
       "    <tr>\n",
       "      <th>0</th>\n",
       "      <td>1000_13</td>\n",
       "      <td>1000</td>\n",
       "      <td>2018-12-29</td>\n",
       "      <td>89.86</td>\n",
       "    </tr>\n",
       "    <tr>\n",
       "      <th>1</th>\n",
       "      <td>1000_204</td>\n",
       "      <td>1000</td>\n",
       "      <td>2018-12-31</td>\n",
       "      <td>0.00</td>\n",
       "    </tr>\n",
       "    <tr>\n",
       "      <th>2</th>\n",
       "      <td>1000_379</td>\n",
       "      <td>1000</td>\n",
       "      <td>2018-12-28</td>\n",
       "      <td>660.40</td>\n",
       "    </tr>\n",
       "    <tr>\n",
       "      <th>3</th>\n",
       "      <td>1000_413</td>\n",
       "      <td>1000</td>\n",
       "      <td>2018-12-26</td>\n",
       "      <td>270.99</td>\n",
       "    </tr>\n",
       "    <tr>\n",
       "      <th>4</th>\n",
       "      <td>1000_442</td>\n",
       "      <td>1000</td>\n",
       "      <td>2018-12-27</td>\n",
       "      <td>880.22</td>\n",
       "    </tr>\n",
       "  </tbody>\n",
       "</table>\n",
       "</div>"
      ],
      "text/plain": [
       "         id user_id session_date  mb_used\n",
       "0   1000_13    1000   2018-12-29    89.86\n",
       "1  1000_204    1000   2018-12-31     0.00\n",
       "2  1000_379    1000   2018-12-28   660.40\n",
       "3  1000_413    1000   2018-12-26   270.99\n",
       "4  1000_442    1000   2018-12-27   880.22"
      ]
     },
     "execution_count": 65,
     "metadata": {},
     "output_type": "execute_result"
    }
   ],
   "source": [
    "# Correcciones en internet_df.\n",
    "internet_df['user_id'] = internet_df['user_id'].astype('object') # Cambio del tipo de dato de int a object.\n",
    "internet_df['session_date'] = pd.to_datetime(internet_df['session_date']) # Cambio del tipo de dato de object a datetime.\n",
    "\n",
    "print(internet_df.info())\n",
    "internet_df.head()"
   ]
  },
  {
   "cell_type": "markdown",
   "metadata": {},
   "source": [
    "Aquí también utilizaremos una nueva columna para representar el mes de cada sesión."
   ]
  },
  {
   "cell_type": "code",
   "execution_count": 66,
   "metadata": {
    "id": "ESiYPIEK0q1E",
    "trusted": true
   },
   "outputs": [
    {
     "data": {
      "text/html": [
       "<div>\n",
       "<style scoped>\n",
       "    .dataframe tbody tr th:only-of-type {\n",
       "        vertical-align: middle;\n",
       "    }\n",
       "\n",
       "    .dataframe tbody tr th {\n",
       "        vertical-align: top;\n",
       "    }\n",
       "\n",
       "    .dataframe thead th {\n",
       "        text-align: right;\n",
       "    }\n",
       "</style>\n",
       "<table border=\"1\" class=\"dataframe\">\n",
       "  <thead>\n",
       "    <tr style=\"text-align: right;\">\n",
       "      <th></th>\n",
       "      <th>id</th>\n",
       "      <th>user_id</th>\n",
       "      <th>session_date</th>\n",
       "      <th>mb_used</th>\n",
       "      <th>session_date_month</th>\n",
       "    </tr>\n",
       "  </thead>\n",
       "  <tbody>\n",
       "    <tr>\n",
       "      <th>0</th>\n",
       "      <td>1000_13</td>\n",
       "      <td>1000</td>\n",
       "      <td>2018-12-29</td>\n",
       "      <td>89.86</td>\n",
       "      <td>12</td>\n",
       "    </tr>\n",
       "    <tr>\n",
       "      <th>1</th>\n",
       "      <td>1000_204</td>\n",
       "      <td>1000</td>\n",
       "      <td>2018-12-31</td>\n",
       "      <td>0.00</td>\n",
       "      <td>12</td>\n",
       "    </tr>\n",
       "    <tr>\n",
       "      <th>2</th>\n",
       "      <td>1000_379</td>\n",
       "      <td>1000</td>\n",
       "      <td>2018-12-28</td>\n",
       "      <td>660.40</td>\n",
       "      <td>12</td>\n",
       "    </tr>\n",
       "    <tr>\n",
       "      <th>3</th>\n",
       "      <td>1000_413</td>\n",
       "      <td>1000</td>\n",
       "      <td>2018-12-26</td>\n",
       "      <td>270.99</td>\n",
       "      <td>12</td>\n",
       "    </tr>\n",
       "    <tr>\n",
       "      <th>4</th>\n",
       "      <td>1000_442</td>\n",
       "      <td>1000</td>\n",
       "      <td>2018-12-27</td>\n",
       "      <td>880.22</td>\n",
       "      <td>12</td>\n",
       "    </tr>\n",
       "    <tr>\n",
       "      <th>...</th>\n",
       "      <td>...</td>\n",
       "      <td>...</td>\n",
       "      <td>...</td>\n",
       "      <td>...</td>\n",
       "      <td>...</td>\n",
       "    </tr>\n",
       "    <tr>\n",
       "      <th>104820</th>\n",
       "      <td>1499_215</td>\n",
       "      <td>1499</td>\n",
       "      <td>2018-10-20</td>\n",
       "      <td>218.06</td>\n",
       "      <td>10</td>\n",
       "    </tr>\n",
       "    <tr>\n",
       "      <th>104821</th>\n",
       "      <td>1499_216</td>\n",
       "      <td>1499</td>\n",
       "      <td>2018-12-30</td>\n",
       "      <td>304.72</td>\n",
       "      <td>12</td>\n",
       "    </tr>\n",
       "    <tr>\n",
       "      <th>104822</th>\n",
       "      <td>1499_217</td>\n",
       "      <td>1499</td>\n",
       "      <td>2018-09-22</td>\n",
       "      <td>292.75</td>\n",
       "      <td>9</td>\n",
       "    </tr>\n",
       "    <tr>\n",
       "      <th>104823</th>\n",
       "      <td>1499_218</td>\n",
       "      <td>1499</td>\n",
       "      <td>2018-12-07</td>\n",
       "      <td>0.00</td>\n",
       "      <td>12</td>\n",
       "    </tr>\n",
       "    <tr>\n",
       "      <th>104824</th>\n",
       "      <td>1499_219</td>\n",
       "      <td>1499</td>\n",
       "      <td>2018-12-24</td>\n",
       "      <td>758.31</td>\n",
       "      <td>12</td>\n",
       "    </tr>\n",
       "  </tbody>\n",
       "</table>\n",
       "<p>104825 rows × 5 columns</p>\n",
       "</div>"
      ],
      "text/plain": [
       "              id user_id session_date  mb_used  session_date_month\n",
       "0        1000_13    1000   2018-12-29    89.86                  12\n",
       "1       1000_204    1000   2018-12-31     0.00                  12\n",
       "2       1000_379    1000   2018-12-28   660.40                  12\n",
       "3       1000_413    1000   2018-12-26   270.99                  12\n",
       "4       1000_442    1000   2018-12-27   880.22                  12\n",
       "...          ...     ...          ...      ...                 ...\n",
       "104820  1499_215    1499   2018-10-20   218.06                  10\n",
       "104821  1499_216    1499   2018-12-30   304.72                  12\n",
       "104822  1499_217    1499   2018-09-22   292.75                   9\n",
       "104823  1499_218    1499   2018-12-07     0.00                  12\n",
       "104824  1499_219    1499   2018-12-24   758.31                  12\n",
       "\n",
       "[104825 rows x 5 columns]"
      ]
     },
     "execution_count": 66,
     "metadata": {},
     "output_type": "execute_result"
    }
   ],
   "source": [
    "# Adicionar la columna de mes.\n",
    "internet_df['session_date_month'] = internet_df['session_date'].dt.month\n",
    "internet_df"
   ]
  },
  {
   "cell_type": "markdown",
   "metadata": {
    "id": "3UA2cqIW0q1E"
   },
   "source": [
    "## 2. Evaluación de las tarifas por usuario. <a id='user_rates'></a>"
   ]
  },
  {
   "cell_type": "markdown",
   "metadata": {
    "id": "T86Sqltq0q1F"
   },
   "source": [
    "Aquí tendremos en cuenta las condiciones de las tarifas y los datos de los usuarios para calcular el costo de cada tarifa por usuario. Esto nos permitirá comparar las tarifas Surf y Ultimate."
   ]
  },
  {
   "cell_type": "code",
   "execution_count": null,
   "metadata": {
    "id": "i409op8p0q1F",
    "trusted": true
   },
   "outputs": [
    {
     "data": {
      "text/html": [
       "<div>\n",
       "<style scoped>\n",
       "    .dataframe tbody tr th:only-of-type {\n",
       "        vertical-align: middle;\n",
       "    }\n",
       "\n",
       "    .dataframe tbody tr th {\n",
       "        vertical-align: top;\n",
       "    }\n",
       "\n",
       "    .dataframe thead th {\n",
       "        text-align: right;\n",
       "    }\n",
       "</style>\n",
       "<table border=\"1\" class=\"dataframe\">\n",
       "  <thead>\n",
       "    <tr style=\"text-align: right;\">\n",
       "      <th></th>\n",
       "      <th>messages_included</th>\n",
       "      <th>gb_per_month_included</th>\n",
       "      <th>minutes_included</th>\n",
       "      <th>usd_monthly_pay</th>\n",
       "      <th>usd_per_gb</th>\n",
       "      <th>usd_per_message</th>\n",
       "      <th>usd_per_minute</th>\n",
       "      <th>plan_name</th>\n",
       "    </tr>\n",
       "  </thead>\n",
       "  <tbody>\n",
       "    <tr>\n",
       "      <th>0</th>\n",
       "      <td>50</td>\n",
       "      <td>15</td>\n",
       "      <td>500</td>\n",
       "      <td>20</td>\n",
       "      <td>10</td>\n",
       "      <td>0.03</td>\n",
       "      <td>0.03</td>\n",
       "      <td>surf</td>\n",
       "    </tr>\n",
       "    <tr>\n",
       "      <th>1</th>\n",
       "      <td>1000</td>\n",
       "      <td>30</td>\n",
       "      <td>3000</td>\n",
       "      <td>70</td>\n",
       "      <td>7</td>\n",
       "      <td>0.01</td>\n",
       "      <td>0.01</td>\n",
       "      <td>ultimate</td>\n",
       "    </tr>\n",
       "  </tbody>\n",
       "</table>\n",
       "</div>"
      ],
      "text/plain": [
       "   messages_included  gb_per_month_included  minutes_included  \\\n",
       "0                 50                     15               500   \n",
       "1               1000                     30              3000   \n",
       "\n",
       "   usd_monthly_pay  usd_per_gb  usd_per_message  usd_per_minute plan_name  \n",
       "0               20          10             0.03            0.03      surf  \n",
       "1               70           7             0.01            0.01  ultimate  "
      ]
     },
     "execution_count": 67,
     "metadata": {},
     "output_type": "execute_result"
    }
   ],
   "source": [
    "# Imprime las condiciones de la tarifa\n",
    "plans_df"
   ]
  },
  {
   "cell_type": "markdown",
   "metadata": {
    "id": "hMR1tP5d0q1F"
   },
   "source": [
    "Ahora que los datos están limpios, se agregan los datos por usuario y por periodo para que solo haya un registro por usuario y por periodo. Esto facilitará mucho el análisis posterior. Esto se realizará para las llamadas, mensajes y datos de internet. Luego, se calculará el costo de cada tarifa por usuario y por periodo."
   ]
  },
  {
   "cell_type": "code",
   "execution_count": null,
   "metadata": {
    "id": "A332cedB0q1G",
    "trusted": true
   },
   "outputs": [
    {
     "data": {
      "text/html": [
       "<div>\n",
       "<style scoped>\n",
       "    .dataframe tbody tr th:only-of-type {\n",
       "        vertical-align: middle;\n",
       "    }\n",
       "\n",
       "    .dataframe tbody tr th {\n",
       "        vertical-align: top;\n",
       "    }\n",
       "\n",
       "    .dataframe thead th {\n",
       "        text-align: right;\n",
       "    }\n",
       "</style>\n",
       "<table border=\"1\" class=\"dataframe\">\n",
       "  <thead>\n",
       "    <tr style=\"text-align: right;\">\n",
       "      <th></th>\n",
       "      <th>user_id</th>\n",
       "      <th>month</th>\n",
       "      <th>calls_per_month</th>\n",
       "    </tr>\n",
       "  </thead>\n",
       "  <tbody>\n",
       "    <tr>\n",
       "      <th>0</th>\n",
       "      <td>1000</td>\n",
       "      <td>12</td>\n",
       "      <td>16</td>\n",
       "    </tr>\n",
       "    <tr>\n",
       "      <th>1</th>\n",
       "      <td>1001</td>\n",
       "      <td>8</td>\n",
       "      <td>27</td>\n",
       "    </tr>\n",
       "    <tr>\n",
       "      <th>2</th>\n",
       "      <td>1001</td>\n",
       "      <td>9</td>\n",
       "      <td>49</td>\n",
       "    </tr>\n",
       "    <tr>\n",
       "      <th>3</th>\n",
       "      <td>1001</td>\n",
       "      <td>10</td>\n",
       "      <td>65</td>\n",
       "    </tr>\n",
       "    <tr>\n",
       "      <th>4</th>\n",
       "      <td>1001</td>\n",
       "      <td>11</td>\n",
       "      <td>64</td>\n",
       "    </tr>\n",
       "    <tr>\n",
       "      <th>...</th>\n",
       "      <td>...</td>\n",
       "      <td>...</td>\n",
       "      <td>...</td>\n",
       "    </tr>\n",
       "    <tr>\n",
       "      <th>2253</th>\n",
       "      <td>1498</td>\n",
       "      <td>12</td>\n",
       "      <td>39</td>\n",
       "    </tr>\n",
       "    <tr>\n",
       "      <th>2254</th>\n",
       "      <td>1499</td>\n",
       "      <td>9</td>\n",
       "      <td>41</td>\n",
       "    </tr>\n",
       "    <tr>\n",
       "      <th>2255</th>\n",
       "      <td>1499</td>\n",
       "      <td>10</td>\n",
       "      <td>53</td>\n",
       "    </tr>\n",
       "    <tr>\n",
       "      <th>2256</th>\n",
       "      <td>1499</td>\n",
       "      <td>11</td>\n",
       "      <td>45</td>\n",
       "    </tr>\n",
       "    <tr>\n",
       "      <th>2257</th>\n",
       "      <td>1499</td>\n",
       "      <td>12</td>\n",
       "      <td>65</td>\n",
       "    </tr>\n",
       "  </tbody>\n",
       "</table>\n",
       "<p>2258 rows × 3 columns</p>\n",
       "</div>"
      ],
      "text/plain": [
       "      user_id  month  calls_per_month\n",
       "0        1000     12               16\n",
       "1        1001      8               27\n",
       "2        1001      9               49\n",
       "3        1001     10               65\n",
       "4        1001     11               64\n",
       "...       ...    ...              ...\n",
       "2253     1498     12               39\n",
       "2254     1499      9               41\n",
       "2255     1499     10               53\n",
       "2256     1499     11               45\n",
       "2257     1499     12               65\n",
       "\n",
       "[2258 rows x 3 columns]"
      ]
     },
     "execution_count": 68,
     "metadata": {},
     "output_type": "execute_result"
    }
   ],
   "source": [
    "# Calcula el número de llamadas hechas por cada usuario al mes. Guarda el resultado.\n",
    "user_calls_per_month = calls_df.groupby(['user_id', 'call_date_month'])['call_date_month'].count() # Agrupa por usuario y mes, y cuenta el número de llamadas.\n",
    "\n",
    "user_calls_per_month = pd.DataFrame(user_calls_per_month) # Convierte la Serie resultante en un DataFrame.\n",
    "\n",
    "# Organiza el DataFrame resultante.\n",
    "user_calls_per_month.columns = ['calls_per_month']\n",
    "user_calls_per_month.index.names = ['user_id', 'month']\n",
    "user_calls_per_month.reset_index(inplace=True)\n",
    "\n",
    "user_calls_per_month"
   ]
  },
  {
   "cell_type": "code",
   "execution_count": null,
   "metadata": {
    "id": "aw2cmuql0q1G",
    "trusted": true
   },
   "outputs": [
    {
     "data": {
      "text/html": [
       "<div>\n",
       "<style scoped>\n",
       "    .dataframe tbody tr th:only-of-type {\n",
       "        vertical-align: middle;\n",
       "    }\n",
       "\n",
       "    .dataframe tbody tr th {\n",
       "        vertical-align: top;\n",
       "    }\n",
       "\n",
       "    .dataframe thead th {\n",
       "        text-align: right;\n",
       "    }\n",
       "</style>\n",
       "<table border=\"1\" class=\"dataframe\">\n",
       "  <thead>\n",
       "    <tr style=\"text-align: right;\">\n",
       "      <th></th>\n",
       "      <th>user_id</th>\n",
       "      <th>month</th>\n",
       "      <th>mins_per_month</th>\n",
       "    </tr>\n",
       "  </thead>\n",
       "  <tbody>\n",
       "    <tr>\n",
       "      <th>0</th>\n",
       "      <td>1000</td>\n",
       "      <td>12</td>\n",
       "      <td>117.0</td>\n",
       "    </tr>\n",
       "    <tr>\n",
       "      <th>1</th>\n",
       "      <td>1001</td>\n",
       "      <td>8</td>\n",
       "      <td>172.0</td>\n",
       "    </tr>\n",
       "    <tr>\n",
       "      <th>2</th>\n",
       "      <td>1001</td>\n",
       "      <td>9</td>\n",
       "      <td>298.0</td>\n",
       "    </tr>\n",
       "    <tr>\n",
       "      <th>3</th>\n",
       "      <td>1001</td>\n",
       "      <td>10</td>\n",
       "      <td>375.0</td>\n",
       "    </tr>\n",
       "    <tr>\n",
       "      <th>4</th>\n",
       "      <td>1001</td>\n",
       "      <td>11</td>\n",
       "      <td>405.0</td>\n",
       "    </tr>\n",
       "    <tr>\n",
       "      <th>...</th>\n",
       "      <td>...</td>\n",
       "      <td>...</td>\n",
       "      <td>...</td>\n",
       "    </tr>\n",
       "    <tr>\n",
       "      <th>2253</th>\n",
       "      <td>1498</td>\n",
       "      <td>12</td>\n",
       "      <td>325.0</td>\n",
       "    </tr>\n",
       "    <tr>\n",
       "      <th>2254</th>\n",
       "      <td>1499</td>\n",
       "      <td>9</td>\n",
       "      <td>331.0</td>\n",
       "    </tr>\n",
       "    <tr>\n",
       "      <th>2255</th>\n",
       "      <td>1499</td>\n",
       "      <td>10</td>\n",
       "      <td>364.0</td>\n",
       "    </tr>\n",
       "    <tr>\n",
       "      <th>2256</th>\n",
       "      <td>1499</td>\n",
       "      <td>11</td>\n",
       "      <td>289.0</td>\n",
       "    </tr>\n",
       "    <tr>\n",
       "      <th>2257</th>\n",
       "      <td>1499</td>\n",
       "      <td>12</td>\n",
       "      <td>469.0</td>\n",
       "    </tr>\n",
       "  </tbody>\n",
       "</table>\n",
       "<p>2258 rows × 3 columns</p>\n",
       "</div>"
      ],
      "text/plain": [
       "      user_id  month  mins_per_month\n",
       "0        1000     12           117.0\n",
       "1        1001      8           172.0\n",
       "2        1001      9           298.0\n",
       "3        1001     10           375.0\n",
       "4        1001     11           405.0\n",
       "...       ...    ...             ...\n",
       "2253     1498     12           325.0\n",
       "2254     1499      9           331.0\n",
       "2255     1499     10           364.0\n",
       "2256     1499     11           289.0\n",
       "2257     1499     12           469.0\n",
       "\n",
       "[2258 rows x 3 columns]"
      ]
     },
     "execution_count": 69,
     "metadata": {},
     "output_type": "execute_result"
    }
   ],
   "source": [
    "# Calcula la cantidad de minutos usados por cada usuario al mes. Guarda el resultado.\n",
    "user_mins_per_month = calls_df.groupby(['user_id', 'call_date_month'])['duration'].sum() # Agrupa por usuario y mes, y suma la duración de las llamadas.\n",
    "\n",
    "user_mins_per_month = pd.DataFrame(user_mins_per_month) # Convierte la Serie resultante en un DataFrame.\n",
    "\n",
    "# Organiza el DataFrame resultante.\n",
    "user_mins_per_month.columns = ['mins_per_month']\n",
    "user_mins_per_month.index.names = ['user_id', 'month']\n",
    "user_mins_per_month.reset_index(inplace=True)\n",
    "\n",
    "user_mins_per_month['mins_per_month'] = np.ceil(user_mins_per_month['mins_per_month']) # Redondear hacia arriba\n",
    "\n",
    "user_mins_per_month"
   ]
  },
  {
   "cell_type": "code",
   "execution_count": null,
   "metadata": {
    "id": "CcQvNHn60q1G",
    "trusted": true
   },
   "outputs": [
    {
     "data": {
      "text/html": [
       "<div>\n",
       "<style scoped>\n",
       "    .dataframe tbody tr th:only-of-type {\n",
       "        vertical-align: middle;\n",
       "    }\n",
       "\n",
       "    .dataframe tbody tr th {\n",
       "        vertical-align: top;\n",
       "    }\n",
       "\n",
       "    .dataframe thead th {\n",
       "        text-align: right;\n",
       "    }\n",
       "</style>\n",
       "<table border=\"1\" class=\"dataframe\">\n",
       "  <thead>\n",
       "    <tr style=\"text-align: right;\">\n",
       "      <th></th>\n",
       "      <th>user_id</th>\n",
       "      <th>month</th>\n",
       "      <th>mess_per_month</th>\n",
       "    </tr>\n",
       "  </thead>\n",
       "  <tbody>\n",
       "    <tr>\n",
       "      <th>0</th>\n",
       "      <td>1000</td>\n",
       "      <td>12</td>\n",
       "      <td>11</td>\n",
       "    </tr>\n",
       "    <tr>\n",
       "      <th>1</th>\n",
       "      <td>1001</td>\n",
       "      <td>8</td>\n",
       "      <td>30</td>\n",
       "    </tr>\n",
       "    <tr>\n",
       "      <th>2</th>\n",
       "      <td>1001</td>\n",
       "      <td>9</td>\n",
       "      <td>44</td>\n",
       "    </tr>\n",
       "    <tr>\n",
       "      <th>3</th>\n",
       "      <td>1001</td>\n",
       "      <td>10</td>\n",
       "      <td>53</td>\n",
       "    </tr>\n",
       "    <tr>\n",
       "      <th>4</th>\n",
       "      <td>1001</td>\n",
       "      <td>11</td>\n",
       "      <td>36</td>\n",
       "    </tr>\n",
       "    <tr>\n",
       "      <th>...</th>\n",
       "      <td>...</td>\n",
       "      <td>...</td>\n",
       "      <td>...</td>\n",
       "    </tr>\n",
       "    <tr>\n",
       "      <th>1801</th>\n",
       "      <td>1496</td>\n",
       "      <td>9</td>\n",
       "      <td>21</td>\n",
       "    </tr>\n",
       "    <tr>\n",
       "      <th>1802</th>\n",
       "      <td>1496</td>\n",
       "      <td>10</td>\n",
       "      <td>18</td>\n",
       "    </tr>\n",
       "    <tr>\n",
       "      <th>1803</th>\n",
       "      <td>1496</td>\n",
       "      <td>11</td>\n",
       "      <td>13</td>\n",
       "    </tr>\n",
       "    <tr>\n",
       "      <th>1804</th>\n",
       "      <td>1496</td>\n",
       "      <td>12</td>\n",
       "      <td>11</td>\n",
       "    </tr>\n",
       "    <tr>\n",
       "      <th>1805</th>\n",
       "      <td>1497</td>\n",
       "      <td>12</td>\n",
       "      <td>50</td>\n",
       "    </tr>\n",
       "  </tbody>\n",
       "</table>\n",
       "<p>1806 rows × 3 columns</p>\n",
       "</div>"
      ],
      "text/plain": [
       "      user_id  month  mess_per_month\n",
       "0        1000     12              11\n",
       "1        1001      8              30\n",
       "2        1001      9              44\n",
       "3        1001     10              53\n",
       "4        1001     11              36\n",
       "...       ...    ...             ...\n",
       "1801     1496      9              21\n",
       "1802     1496     10              18\n",
       "1803     1496     11              13\n",
       "1804     1496     12              11\n",
       "1805     1497     12              50\n",
       "\n",
       "[1806 rows x 3 columns]"
      ]
     },
     "execution_count": 70,
     "metadata": {},
     "output_type": "execute_result"
    }
   ],
   "source": [
    "# Calcula el número de mensajes enviados por cada usuario al mes. Guarda el resultado.\n",
    "user_mess_per_month = messages_df.groupby(['user_id', 'message_date_month'])['message_date_month'].count() # Agrupa por usuario y mes, y cuenta el número de mensajes.\n",
    "\n",
    "user_mess_per_month = pd.DataFrame(user_mess_per_month) # Convierte la Serie resultante en un DataFrame.\n",
    "\n",
    "# Organiza el DataFrame resultante.\n",
    "user_mess_per_month.columns = ['mess_per_month']\n",
    "user_mess_per_month.index.names = ['user_id', 'month']\n",
    "user_mess_per_month.reset_index(inplace=True)\n",
    "\n",
    "user_mess_per_month"
   ]
  },
  {
   "cell_type": "code",
   "execution_count": null,
   "metadata": {
    "id": "H1AqN2eG0q1H",
    "trusted": true
   },
   "outputs": [
    {
     "data": {
      "text/html": [
       "<div>\n",
       "<style scoped>\n",
       "    .dataframe tbody tr th:only-of-type {\n",
       "        vertical-align: middle;\n",
       "    }\n",
       "\n",
       "    .dataframe tbody tr th {\n",
       "        vertical-align: top;\n",
       "    }\n",
       "\n",
       "    .dataframe thead th {\n",
       "        text-align: right;\n",
       "    }\n",
       "</style>\n",
       "<table border=\"1\" class=\"dataframe\">\n",
       "  <thead>\n",
       "    <tr style=\"text-align: right;\">\n",
       "      <th></th>\n",
       "      <th>user_id</th>\n",
       "      <th>month</th>\n",
       "      <th>mb_per_month</th>\n",
       "      <th>gb_per_month</th>\n",
       "    </tr>\n",
       "  </thead>\n",
       "  <tbody>\n",
       "    <tr>\n",
       "      <th>0</th>\n",
       "      <td>1000</td>\n",
       "      <td>12</td>\n",
       "      <td>1901.47</td>\n",
       "      <td>2.0</td>\n",
       "    </tr>\n",
       "    <tr>\n",
       "      <th>1</th>\n",
       "      <td>1001</td>\n",
       "      <td>8</td>\n",
       "      <td>6919.15</td>\n",
       "      <td>7.0</td>\n",
       "    </tr>\n",
       "    <tr>\n",
       "      <th>2</th>\n",
       "      <td>1001</td>\n",
       "      <td>9</td>\n",
       "      <td>13314.82</td>\n",
       "      <td>14.0</td>\n",
       "    </tr>\n",
       "    <tr>\n",
       "      <th>3</th>\n",
       "      <td>1001</td>\n",
       "      <td>10</td>\n",
       "      <td>22330.49</td>\n",
       "      <td>22.0</td>\n",
       "    </tr>\n",
       "    <tr>\n",
       "      <th>4</th>\n",
       "      <td>1001</td>\n",
       "      <td>11</td>\n",
       "      <td>18504.30</td>\n",
       "      <td>19.0</td>\n",
       "    </tr>\n",
       "    <tr>\n",
       "      <th>...</th>\n",
       "      <td>...</td>\n",
       "      <td>...</td>\n",
       "      <td>...</td>\n",
       "      <td>...</td>\n",
       "    </tr>\n",
       "    <tr>\n",
       "      <th>2272</th>\n",
       "      <td>1498</td>\n",
       "      <td>12</td>\n",
       "      <td>23137.69</td>\n",
       "      <td>23.0</td>\n",
       "    </tr>\n",
       "    <tr>\n",
       "      <th>2273</th>\n",
       "      <td>1499</td>\n",
       "      <td>9</td>\n",
       "      <td>12984.76</td>\n",
       "      <td>13.0</td>\n",
       "    </tr>\n",
       "    <tr>\n",
       "      <th>2274</th>\n",
       "      <td>1499</td>\n",
       "      <td>10</td>\n",
       "      <td>19492.43</td>\n",
       "      <td>20.0</td>\n",
       "    </tr>\n",
       "    <tr>\n",
       "      <th>2275</th>\n",
       "      <td>1499</td>\n",
       "      <td>11</td>\n",
       "      <td>16813.83</td>\n",
       "      <td>17.0</td>\n",
       "    </tr>\n",
       "    <tr>\n",
       "      <th>2276</th>\n",
       "      <td>1499</td>\n",
       "      <td>12</td>\n",
       "      <td>22059.21</td>\n",
       "      <td>22.0</td>\n",
       "    </tr>\n",
       "  </tbody>\n",
       "</table>\n",
       "<p>2277 rows × 4 columns</p>\n",
       "</div>"
      ],
      "text/plain": [
       "      user_id  month  mb_per_month  gb_per_month\n",
       "0        1000     12       1901.47           2.0\n",
       "1        1001      8       6919.15           7.0\n",
       "2        1001      9      13314.82          14.0\n",
       "3        1001     10      22330.49          22.0\n",
       "4        1001     11      18504.30          19.0\n",
       "...       ...    ...           ...           ...\n",
       "2272     1498     12      23137.69          23.0\n",
       "2273     1499      9      12984.76          13.0\n",
       "2274     1499     10      19492.43          20.0\n",
       "2275     1499     11      16813.83          17.0\n",
       "2276     1499     12      22059.21          22.0\n",
       "\n",
       "[2277 rows x 4 columns]"
      ]
     },
     "execution_count": 71,
     "metadata": {},
     "output_type": "execute_result"
    }
   ],
   "source": [
    "# Calcula el volumen del tráfico de Internet usado por cada usuario al mes. Guarda el resultado.\n",
    "user_mb_per_month = internet_df.groupby(['user_id', 'session_date_month'])['mb_used'].sum() # Agrupa por usuario y mes, y suma el tráfico de Internet.\n",
    "\n",
    "user_mb_per_month = pd.DataFrame(user_mb_per_month) # Convierte la Serie resultante en un DataFrame.\n",
    "\n",
    "#  Organiza el DataFrame resultante.\n",
    "user_mb_per_month.columns = ['mb_per_month']\n",
    "user_mb_per_month.index.names = ['user_id', 'month']\n",
    "user_mb_per_month.reset_index(inplace=True)\n",
    "\n",
    "# Calcula los GB por mes y redondea hacia arriba.\n",
    "user_mb_per_month['gb_per_month'] = user_mb_per_month['mb_per_month'] / 1024 # Calcula los GB\n",
    "user_mb_per_month['gb_per_month'] = np.ceil(user_mb_per_month['gb_per_month']) # Redondear hacia arriba\n",
    "\n",
    "user_mb_per_month"
   ]
  },
  {
   "cell_type": "markdown",
   "metadata": {
    "id": "VDfYXnj80q1H"
   },
   "source": [
    "Ahora se juntan los datos agregados en un DataFrame para que haya un registro que represente lo que consumió un usuario único en un mes determinado."
   ]
  },
  {
   "cell_type": "code",
   "execution_count": 72,
   "metadata": {
    "id": "FW99ykyf0q1H",
    "trusted": true
   },
   "outputs": [
    {
     "data": {
      "text/html": [
       "<div>\n",
       "<style scoped>\n",
       "    .dataframe tbody tr th:only-of-type {\n",
       "        vertical-align: middle;\n",
       "    }\n",
       "\n",
       "    .dataframe tbody tr th {\n",
       "        vertical-align: top;\n",
       "    }\n",
       "\n",
       "    .dataframe thead th {\n",
       "        text-align: right;\n",
       "    }\n",
       "</style>\n",
       "<table border=\"1\" class=\"dataframe\">\n",
       "  <thead>\n",
       "    <tr style=\"text-align: right;\">\n",
       "      <th></th>\n",
       "      <th>user_id</th>\n",
       "      <th>month</th>\n",
       "      <th>calls_per_month</th>\n",
       "      <th>mins_per_month</th>\n",
       "      <th>mess_per_month</th>\n",
       "      <th>mb_per_month</th>\n",
       "      <th>gb_per_month</th>\n",
       "    </tr>\n",
       "  </thead>\n",
       "  <tbody>\n",
       "    <tr>\n",
       "      <th>0</th>\n",
       "      <td>1000</td>\n",
       "      <td>12</td>\n",
       "      <td>16.0</td>\n",
       "      <td>117.0</td>\n",
       "      <td>11.0</td>\n",
       "      <td>1901.47</td>\n",
       "      <td>2.0</td>\n",
       "    </tr>\n",
       "    <tr>\n",
       "      <th>1</th>\n",
       "      <td>1001</td>\n",
       "      <td>8</td>\n",
       "      <td>27.0</td>\n",
       "      <td>172.0</td>\n",
       "      <td>30.0</td>\n",
       "      <td>6919.15</td>\n",
       "      <td>7.0</td>\n",
       "    </tr>\n",
       "    <tr>\n",
       "      <th>2</th>\n",
       "      <td>1001</td>\n",
       "      <td>9</td>\n",
       "      <td>49.0</td>\n",
       "      <td>298.0</td>\n",
       "      <td>44.0</td>\n",
       "      <td>13314.82</td>\n",
       "      <td>14.0</td>\n",
       "    </tr>\n",
       "    <tr>\n",
       "      <th>3</th>\n",
       "      <td>1001</td>\n",
       "      <td>10</td>\n",
       "      <td>65.0</td>\n",
       "      <td>375.0</td>\n",
       "      <td>53.0</td>\n",
       "      <td>22330.49</td>\n",
       "      <td>22.0</td>\n",
       "    </tr>\n",
       "    <tr>\n",
       "      <th>4</th>\n",
       "      <td>1001</td>\n",
       "      <td>11</td>\n",
       "      <td>64.0</td>\n",
       "      <td>405.0</td>\n",
       "      <td>36.0</td>\n",
       "      <td>18504.30</td>\n",
       "      <td>19.0</td>\n",
       "    </tr>\n",
       "    <tr>\n",
       "      <th>...</th>\n",
       "      <td>...</td>\n",
       "      <td>...</td>\n",
       "      <td>...</td>\n",
       "      <td>...</td>\n",
       "      <td>...</td>\n",
       "      <td>...</td>\n",
       "      <td>...</td>\n",
       "    </tr>\n",
       "    <tr>\n",
       "      <th>2288</th>\n",
       "      <td>1349</td>\n",
       "      <td>12</td>\n",
       "      <td>0.0</td>\n",
       "      <td>0.0</td>\n",
       "      <td>61.0</td>\n",
       "      <td>13039.91</td>\n",
       "      <td>13.0</td>\n",
       "    </tr>\n",
       "    <tr>\n",
       "      <th>2289</th>\n",
       "      <td>1361</td>\n",
       "      <td>5</td>\n",
       "      <td>0.0</td>\n",
       "      <td>0.0</td>\n",
       "      <td>2.0</td>\n",
       "      <td>1519.69</td>\n",
       "      <td>2.0</td>\n",
       "    </tr>\n",
       "    <tr>\n",
       "      <th>2290</th>\n",
       "      <td>1482</td>\n",
       "      <td>10</td>\n",
       "      <td>0.0</td>\n",
       "      <td>0.0</td>\n",
       "      <td>2.0</td>\n",
       "      <td>0.00</td>\n",
       "      <td>0.0</td>\n",
       "    </tr>\n",
       "    <tr>\n",
       "      <th>2291</th>\n",
       "      <td>1108</td>\n",
       "      <td>12</td>\n",
       "      <td>0.0</td>\n",
       "      <td>0.0</td>\n",
       "      <td>0.0</td>\n",
       "      <td>233.17</td>\n",
       "      <td>1.0</td>\n",
       "    </tr>\n",
       "    <tr>\n",
       "      <th>2292</th>\n",
       "      <td>1311</td>\n",
       "      <td>6</td>\n",
       "      <td>0.0</td>\n",
       "      <td>0.0</td>\n",
       "      <td>0.0</td>\n",
       "      <td>1498.83</td>\n",
       "      <td>2.0</td>\n",
       "    </tr>\n",
       "  </tbody>\n",
       "</table>\n",
       "<p>2293 rows × 7 columns</p>\n",
       "</div>"
      ],
      "text/plain": [
       "      user_id  month  calls_per_month  mins_per_month  mess_per_month  \\\n",
       "0        1000     12             16.0           117.0            11.0   \n",
       "1        1001      8             27.0           172.0            30.0   \n",
       "2        1001      9             49.0           298.0            44.0   \n",
       "3        1001     10             65.0           375.0            53.0   \n",
       "4        1001     11             64.0           405.0            36.0   \n",
       "...       ...    ...              ...             ...             ...   \n",
       "2288     1349     12              0.0             0.0            61.0   \n",
       "2289     1361      5              0.0             0.0             2.0   \n",
       "2290     1482     10              0.0             0.0             2.0   \n",
       "2291     1108     12              0.0             0.0             0.0   \n",
       "2292     1311      6              0.0             0.0             0.0   \n",
       "\n",
       "      mb_per_month  gb_per_month  \n",
       "0          1901.47           2.0  \n",
       "1          6919.15           7.0  \n",
       "2         13314.82          14.0  \n",
       "3         22330.49          22.0  \n",
       "4         18504.30          19.0  \n",
       "...            ...           ...  \n",
       "2288      13039.91          13.0  \n",
       "2289       1519.69           2.0  \n",
       "2290          0.00           0.0  \n",
       "2291        233.17           1.0  \n",
       "2292       1498.83           2.0  \n",
       "\n",
       "[2293 rows x 7 columns]"
      ]
     },
     "execution_count": 72,
     "metadata": {},
     "output_type": "execute_result"
    }
   ],
   "source": [
    "# Fusiona los datos de llamadas, minutos, mensajes e Internet con base en user_id y month\n",
    "all_month_data = user_calls_per_month.merge(user_mins_per_month, how='outer', on=['user_id', 'month'])\n",
    "all_month_data = all_month_data.merge(user_mess_per_month, how='outer', on=['user_id', 'month'])\n",
    "all_month_data = all_month_data.merge(user_mb_per_month, how='outer', on=['user_id', 'month'])\n",
    "\n",
    "# Relleno de datos nulos\n",
    "all_month_data.fillna(0, inplace=True)\n",
    "\n",
    "all_month_data"
   ]
  },
  {
   "cell_type": "code",
   "execution_count": 73,
   "metadata": {
    "id": "0dNOXHag0q1H",
    "trusted": true
   },
   "outputs": [
    {
     "data": {
      "text/html": [
       "<div>\n",
       "<style scoped>\n",
       "    .dataframe tbody tr th:only-of-type {\n",
       "        vertical-align: middle;\n",
       "    }\n",
       "\n",
       "    .dataframe tbody tr th {\n",
       "        vertical-align: top;\n",
       "    }\n",
       "\n",
       "    .dataframe thead th {\n",
       "        text-align: right;\n",
       "    }\n",
       "</style>\n",
       "<table border=\"1\" class=\"dataframe\">\n",
       "  <thead>\n",
       "    <tr style=\"text-align: right;\">\n",
       "      <th></th>\n",
       "      <th>user_id</th>\n",
       "      <th>month</th>\n",
       "      <th>calls_per_month</th>\n",
       "      <th>mins_per_month</th>\n",
       "      <th>mess_per_month</th>\n",
       "      <th>mb_per_month</th>\n",
       "      <th>gb_per_month</th>\n",
       "      <th>plan</th>\n",
       "    </tr>\n",
       "  </thead>\n",
       "  <tbody>\n",
       "    <tr>\n",
       "      <th>0</th>\n",
       "      <td>1000</td>\n",
       "      <td>12</td>\n",
       "      <td>16</td>\n",
       "      <td>117</td>\n",
       "      <td>11</td>\n",
       "      <td>1901.47</td>\n",
       "      <td>2</td>\n",
       "      <td>ultimate</td>\n",
       "    </tr>\n",
       "    <tr>\n",
       "      <th>1</th>\n",
       "      <td>1001</td>\n",
       "      <td>8</td>\n",
       "      <td>27</td>\n",
       "      <td>172</td>\n",
       "      <td>30</td>\n",
       "      <td>6919.15</td>\n",
       "      <td>7</td>\n",
       "      <td>surf</td>\n",
       "    </tr>\n",
       "    <tr>\n",
       "      <th>2</th>\n",
       "      <td>1001</td>\n",
       "      <td>9</td>\n",
       "      <td>49</td>\n",
       "      <td>298</td>\n",
       "      <td>44</td>\n",
       "      <td>13314.82</td>\n",
       "      <td>14</td>\n",
       "      <td>surf</td>\n",
       "    </tr>\n",
       "    <tr>\n",
       "      <th>3</th>\n",
       "      <td>1001</td>\n",
       "      <td>10</td>\n",
       "      <td>65</td>\n",
       "      <td>375</td>\n",
       "      <td>53</td>\n",
       "      <td>22330.49</td>\n",
       "      <td>22</td>\n",
       "      <td>surf</td>\n",
       "    </tr>\n",
       "    <tr>\n",
       "      <th>4</th>\n",
       "      <td>1001</td>\n",
       "      <td>11</td>\n",
       "      <td>64</td>\n",
       "      <td>405</td>\n",
       "      <td>36</td>\n",
       "      <td>18504.30</td>\n",
       "      <td>19</td>\n",
       "      <td>surf</td>\n",
       "    </tr>\n",
       "    <tr>\n",
       "      <th>...</th>\n",
       "      <td>...</td>\n",
       "      <td>...</td>\n",
       "      <td>...</td>\n",
       "      <td>...</td>\n",
       "      <td>...</td>\n",
       "      <td>...</td>\n",
       "      <td>...</td>\n",
       "      <td>...</td>\n",
       "    </tr>\n",
       "    <tr>\n",
       "      <th>2288</th>\n",
       "      <td>1349</td>\n",
       "      <td>12</td>\n",
       "      <td>0</td>\n",
       "      <td>0</td>\n",
       "      <td>61</td>\n",
       "      <td>13039.91</td>\n",
       "      <td>13</td>\n",
       "      <td>surf</td>\n",
       "    </tr>\n",
       "    <tr>\n",
       "      <th>2289</th>\n",
       "      <td>1361</td>\n",
       "      <td>5</td>\n",
       "      <td>0</td>\n",
       "      <td>0</td>\n",
       "      <td>2</td>\n",
       "      <td>1519.69</td>\n",
       "      <td>2</td>\n",
       "      <td>surf</td>\n",
       "    </tr>\n",
       "    <tr>\n",
       "      <th>2290</th>\n",
       "      <td>1482</td>\n",
       "      <td>10</td>\n",
       "      <td>0</td>\n",
       "      <td>0</td>\n",
       "      <td>2</td>\n",
       "      <td>0.00</td>\n",
       "      <td>0</td>\n",
       "      <td>ultimate</td>\n",
       "    </tr>\n",
       "    <tr>\n",
       "      <th>2291</th>\n",
       "      <td>1108</td>\n",
       "      <td>12</td>\n",
       "      <td>0</td>\n",
       "      <td>0</td>\n",
       "      <td>0</td>\n",
       "      <td>233.17</td>\n",
       "      <td>1</td>\n",
       "      <td>ultimate</td>\n",
       "    </tr>\n",
       "    <tr>\n",
       "      <th>2292</th>\n",
       "      <td>1311</td>\n",
       "      <td>6</td>\n",
       "      <td>0</td>\n",
       "      <td>0</td>\n",
       "      <td>0</td>\n",
       "      <td>1498.83</td>\n",
       "      <td>2</td>\n",
       "      <td>ultimate</td>\n",
       "    </tr>\n",
       "  </tbody>\n",
       "</table>\n",
       "<p>2293 rows × 8 columns</p>\n",
       "</div>"
      ],
      "text/plain": [
       "     user_id  month  calls_per_month  mins_per_month  mess_per_month  \\\n",
       "0       1000     12               16             117              11   \n",
       "1       1001      8               27             172              30   \n",
       "2       1001      9               49             298              44   \n",
       "3       1001     10               65             375              53   \n",
       "4       1001     11               64             405              36   \n",
       "...      ...    ...              ...             ...             ...   \n",
       "2288    1349     12                0               0              61   \n",
       "2289    1361      5                0               0               2   \n",
       "2290    1482     10                0               0               2   \n",
       "2291    1108     12                0               0               0   \n",
       "2292    1311      6                0               0               0   \n",
       "\n",
       "      mb_per_month  gb_per_month      plan  \n",
       "0          1901.47             2  ultimate  \n",
       "1          6919.15             7      surf  \n",
       "2         13314.82            14      surf  \n",
       "3         22330.49            22      surf  \n",
       "4         18504.30            19      surf  \n",
       "...            ...           ...       ...  \n",
       "2288      13039.91            13      surf  \n",
       "2289       1519.69             2      surf  \n",
       "2290          0.00             0  ultimate  \n",
       "2291        233.17             1  ultimate  \n",
       "2292       1498.83             2  ultimate  \n",
       "\n",
       "[2293 rows x 8 columns]"
      ]
     },
     "execution_count": 73,
     "metadata": {},
     "output_type": "execute_result"
    }
   ],
   "source": [
    "# Añade la información de la tarifa\n",
    "all_month_data = all_month_data.merge(users_df[['user_id', 'plan']], how='left', on=['user_id'])\n",
    "\n",
    "# Ajustar los tipos de las columnas\n",
    "all_month_data['calls_per_month'] = all_month_data['calls_per_month'].astype('int')\n",
    "all_month_data['mins_per_month'] = all_month_data['mins_per_month'].astype('int')\n",
    "all_month_data['mess_per_month'] = all_month_data['mess_per_month'].astype('int')\n",
    "all_month_data['gb_per_month'] = all_month_data['gb_per_month'].astype('int')\n",
    "\n",
    "all_month_data"
   ]
  },
  {
   "cell_type": "markdown",
   "metadata": {
    "id": "1IwGo4wg0q1I"
   },
   "source": [
    "Ya tenemos todo preparado para calcular los ingresos mensuales por usuario, este proceso se realiza de la siguiente manera: \n",
    "1. Se resta el límite del paquete gratuito del número total de llamadas, mensajes de texto y datos.\n",
    "2. Se multiplica el resultado por el valor del plan de llamadas.\n",
    "3. Se añade la tarifa mensual en función del plan de llamadas.\n",
    "4. Se suma el costo de los minutos, mensajes de texto y datos que exceden el límite del paquete.\n",
    "\n",
    "La siguiente función será la encargada de calcular el costo de cada tarifa por usuario y por periodo. Esta función toma como entrada una fila del DataFrame con los datos agregados y devuelve el valor con los ingresos mensuales para el usuario."
   ]
  },
  {
   "cell_type": "code",
   "execution_count": 74,
   "metadata": {
    "id": "5FGCf_c60q1I",
    "trusted": true
   },
   "outputs": [],
   "source": [
    "def calculate_monthly_income(row):\n",
    "    \"\"\"\n",
    "    Calcula el ingreso mensual generado por un usuario en función de su plan de suscripción \n",
    "    y el uso de minutos, mensajes y datos adicionales.\n",
    "\n",
    "    Parámetros:\n",
    "    row (pd.Series): Fila de un DataFrame que contiene la información de un usuario, incluyendo:\n",
    "        - 'plan' (str): Nombre del plan del usuario.\n",
    "        - 'mins_per_month' (int): Minutos utilizados en el mes.\n",
    "        - 'mess_per_month' (int): Mensajes enviados en el mes.\n",
    "        - 'gb_per_month' (int): Datos (GB) consumidos en el mes.\n",
    "\n",
    "    Retorna:\n",
    "    float: Ingreso mensual total generado por el usuario, considerando el costo base del plan \n",
    "           y los cargos adicionales por excedentes en minutos, mensajes y datos.\n",
    "    \"\"\"\n",
    "    plan_data = plans_df[plans_df['plan_name'] == row['plan']].iloc[0]\n",
    "\n",
    "    month_charge = plan_data['usd_monthly_pay']\n",
    "\n",
    "    extra_mins = row['mins_per_month'] - plan_data['minutes_included']\n",
    "    extra_mins_charge = max(0, extra_mins * plan_data['usd_per_minute'])\n",
    "\n",
    "    extra_mess = row['mess_per_month'] - plan_data['messages_included']\n",
    "    extra_mess_charge = max(0, extra_mess * plan_data['usd_per_message'])\n",
    "\n",
    "    extra_gb = row['gb_per_month'] - plan_data['gb_per_month_included']\n",
    "    extra_gb_charge = max(0, extra_gb * plan_data['usd_per_gb'])\n",
    "\n",
    "    income = month_charge + extra_mins_charge + extra_mess_charge + extra_gb_charge\n",
    "\n",
    "    return income"
   ]
  },
  {
   "cell_type": "code",
   "execution_count": null,
   "metadata": {
    "trusted": true
   },
   "outputs": [
    {
     "data": {
      "text/html": [
       "<div>\n",
       "<style scoped>\n",
       "    .dataframe tbody tr th:only-of-type {\n",
       "        vertical-align: middle;\n",
       "    }\n",
       "\n",
       "    .dataframe tbody tr th {\n",
       "        vertical-align: top;\n",
       "    }\n",
       "\n",
       "    .dataframe thead th {\n",
       "        text-align: right;\n",
       "    }\n",
       "</style>\n",
       "<table border=\"1\" class=\"dataframe\">\n",
       "  <thead>\n",
       "    <tr style=\"text-align: right;\">\n",
       "      <th></th>\n",
       "      <th>user_id</th>\n",
       "      <th>month</th>\n",
       "      <th>calls_per_month</th>\n",
       "      <th>mins_per_month</th>\n",
       "      <th>mess_per_month</th>\n",
       "      <th>mb_per_month</th>\n",
       "      <th>gb_per_month</th>\n",
       "      <th>plan</th>\n",
       "      <th>income</th>\n",
       "    </tr>\n",
       "  </thead>\n",
       "  <tbody>\n",
       "    <tr>\n",
       "      <th>0</th>\n",
       "      <td>1000</td>\n",
       "      <td>12</td>\n",
       "      <td>16</td>\n",
       "      <td>117</td>\n",
       "      <td>11</td>\n",
       "      <td>1901.47</td>\n",
       "      <td>2</td>\n",
       "      <td>ultimate</td>\n",
       "      <td>70.00</td>\n",
       "    </tr>\n",
       "    <tr>\n",
       "      <th>1</th>\n",
       "      <td>1001</td>\n",
       "      <td>8</td>\n",
       "      <td>27</td>\n",
       "      <td>172</td>\n",
       "      <td>30</td>\n",
       "      <td>6919.15</td>\n",
       "      <td>7</td>\n",
       "      <td>surf</td>\n",
       "      <td>20.00</td>\n",
       "    </tr>\n",
       "    <tr>\n",
       "      <th>2</th>\n",
       "      <td>1001</td>\n",
       "      <td>9</td>\n",
       "      <td>49</td>\n",
       "      <td>298</td>\n",
       "      <td>44</td>\n",
       "      <td>13314.82</td>\n",
       "      <td>14</td>\n",
       "      <td>surf</td>\n",
       "      <td>20.00</td>\n",
       "    </tr>\n",
       "    <tr>\n",
       "      <th>3</th>\n",
       "      <td>1001</td>\n",
       "      <td>10</td>\n",
       "      <td>65</td>\n",
       "      <td>375</td>\n",
       "      <td>53</td>\n",
       "      <td>22330.49</td>\n",
       "      <td>22</td>\n",
       "      <td>surf</td>\n",
       "      <td>90.09</td>\n",
       "    </tr>\n",
       "    <tr>\n",
       "      <th>4</th>\n",
       "      <td>1001</td>\n",
       "      <td>11</td>\n",
       "      <td>64</td>\n",
       "      <td>405</td>\n",
       "      <td>36</td>\n",
       "      <td>18504.30</td>\n",
       "      <td>19</td>\n",
       "      <td>surf</td>\n",
       "      <td>60.00</td>\n",
       "    </tr>\n",
       "    <tr>\n",
       "      <th>...</th>\n",
       "      <td>...</td>\n",
       "      <td>...</td>\n",
       "      <td>...</td>\n",
       "      <td>...</td>\n",
       "      <td>...</td>\n",
       "      <td>...</td>\n",
       "      <td>...</td>\n",
       "      <td>...</td>\n",
       "      <td>...</td>\n",
       "    </tr>\n",
       "    <tr>\n",
       "      <th>2288</th>\n",
       "      <td>1349</td>\n",
       "      <td>12</td>\n",
       "      <td>0</td>\n",
       "      <td>0</td>\n",
       "      <td>61</td>\n",
       "      <td>13039.91</td>\n",
       "      <td>13</td>\n",
       "      <td>surf</td>\n",
       "      <td>20.33</td>\n",
       "    </tr>\n",
       "    <tr>\n",
       "      <th>2289</th>\n",
       "      <td>1361</td>\n",
       "      <td>5</td>\n",
       "      <td>0</td>\n",
       "      <td>0</td>\n",
       "      <td>2</td>\n",
       "      <td>1519.69</td>\n",
       "      <td>2</td>\n",
       "      <td>surf</td>\n",
       "      <td>20.00</td>\n",
       "    </tr>\n",
       "    <tr>\n",
       "      <th>2290</th>\n",
       "      <td>1482</td>\n",
       "      <td>10</td>\n",
       "      <td>0</td>\n",
       "      <td>0</td>\n",
       "      <td>2</td>\n",
       "      <td>0.00</td>\n",
       "      <td>0</td>\n",
       "      <td>ultimate</td>\n",
       "      <td>70.00</td>\n",
       "    </tr>\n",
       "    <tr>\n",
       "      <th>2291</th>\n",
       "      <td>1108</td>\n",
       "      <td>12</td>\n",
       "      <td>0</td>\n",
       "      <td>0</td>\n",
       "      <td>0</td>\n",
       "      <td>233.17</td>\n",
       "      <td>1</td>\n",
       "      <td>ultimate</td>\n",
       "      <td>70.00</td>\n",
       "    </tr>\n",
       "    <tr>\n",
       "      <th>2292</th>\n",
       "      <td>1311</td>\n",
       "      <td>6</td>\n",
       "      <td>0</td>\n",
       "      <td>0</td>\n",
       "      <td>0</td>\n",
       "      <td>1498.83</td>\n",
       "      <td>2</td>\n",
       "      <td>ultimate</td>\n",
       "      <td>70.00</td>\n",
       "    </tr>\n",
       "  </tbody>\n",
       "</table>\n",
       "<p>2293 rows × 9 columns</p>\n",
       "</div>"
      ],
      "text/plain": [
       "     user_id  month  calls_per_month  mins_per_month  mess_per_month  \\\n",
       "0       1000     12               16             117              11   \n",
       "1       1001      8               27             172              30   \n",
       "2       1001      9               49             298              44   \n",
       "3       1001     10               65             375              53   \n",
       "4       1001     11               64             405              36   \n",
       "...      ...    ...              ...             ...             ...   \n",
       "2288    1349     12                0               0              61   \n",
       "2289    1361      5                0               0               2   \n",
       "2290    1482     10                0               0               2   \n",
       "2291    1108     12                0               0               0   \n",
       "2292    1311      6                0               0               0   \n",
       "\n",
       "      mb_per_month  gb_per_month      plan  income  \n",
       "0          1901.47             2  ultimate   70.00  \n",
       "1          6919.15             7      surf   20.00  \n",
       "2         13314.82            14      surf   20.00  \n",
       "3         22330.49            22      surf   90.09  \n",
       "4         18504.30            19      surf   60.00  \n",
       "...            ...           ...       ...     ...  \n",
       "2288      13039.91            13      surf   20.33  \n",
       "2289       1519.69             2      surf   20.00  \n",
       "2290          0.00             0  ultimate   70.00  \n",
       "2291        233.17             1  ultimate   70.00  \n",
       "2292       1498.83             2  ultimate   70.00  \n",
       "\n",
       "[2293 rows x 9 columns]"
      ]
     },
     "execution_count": 75,
     "metadata": {},
     "output_type": "execute_result"
    }
   ],
   "source": [
    "# Aplica la función para calcular el ingreso mensual de cada usuario.\n",
    "all_month_data['income'] = all_month_data.apply(calculate_monthly_income, axis=1)\n",
    "all_month_data"
   ]
  },
  {
   "cell_type": "markdown",
   "metadata": {
    "id": "-jtyHzJb0q1I"
   },
   "source": [
    "## 3. Análisis del comportamiento de los usuarios. <a id='data_analysis'></a>"
   ]
  },
  {
   "cell_type": "markdown",
   "metadata": {
    "id": "AxU3Y0N70q1J"
   },
   "source": [
    "El objetivo de este análisis será calcular algunas estadísticas descriptivas para los datos agregados y fusionados que nos sean útiles y que muestren un panorama general captado por los datos. Se acudirá a gráficos para facilitar la comprensión dado que la tarea principal es comparar las tarifas y decidir cuál es más rentable."
   ]
  },
  {
   "cell_type": "markdown",
   "metadata": {
    "id": "vtW4CJEe0q1J"
   },
   "source": [
    "### 3.1 Análisis de llamadas. <a id='calls_analysis'></a>"
   ]
  },
  {
   "cell_type": "code",
   "execution_count": null,
   "metadata": {
    "id": "Jf5v5--k0q1J",
    "trusted": true
   },
   "outputs": [
    {
     "data": {
      "image/png": "[encoded data removed]",
      "text/plain": [
       "<Figure size 1000x600 with 1 Axes>"
      ]
     },
     "metadata": {},
     "output_type": "display_data"
    }
   ],
   "source": [
    "# Compara la duración promedio de llamadas por cada plan y por cada mes.\n",
    "calls_and_plans = calls_df.merge(users_df[['user_id', 'plan']], on='user_id', how='left') # Incluir el plan en la tabla de llamadas.\n",
    "avg_calls_dur_by_plans_and_months = calls_and_plans.groupby(['plan', 'call_date_month'])['duration'].mean() # Calcular el promedio de duracion de llamada\n",
    "\n",
    "# Configurar el nuevo dataframe\n",
    "duration_avg_df = pd.DataFrame(avg_calls_dur_by_plans_and_months)\n",
    "duration_avg_df.reset_index(inplace=True)\n",
    "\n",
    "# Crear la visualización\n",
    "plt.figure(figsize=(10, 6))\n",
    "custom_palette = sns.color_palette(\"Set2\")\n",
    "ax = sns.barplot(data=duration_avg_df, x='call_date_month', y='duration', hue='plan', palette=custom_palette, ci=None)\n",
    "\n",
    "# Cambiar la leyenda\n",
    "handles, labels = ax.get_legend_handles_labels()\n",
    "ax.legend(handles, ['Surf', 'Ultimate'], title=\"Tipo de plan\", loc=\"upper left\", bbox_to_anchor=(1, 1))\n",
    "\n",
    "# Agregar título y etiquetas a los ejes\n",
    "plt.title(\"Duración de llamadas por plan y mes\", fontsize=14)\n",
    "plt.xlabel(\"Mes\", fontsize=12)\n",
    "plt.ylabel(\"Duración llamada promedio (min)\", fontsize=12)\n",
    "ax.set_xticklabels(['Ene', 'Feb', 'Mar', 'Abr', 'May', 'Jun', 'Jul', 'Ago', 'Sep', 'Oct', 'Nov', 'Dic'])\n",
    "\n",
    "# Mostrar el gráfico\n",
    "plt.show()"
   ]
  },
  {
   "cell_type": "code",
   "execution_count": null,
   "metadata": {
    "id": "QoLqW1S_0q1J",
    "trusted": true
   },
   "outputs": [
    {
     "data": {
      "image/png": "[encoded data removed]",
      "text/plain": [
       "<Figure size 1000x600 with 1 Axes>"
      ]
     },
     "metadata": {},
     "output_type": "display_data"
    }
   ],
   "source": [
    "# Compara el número de minutos mensuales que necesitan los usuarios de cada plan.\n",
    "surf_users = all_month_data[all_month_data['plan'] == 'surf'] # Usuarios surf\n",
    "ultimate_users = all_month_data[all_month_data['plan'] == 'ultimate'] # Usuarios ultimate\n",
    "\n",
    "# Visualización de los minutos mensuales por plan.\n",
    "plt.figure(figsize=(10, 6))\n",
    "surf_users['mins_per_month'].plot(kind='hist', bins=20, color='green', alpha=0.5, legend=True)\n",
    "ultimate_users['mins_per_month'].plot(kind='hist', bins=20, color='orange', alpha=0.5, legend=True)\n",
    "\n",
    "# Agregar título y etiquetas a los ejes\n",
    "plt.title(\"Uso mensual de minutos en usuarios por plan\", fontsize=14)\n",
    "plt.xlabel(\"Minutos\", fontsize=12)\n",
    "plt.ylabel(\"Número de ocurrencias mensuales\", fontsize=12)\n",
    "plt.legend(['Surf', 'Ultimate'], title='Tipo de plan')\n",
    "\n",
    "# Mostrar el gráfico\n",
    "plt.show()"
   ]
  },
  {
   "cell_type": "code",
   "execution_count": null,
   "metadata": {
    "id": "oSndbAnt0q1K",
    "trusted": true
   },
   "outputs": [
    {
     "name": "stdout",
     "output_type": "stream",
     "text": [
      "El promedio de duracion de una llamada es de 6.77 minutos para usuarios Surf y de 6.70 minutos para usuarios Ultimate.\n",
      "La varianza de duracion de una llamada es de 34.16 minutos cuadrados para usuarios Surf y de 33.96 minutos cuadrados para usuarios Ultimate.\n"
     ]
    }
   ],
   "source": [
    "# Calcula la media y la varianza de la duración mensual de llamadas.\n",
    "# Media y varianza para usuarios Surf.\n",
    "surf_calls_dur_mean = calls_and_plans[calls_and_plans['plan'] == 'surf']['duration'].mean()\n",
    "surf_calls_dur_var = np.var(calls_and_plans[calls_and_plans['plan'] == 'surf']['duration'])\n",
    "\n",
    "# Media y varianza para usuarios Ultimate.\n",
    "ultimate_calls_dur_mean = calls_and_plans[calls_and_plans['plan'] == 'ultimate']['duration'].mean()\n",
    "ultimate_calls_dur_var = np.var(calls_and_plans[calls_and_plans['plan'] == 'ultimate']['duration'])\n",
    "\n",
    "\n",
    "print(f'El promedio de duración de una llamada es de {surf_calls_dur_mean:.2f} minutos para usuarios Surf y de {ultimate_calls_dur_mean:.2f} minutos para usuarios Ultimate.')\n",
    "print(f'La varianza de duración de una llamada es de {surf_calls_dur_var:.2f} minutos cuadrados para usuarios Surf y de {ultimate_calls_dur_var:.2f} minutos cuadrados para usuarios Ultimate.')"
   ]
  },
  {
   "cell_type": "code",
   "execution_count": 79,
   "metadata": {
    "id": "nZzoRUKc0q1K",
    "trusted": true
   },
   "outputs": [
    {
     "data": {
      "image/png": "[encoded data removed]",
      "text/plain": [
       "<Figure size 640x480 with 1 Axes>"
      ]
     },
     "metadata": {},
     "output_type": "display_data"
    }
   ],
   "source": [
    "# Traza un diagrama de caja para visualizar la distribución de la duración mensual de llamadas\n",
    "sns.boxplot(data=calls_and_plans, x=\"duration\", y=\"plan\", palette=\"Set2\", order=[\"surf\", \"ultimate\"])\n",
    "\n",
    "# Agregar título y etiquetas a los ejes\n",
    "plt.title(\"Distribución de la duración de llamadas\", fontsize=14)\n",
    "plt.xlabel(\"Minutos\", fontsize=12)\n",
    "plt.ylabel(\"Plan\", fontsize=12)\n",
    "\n",
    "# Mostrar el gráfico\n",
    "plt.show()"
   ]
  },
  {
   "cell_type": "markdown",
   "metadata": {},
   "source": [
    "En cuanto a la duración de las llamadas podemos observar que los dos planes tienen comportamientos bastante similares, por un lado, no hay mayor diferencia en la duración promedio a lo largo del año para ninguno de los dos planes (entre 6 y 7 minutos); sin embargo, al revisar la distribución de las duraciones encontramos que estas tienen un sesgo a su derecha mostrando múltiples valores atípicos.\n",
    "\n",
    "Observamos que los usuarios del plan surf tienen un consumo de minutos similar al de usuarios ultimate con un sesgo igualmente marcado a la derecha (a pesar de ser mayor la cantidad de usuarios surf registrada) podemos concluir que no existen diferencias apreciables en los comportamientos de las poblaciones de usuarios surf y ultimate en cuanto al uso de minutos y duración de llamadas."
   ]
  },
  {
   "cell_type": "markdown",
   "metadata": {
    "id": "8idKy8Wh0q1L"
   },
   "source": [
    "### 3.2 Análisis de mensajes. <a id='messages_analysis'></a>"
   ]
  },
  {
   "cell_type": "code",
   "execution_count": 80,
   "metadata": {
    "id": "NXLxiTit0q1L",
    "trusted": true
   },
   "outputs": [
    {
     "data": {
      "image/png": "[encoded data removed]",
      "text/plain": [
       "<Figure size 1000x600 with 1 Axes>"
      ]
     },
     "metadata": {},
     "output_type": "display_data"
    }
   ],
   "source": [
    "# Comprara el número de mensajes que tienden a enviar cada mes los usuarios de cada plan\n",
    "# Visualización de los mensajes mensuales por plan.\n",
    "plt.figure(figsize=(10, 6))\n",
    "surf_users['mess_per_month'].plot(kind='hist', bins=20, color='green', alpha=0.5, legend=True)\n",
    "ultimate_users['mess_per_month'].plot(kind='hist', bins=20, color='orange', alpha=0.5, legend=True)\n",
    "\n",
    "# Agregar título y etiquetas a los ejes\n",
    "plt.title(\"Uso mensual de mensajes en usuarios por plan\", fontsize=14)\n",
    "plt.xlabel(\"Mensajes\", fontsize=12)\n",
    "plt.ylabel(\"Número de ocurrencias mensuales\", fontsize=12)\n",
    "plt.legend(['Surf', 'Ultimate'], title='Tipo de plan')\n",
    "\n",
    "# Mostrar el gráfico\n",
    "plt.show()"
   ]
  },
  {
   "cell_type": "code",
   "execution_count": 81,
   "metadata": {
    "id": "GRI_R7xF0q1L",
    "trusted": true
   },
   "outputs": [
    {
     "name": "stdout",
     "output_type": "stream",
     "text": [
      "El promedio del uso de mensajes es de 31.16 mensajes para usuarios Surf y de 37.55 mensajes para usuarios Ultimate.\n",
      "La varianza del uso de mensajes es de 1126.01 mensajes cuadrados para usuarios Surf y de 1207.08 mensajes cuadrados para usuarios Ultimate.\n"
     ]
    }
   ],
   "source": [
    "# Calcula la media y la varianza del uso de mensajes mensual.\n",
    "# Media y varianza para usuarios Surf.\n",
    "surf_mess_mean = all_month_data[all_month_data['plan'] == 'surf']['mess_per_month'].mean()\n",
    "surf_mess_var = np.var(all_month_data[all_month_data['plan'] == 'surf']['mess_per_month'])\n",
    "\n",
    "# Media y varianza para usuarios Ultimate.\n",
    "ultimate_mess_mean = all_month_data[all_month_data['plan'] == 'ultimate']['mess_per_month'].mean()\n",
    "ultimate_mess_var = np.var(all_month_data[all_month_data['plan'] == 'ultimate']['mess_per_month'])\n",
    "\n",
    "\n",
    "print(f'El promedio del uso de mensajes es de {surf_mess_mean:.2f} mensajes para usuarios Surf y de {ultimate_mess_mean:.2f} mensajes para usuarios Ultimate.')\n",
    "print(f'La varianza del uso de mensajes es de {surf_mess_var:.2f} mensajes cuadrados para usuarios Surf y de {ultimate_mess_var:.2f} mensajes cuadrados para usuarios Ultimate.')"
   ]
  },
  {
   "cell_type": "code",
   "execution_count": 82,
   "metadata": {
    "id": "dtFwCGAp0q1M",
    "trusted": true
   },
   "outputs": [
    {
     "data": {
      "image/png": "[encoded data removed]",
      "text/plain": [
       "<Figure size 640x480 with 1 Axes>"
      ]
     },
     "metadata": {},
     "output_type": "display_data"
    }
   ],
   "source": [
    "# Traza un diagrama de caja para visualizar la distribución del uso de mensajes\n",
    "sns.boxplot(data=all_month_data, x=\"mess_per_month\", y=\"plan\", palette=\"Set2\", order=[\"surf\", \"ultimate\"])\n",
    "\n",
    "# Agregar título y etiquetas a los ejes\n",
    "plt.title(\"Distribución del uso de mensajes por plan\", fontsize=14)\n",
    "plt.xlabel(\"Mensajes\", fontsize=12)\n",
    "plt.ylabel(\"Plan\", fontsize=12)\n",
    "\n",
    "# Mostrar el gráfico\n",
    "plt.show()"
   ]
  },
  {
   "cell_type": "markdown",
   "metadata": {},
   "source": [
    "Para iniciar, podemos observar que los mensajes de texto no son un mecanismo de comunicación tan popular como las llamadas.\n",
    "\n",
    "El histograma y el diagrama de caja nos describen una distribución sesgada a la derecha, un comportamiento similar al que ya evidenciamos en las llamadas. Algo interesante aquí es que alrededor del 25% de los usuarios Surf superan la cantidad de mensajes que incluye su plan, estos usuarios pueden llegar a usar mensajes tanto o en algunos casos más que los usuarios ultimate, podrían ser considerados como usuarios potenciales para una migración a la tarifa Ultimate, sin embargo, se debe evaluar en conjunto con sus otros patrones de consumo para determinar si es una migración rentable."
   ]
  },
  {
   "cell_type": "markdown",
   "metadata": {
    "id": "42YSypXz0q1M"
   },
   "source": [
    "### 3.3 Análisis de internet. <a id='internet_analysis'></a>"
   ]
  },
  {
   "cell_type": "code",
   "execution_count": 83,
   "metadata": {
    "id": "lSuKPtjh0q1M",
    "trusted": true
   },
   "outputs": [
    {
     "data": {
      "image/png": "[encoded data removed]",
      "text/plain": [
       "<Figure size 1000x600 with 1 Axes>"
      ]
     },
     "metadata": {},
     "output_type": "display_data"
    }
   ],
   "source": [
    "# Compara la cantidad de tráfico de Internet consumido por usuarios por plan\n",
    "# Visualización del trafico de Internet mensual por plan.\n",
    "plt.figure(figsize=(10, 6))\n",
    "surf_users['gb_per_month'].plot(kind='hist', bins=20, color='green', alpha=0.5, legend=True)\n",
    "ultimate_users['gb_per_month'].plot(kind='hist', bins=20, color='orange', alpha=0.5, legend=True)\n",
    "\n",
    "# Agregar título y etiquetas a los ejes\n",
    "plt.title(\"Uso mensual de Internet en usuarios por plan\", fontsize=14)\n",
    "plt.xlabel(\"Gb\", fontsize=12)\n",
    "plt.ylabel(\"Número de ocurrencias mensuales\", fontsize=12)\n",
    "plt.legend(['Surf', 'Ultimate'], title='Tipo de plan')\n",
    "\n",
    "# Mostrar el gráfico\n",
    "plt.show()"
   ]
  },
  {
   "cell_type": "code",
   "execution_count": 84,
   "metadata": {
    "id": "wnh8jYXi0q1N",
    "trusted": true
   },
   "outputs": [
    {
     "name": "stdout",
     "output_type": "stream",
     "text": [
      "El promedio del uso de Internet es de 16.67 Gb para usuarios Surf y de 17.31 Gb para usuarios Ultimate.\n",
      "La varianza del uso de Internet es de 61.54 Gb cuadrados para usuarios Surf y de 58.75 Gb cuadrados para usuarios Ultimate.\n"
     ]
    }
   ],
   "source": [
    "# Calcula la media y la varianza del uso de Internet mensual.\n",
    "# Media y varianza para usuarios Surf.\n",
    "surf_int_mean = all_month_data[all_month_data['plan'] == 'surf']['gb_per_month'].mean()\n",
    "surf_int_var = np.var(all_month_data[all_month_data['plan'] == 'surf']['gb_per_month'])\n",
    "\n",
    "# Media y varianza para usuarios Ultimate.\n",
    "ultimate_int_mean = all_month_data[all_month_data['plan'] == 'ultimate']['gb_per_month'].mean()\n",
    "ultimate_int_var = np.var(all_month_data[all_month_data['plan'] == 'ultimate']['gb_per_month'])\n",
    "\n",
    "\n",
    "print(f'El promedio del uso de Internet es de {surf_int_mean:.2f} Gb para usuarios Surf y de {ultimate_int_mean:.2f} Gb para usuarios Ultimate.')\n",
    "print(f'La varianza del uso de Internet es de {surf_int_var:.2f} Gb cuadrados para usuarios Surf y de {ultimate_int_var:.2f} Gb cuadrados para usuarios Ultimate.')"
   ]
  },
  {
   "cell_type": "code",
   "execution_count": 85,
   "metadata": {
    "id": "5VlyJ9ry0q1N",
    "trusted": true
   },
   "outputs": [
    {
     "data": {
      "image/png": "[encoded data removed]",
      "text/plain": [
       "<Figure size 640x480 with 1 Axes>"
      ]
     },
     "metadata": {},
     "output_type": "display_data"
    }
   ],
   "source": [
    "# Traza un diagrama de caja para visualizar la distribución del uso de Internet\n",
    "sns.boxplot(data=all_month_data, x=\"gb_per_month\", y=\"plan\", palette=\"Set2\", order=[\"surf\", \"ultimate\"])\n",
    "\n",
    "# Agregar título y etiquetas a los ejes\n",
    "plt.title(\"Distribución del uso de Internet por plan\", fontsize=14)\n",
    "plt.xlabel(\"Gb\", fontsize=12)\n",
    "plt.ylabel(\"Plan\", fontsize=12)\n",
    "\n",
    "# Mostrar el gráfico\n",
    "plt.show()"
   ]
  },
  {
   "cell_type": "markdown",
   "metadata": {},
   "source": [
    "El consumo de Internet para ambos planes nuevamente es muy similar; sin embargo, algo apreciable es que los usuarios Surf tienen una varianza más grande que los usuarios Ultimate a pesar de tener un límite menor de uso de datos, su comportamiento en el uso de datos es similar e incluso en algunos casos sobrepasa el de usuarios Ultimate.\n",
    "\n",
    "Alrededor del 50% de los usuarios Surf superan el límite de datos de su plan, mientras que solo alrededor del 10% de los usuarios Ultimate lo hacen. Esto podría indicar una oportunidad para ofrecerles una migración a la tarifa Ultimate, especialmente a los usuarios Surf que superan los 20 GB."
   ]
  },
  {
   "cell_type": "markdown",
   "metadata": {
    "id": "tCijq3260q1N"
   },
   "source": [
    "## 3.4 Análisis de ingresos. <a id='income_analysis'></a>"
   ]
  },
  {
   "cell_type": "code",
   "execution_count": null,
   "metadata": {
    "trusted": true
   },
   "outputs": [
    {
     "data": {
      "image/png": "[encoded data removed]",
      "text/plain": [
       "<Figure size 1000x600 with 1 Axes>"
      ]
     },
     "metadata": {},
     "output_type": "display_data"
    }
   ],
   "source": [
    "# Compara ingresos totales por cada plan y por cada mes.\n",
    "income_by_plan_and_month = all_month_data.groupby(['plan', 'month'])['income'].sum()\n",
    "\n",
    "# Configurar el nuevo dataframe\n",
    "income_by_plan_and_month = pd.DataFrame(income_by_plan_and_month)\n",
    "income_by_plan_and_month.reset_index(inplace=True)\n",
    "\n",
    "# Crear la visualización\n",
    "plt.figure(figsize=(10, 6))\n",
    "ax = sns.barplot(data=income_by_plan_and_month, x='month', y='income', hue='plan', palette=custom_palette, ci=None)\n",
    "\n",
    "# Cambiar la leyenda\n",
    "handles, labels = ax.get_legend_handles_labels()\n",
    "ax.legend(handles, ['Surf', 'Ultimate'], title=\"Tipo de plan\", loc=\"upper left\", bbox_to_anchor=(1, 1))\n",
    "\n",
    "# Agregar título y etiquetas a los ejes\n",
    "plt.title(\"Ingresos por plan y mes\", fontsize=14)\n",
    "plt.xlabel(\"Mes\", fontsize=12)\n",
    "plt.ylabel(\"Ingresos totales (USD)\", fontsize=12)\n",
    "ax.set_xticklabels(['Ene', 'Feb', 'Mar', 'Abr', 'May', 'Jun', 'Jul', 'Ago', 'Sep', 'Oct', 'Nov', 'Dic'])\n",
    "\n",
    "# Mostrar el gráfico\n",
    "plt.show()"
   ]
  },
  {
   "cell_type": "code",
   "execution_count": 87,
   "metadata": {
    "id": "tz-dq_V00q1O",
    "trusted": true
   },
   "outputs": [
    {
     "data": {
      "image/png": "[encoded data removed]",
      "text/plain": [
       "<Figure size 1000x600 with 1 Axes>"
      ]
     },
     "metadata": {},
     "output_type": "display_data"
    }
   ],
   "source": [
    "# Compara la cantidad de ingresos por usuarios por plan\n",
    "# Visualización del ingreso mensual por plan.\n",
    "plt.figure(figsize=(10, 6))\n",
    "surf_users['income'].plot(kind='hist', bins=20, color='green', alpha=0.5, legend=True)\n",
    "ultimate_users['income'].plot(kind='hist', bins=20, color='orange', alpha=0.5, legend=True)\n",
    "\n",
    "# Agregar título y etiquetas a los ejes\n",
    "plt.title(\"Ingresos mensuales por plan\", fontsize=14)\n",
    "plt.xlabel(\"USD\", fontsize=12)\n",
    "plt.ylabel(\"Número de ocurrencias mensuales\", fontsize=12)\n",
    "plt.legend(['Surf', 'Ultimate'], title='Tipo de plan')\n",
    "\n",
    "# Mostrar el gráfico\n",
    "plt.show()"
   ]
  },
  {
   "cell_type": "code",
   "execution_count": 88,
   "metadata": {
    "id": "0Y1v8ZUz0q1P",
    "trusted": true
   },
   "outputs": [
    {
     "name": "stdout",
     "output_type": "stream",
     "text": [
      "El promedio de ingresos es de 60.33 USD para usuarios Surf y de 72.31 USD para usuarios Ultimate.\n",
      "La varianza de ingresos es de 3052.16 USD cuadrados para usuarios Surf y de 129.67 USD cuadrados para usuarios Ultimate.\n"
     ]
    }
   ],
   "source": [
    "# Calcula la media y la varianza de los ingresos.\n",
    "# Media y varianza para usuarios Surf.\n",
    "surf_income_mean = all_month_data[all_month_data['plan'] == 'surf']['income'].mean()\n",
    "surf_income_var = np.var(all_month_data[all_month_data['plan'] == 'surf']['income'])\n",
    "\n",
    "# Media y varianza para usuarios Ultimate.\n",
    "ultimate_income_mean = all_month_data[all_month_data['plan'] == 'ultimate']['income'].mean()\n",
    "ultimate_income_var = np.var(all_month_data[all_month_data['plan'] == 'ultimate']['income'])\n",
    "\n",
    "\n",
    "print(f'El promedio de ingresos es de {surf_income_mean:.2f} USD para usuarios Surf y de {ultimate_income_mean:.2f} USD para usuarios Ultimate.')\n",
    "print(f'La varianza de ingresos es de {surf_income_var:.2f} USD cuadrados para usuarios Surf y de {ultimate_income_var:.2f} USD cuadrados para usuarios Ultimate.')"
   ]
  },
  {
   "cell_type": "code",
   "execution_count": 89,
   "metadata": {
    "id": "bYmwxyVh0q1P",
    "trusted": true
   },
   "outputs": [
    {
     "data": {
      "image/png": "[encoded data removed]",
      "text/plain": [
       "<Figure size 640x480 with 1 Axes>"
      ]
     },
     "metadata": {},
     "output_type": "display_data"
    }
   ],
   "source": [
    "# Traza un diagrama de caja para visualizar la distribución de ingresos\n",
    "sns.boxplot(data=all_month_data, x=\"income\", y=\"plan\", palette=\"Set2\", order=[\"surf\", \"ultimate\"])\n",
    "\n",
    "# Agregar título y etiquetas a los ejes\n",
    "plt.title(\"Distribución de ingresos por plan\", fontsize=14)\n",
    "plt.xlabel(\"USD\", fontsize=12)\n",
    "plt.ylabel(\"Plan\", fontsize=12)\n",
    "\n",
    "# Mostrar el gráfico\n",
    "plt.show()"
   ]
  },
  {
   "cell_type": "markdown",
   "metadata": {},
   "source": [
    "En la distribución mensual se puede apreciar cómo el plan Surf aumenta los ingresos a lo largo del año, inclusive a partir de mitad de año es alrededor del doble de los ingresos del plan Ultimate en cada mes.\n",
    "\n",
    "Observando el histograma, concluimos que pocos usuarios del plan Ultimate superan su tarifa mensual base de 70 dólares; sin embargo, en el plan Surf hay una gran cantidad de usuarios que superan por mucho inclusive la tarifa base del plan Ultimate. Esto también es respaldado observando los promedios de cada plan, en donde el plan Ultimate maneja su promedio muy cerca a la tarifa base, mientras que en el plan Surf el promedio aumenta gracias a todos estos usuarios que consumen mucho más que los beneficios incluidos en su plan.\n",
    "\n",
    "Con el diagrama de caja podemos observar que el plan Surf tiene una gran cantidad de usuarios que superan los 70 dólares mensuales, mientras que el plan Ultimate no tiene usuarios que superen los 70 dólares mensuales. Esto indica que el plan Surf es más rentable para la empresa, ya que tiene un mayor número de usuarios que generan ingresos adicionales.\n",
    "\n",
    "Un plan de negocios exitoso debe tener un equilibrio entre la cantidad de usuarios y los ingresos generados. En este caso, el plan Surf tiene más usuarios que el plan Ultimate, pero también genera más ingresos por usuario. Esto sugiere que el plan Surf es más rentable para la empresa.\n",
    "\n",
    "También se podría considerar ofrecer el plan Ultimate a aquellos usuarios que pretendan abandonar el servicio desde el plan Surf y que tengan altos comportamientos de consumo, esto sería más atractivo para ellos debido a su mayor límite de minutos, mensajes y datos asegurándoles un precio menor y más estable a lo largo de los meses."
   ]
  },
  {
   "cell_type": "markdown",
   "metadata": {
    "id": "ajJ7VKeI0q1Q"
   },
   "source": [
    "## 4. Pruebas de las hipótesis estadísticas. <a id='hypothesis'></a>"
   ]
  },
  {
   "cell_type": "markdown",
   "metadata": {},
   "source": [
    "En este apartado se realizarán pruebas de hipótesis para determinar si hay diferencias significativas entre ciertos ingresos mensuales. Para esto, se utilizará la prueba t de Student para muestras independientes, y utilizaremos un porcentaje de significancia del 5% (0.05)."
   ]
  },
  {
   "cell_type": "markdown",
   "metadata": {
    "id": "IQwa_hsh0q1Q"
   },
   "source": [
    "### 4.1. Hipótesis 1: El ingreso promedio de los usuarios de las tarifas Ultimate y Surf difiere. <a id='hypothesis_1'></a>"
   ]
  },
  {
   "cell_type": "markdown",
   "metadata": {},
   "source": [
    "Hipótesis nula: los ingresos promedio procedentes de los usuarios Surf son iguales a los procedentes de los usuarios Ultimate.\n",
    "\n",
    "Hipótesis altermativa: los ingresos promedio procedentes de los usuarios Surf son diferentes a los procedentes de los usuarios Ultimate."
   ]
  },
  {
   "cell_type": "code",
   "execution_count": 90,
   "metadata": {
    "id": "nFoPNlPq0q1R",
    "trusted": true
   },
   "outputs": [
    {
     "name": "stdout",
     "output_type": "stream",
     "text": [
      "valor p:  3.6278039040985444e-16\n",
      "Rechazamos la hipótesis nula\n"
     ]
    }
   ],
   "source": [
    "# Prueba las hipótesis\n",
    "# Encontramos los ingresos que compararemos en la prueba de hipótesis.\n",
    "ingresos_prom_surf = all_month_data[all_month_data['plan'] == 'surf']['income']\n",
    "ingresos_prom_ultimate = all_month_data[all_month_data['plan'] == 'ultimate']['income']\n",
    "\n",
    "alpha = 0.05\n",
    "\n",
    "resultados = st.ttest_ind(ingresos_prom_surf, ingresos_prom_ultimate, equal_var=False)\n",
    "\n",
    "print('valor p: ', resultados.pvalue)\n",
    "\n",
    "# Comparamos el valor p con el umbral\n",
    "if resultados.pvalue < alpha: \n",
    "    print(\"Rechazamos la hipótesis nula\")\n",
    "else:\n",
    "    print(\"No podemos rechazar la hipótesis nula\")"
   ]
  },
  {
   "cell_type": "markdown",
   "metadata": {},
   "source": [
    "\n",
    "El valor p es increíblemente bajo, por lo que la posibilidad de que los ingresos provenientes de los usuarios del plan Surf y del plan Ultimate sean iguales es casi imposible. Esto nos permite rechazar la hipótesis nula y aceptar la hipótesis original."
   ]
  },
  {
   "cell_type": "markdown",
   "metadata": {
    "id": "tCcAruM60q1R"
   },
   "source": [
    "Concluimos entonces que los ingresos promedio de los usuarios de las tarifas Ultimate y Surf difieren significativamente, siendo el ingreso promedio de los usuarios del plan Surf mayor que el de los usuarios del plan Ultimate."
   ]
  },
  {
   "cell_type": "markdown",
   "metadata": {
    "id": "LsBgitqj0q1R"
   },
   "source": [
    "\n",
    "### 4.2. Hipótesis 2: El ingreso promedio de los usuarios en el área de estados Nueva York-Nueva Jersey es diferente al de los usuarios de otras regiones. <a id='hypothesis_2'></a>"
   ]
  },
  {
   "cell_type": "markdown",
   "metadata": {},
   "source": [
    "Hipótesis nula: el ingreso promedio procedente de los usuarios del area NY-NJ es igual a el procedente de los usuarios de otras regiones.\n",
    "\n",
    "Hipótesis altermativa: el ingreso promedio procedente de los usuarios del area NY-NJ es diferente a el procedente de los usuarios de otras regiones."
   ]
  },
  {
   "cell_type": "code",
   "execution_count": 91,
   "metadata": {
    "id": "Cqcj7wrZ0q1S",
    "trusted": true
   },
   "outputs": [
    {
     "name": "stdout",
     "output_type": "stream",
     "text": [
      "valor p:  0.03123778844458518\n",
      "Rechazamos la hipótesis nula\n"
     ]
    }
   ],
   "source": [
    "# Prueba las hipótesis\n",
    "usuarios_NY_NJ = users_df[users_df['city'].str.contains('NY-NJ')]['user_id']\n",
    "income_usuarios_NY_NJ = all_month_data[all_month_data['user_id'].isin(usuarios_NY_NJ)]['income']\n",
    "\n",
    "usuarios_diff_NY_NJ = users_df[~users_df['city'].str.contains('NY-NJ')]['user_id']\n",
    "income_usuarios_diff_NY_NJ = all_month_data[all_month_data['user_id'].isin(usuarios_diff_NY_NJ)]['income']\n",
    "\n",
    "alpha = 0.05\n",
    "\n",
    "resultados = st.ttest_ind(income_usuarios_NY_NJ, income_usuarios_diff_NY_NJ, equal_var=False)\n",
    "\n",
    "print('valor p: ', resultados.pvalue)\n",
    "\n",
    "if resultados.pvalue < alpha: # comparar el valor p con el umbral\n",
    "    print(\"Rechazamos la hipótesis nula\")\n",
    "else:\n",
    "    print(\"No podemos rechazar la hipótesis nula\")"
   ]
  },
  {
   "cell_type": "markdown",
   "metadata": {},
   "source": [
    "El valor p es del 3.1% es más bajo que el umbral alfa de significancia que definimos del 5%, en este caso hay alrededor de un 3% de posibilidades de que la hipótesis nula se cumpla (que los ingresos de los usuarios de NY-NJ sea igual a la de usuarios de otras regiones), esto nos permite descartar la hipótesis nula de acuerdo a los criterios que definimos, pero no implica que sea un evento imposible de que suceda.\n",
    "\n",
    "Concluimos entonces que el ingreso promedio de los usuarios en el área de Nueva York-Nueva Jersey es diferente al de los usuarios de otras regiones."
   ]
  },
  {
   "cell_type": "markdown",
   "metadata": {
    "id": "bbTR8UQO0q1T"
   },
   "source": [
    "## Conclusiones <a id='end'></a>"
   ]
  },
  {
   "cell_type": "markdown",
   "metadata": {},
   "source": [
    "De nuestro estudio podemos destacar las siguientes conclusiones:\n",
    "\n",
    "- Los usuarios Surf y Ultimate tienen comportamientos muy similares en el uso de mensajes, llamadas y su duración; sin embargo, presentan una diferencia un poco más leve en cuanto al uso de Internet, demostrando que los usuarios Surf utilizan más GB a lo largo del mes.\n",
    "\n",
    "- Los ingresos del plan Surf son mayores que los ingresos del plan Ultimate, inclusive en los últimos meses del año duplican su valor. Esto se debe en gran medida a que alrededor del 50% de los usuarios Surf demuestran exceder el límite de GB que incluye su plan (15) y en una menor medida a que alrededor del 25% de los usuarios Surf superan el límite de mensajes incluidos en su plan (50).\n",
    "\n",
    "- Los ingresos de los usuarios del plan Ultimate son muy cercanos a la tarifa base de 70 dólares, siendo un ingreso menos volátil para la empresa y un plan más estable para los clientes.\n",
    "\n",
    "- El plan Surf tiene un mayor número de usuarios que el plan Ultimate, lo que indica que es más popular entre los clientes.\n",
    "\n",
    "- El presupuesto del plan publicitario debería enfocarse en el plan Surf, ya que genera mayor cantidad de ingresos que el plan Ultimate.\n",
    "\n",
    "- Se recomienda ofrecer el plan Ultimate a aquellos usuarios que superan los límites de su plan Surf y piensan en abandonar el servicio. Esto podría ser más atractivo para ellos y mantener ingresos para la empresa ante una posible pérdida de clientes."
   ]
  }
 ],
 "metadata": {
  "ExecuteTimeLog": [
   {
    "duration": 828,
    "start_time": "2021-11-16T09:21:11.304Z"
   },
   {
    "duration": 893,
    "start_time": "2021-11-16T09:21:17.728Z"
   },
   {
    "duration": 1150,
    "start_time": "2021-11-16T09:21:29.568Z"
   },
   {
    "duration": 3,
    "start_time": "2021-11-16T09:24:14.495Z"
   },
   {
    "duration": 120,
    "start_time": "2021-11-16T09:24:46.630Z"
   },
   {
    "duration": 3,
    "start_time": "2021-11-16T09:28:27.882Z"
   },
   {
    "duration": 4,
    "start_time": "2021-11-16T09:29:54.281Z"
   },
   {
    "duration": 3,
    "start_time": "2021-11-16T09:30:45.936Z"
   },
   {
    "duration": 4,
    "start_time": "2021-11-16T09:31:06.300Z"
   },
   {
    "duration": 113,
    "start_time": "2021-11-16T09:31:37.208Z"
   },
   {
    "duration": 143,
    "start_time": "2021-11-16T09:31:48.656Z"
   },
   {
    "duration": 98,
    "start_time": "2021-11-16T09:31:55.678Z"
   },
   {
    "duration": 3,
    "start_time": "2021-11-16T09:32:08.535Z"
   },
   {
    "duration": 111,
    "start_time": "2021-11-16T09:32:10.120Z"
   },
   {
    "duration": 3,
    "start_time": "2021-11-16T09:32:15.732Z"
   },
   {
    "duration": 4,
    "start_time": "2021-11-16T09:32:29.423Z"
   },
   {
    "duration": 3,
    "start_time": "2021-11-16T10:03:03.074Z"
   },
   {
    "duration": 3,
    "start_time": "2021-11-16T10:10:01.288Z"
   },
   {
    "duration": 3,
    "start_time": "2021-11-16T10:10:46.923Z"
   },
   {
    "duration": 121,
    "start_time": "2021-11-16T10:37:46.494Z"
   },
   {
    "duration": 125,
    "start_time": "2021-11-16T10:38:20.632Z"
   },
   {
    "duration": 112,
    "start_time": "2021-11-16T10:46:53.001Z"
   },
   {
    "duration": 110,
    "start_time": "2021-11-16T10:48:25.775Z"
   },
   {
    "duration": 3,
    "start_time": "2021-11-16T10:50:18.720Z"
   },
   {
    "duration": 4,
    "start_time": "2021-11-16T10:50:37.649Z"
   },
   {
    "duration": 2,
    "start_time": "2021-11-16T10:50:51.884Z"
   },
   {
    "duration": 3,
    "start_time": "2021-11-16T10:51:56.237Z"
   },
   {
    "duration": 101,
    "start_time": "2021-11-16T10:53:13.791Z"
   },
   {
    "duration": 3,
    "start_time": "2021-11-16T10:55:59.186Z"
   },
   {
    "duration": 3,
    "start_time": "2021-11-16T10:56:10.751Z"
   },
   {
    "duration": 3,
    "start_time": "2021-11-16T10:56:49.038Z"
   },
   {
    "duration": 3,
    "start_time": "2021-11-16T10:56:49.174Z"
   },
   {
    "duration": 4,
    "start_time": "2021-11-16T10:56:49.414Z"
   },
   {
    "duration": 3,
    "start_time": "2021-11-16T10:56:49.680Z"
   },
   {
    "duration": 3,
    "start_time": "2021-11-16T10:56:50.370Z"
   },
   {
    "duration": 114,
    "start_time": "2021-11-16T10:59:34.518Z"
   },
   {
    "duration": 3,
    "start_time": "2021-11-16T11:01:41.201Z"
   },
   {
    "duration": 116,
    "start_time": "2021-11-16T11:01:48.754Z"
   },
   {
    "duration": 3,
    "start_time": "2021-11-16T11:02:16.685Z"
   },
   {
    "duration": 3,
    "start_time": "2021-11-16T11:02:19.479Z"
   },
   {
    "duration": 3,
    "start_time": "2021-11-16T11:02:47.067Z"
   },
   {
    "duration": 3,
    "start_time": "2021-11-16T11:02:49.353Z"
   },
   {
    "duration": 3,
    "start_time": "2021-11-16T11:03:07.835Z"
   },
   {
    "duration": 3,
    "start_time": "2021-11-16T11:03:07.953Z"
   },
   {
    "duration": 112,
    "start_time": "2021-11-16T11:07:52.072Z"
   },
   {
    "duration": 187,
    "start_time": "2021-11-16T11:09:23.468Z"
   },
   {
    "duration": 4,
    "start_time": "2021-11-16T11:10:01.455Z"
   },
   {
    "duration": 3,
    "start_time": "2021-11-16T11:10:05.069Z"
   },
   {
    "duration": 4,
    "start_time": "2021-11-16T11:10:13.376Z"
   },
   {
    "duration": 3,
    "start_time": "2021-11-16T11:10:14.434Z"
   },
   {
    "duration": 3,
    "start_time": "2021-11-16T11:10:22.853Z"
   },
   {
    "duration": 4,
    "start_time": "2021-11-16T11:27:29.279Z"
   },
   {
    "duration": 4,
    "start_time": "2021-11-16T11:29:08.919Z"
   },
   {
    "duration": 118,
    "start_time": "2021-11-16T11:29:46.703Z"
   },
   {
    "duration": 437,
    "start_time": "2021-11-16T11:36:02.181Z"
   },
   {
    "duration": 157,
    "start_time": "2021-11-16T11:36:14.388Z"
   },
   {
    "duration": 207,
    "start_time": "2021-11-16T11:47:15.898Z"
   },
   {
    "duration": 3,
    "start_time": "2021-11-16T11:53:52.092Z"
   },
   {
    "duration": 3,
    "start_time": "2021-11-16T11:53:52.236Z"
   },
   {
    "duration": 3,
    "start_time": "2021-11-16T11:59:12.005Z"
   },
   {
    "duration": 112,
    "start_time": "2021-11-16T12:00:33.446Z"
   },
   {
    "duration": 3,
    "start_time": "2021-11-16T12:02:14.453Z"
   },
   {
    "duration": 3,
    "start_time": "2021-11-16T12:02:39.512Z"
   },
   {
    "duration": 106,
    "start_time": "2021-11-16T12:03:03.460Z"
   },
   {
    "duration": 3,
    "start_time": "2021-11-17T20:37:21.139Z"
   },
   {
    "duration": 3,
    "start_time": "2021-11-17T20:37:22.229Z"
   },
   {
    "duration": 3,
    "start_time": "2021-11-17T20:38:38.806Z"
   },
   {
    "duration": 3,
    "start_time": "2021-11-17T20:38:41.958Z"
   },
   {
    "duration": 3,
    "start_time": "2021-11-17T20:43:46.551Z"
   },
   {
    "duration": 4,
    "start_time": "2021-11-17T20:58:21.835Z"
   },
   {
    "duration": 3,
    "start_time": "2021-11-17T20:59:21.872Z"
   },
   {
    "duration": 4,
    "start_time": "2021-11-17T20:59:45.352Z"
   },
   {
    "duration": 4,
    "start_time": "2021-11-17T20:59:49.646Z"
   },
   {
    "duration": 159,
    "start_time": "2021-11-17T21:02:26.949Z"
   },
   {
    "duration": 3,
    "start_time": "2021-11-17T21:03:53.461Z"
   },
   {
    "duration": 3,
    "start_time": "2021-11-17T21:03:53.694Z"
   },
   {
    "duration": 3,
    "start_time": "2021-11-17T21:05:28.145Z"
   },
   {
    "duration": 116,
    "start_time": "2021-11-17T21:05:57.787Z"
   },
   {
    "duration": 3,
    "start_time": "2021-11-17T21:06:37.993Z"
   },
   {
    "duration": 3,
    "start_time": "2021-11-17T21:06:38.261Z"
   },
   {
    "duration": 3,
    "start_time": "2021-11-17T21:11:54.358Z"
   },
   {
    "duration": 3,
    "start_time": "2021-11-17T21:12:43.846Z"
   },
   {
    "duration": 4,
    "start_time": "2021-11-17T21:13:08.773Z"
   },
   {
    "duration": 3,
    "start_time": "2021-11-17T21:14:44.441Z"
   },
   {
    "duration": 3,
    "start_time": "2021-11-17T21:15:42.059Z"
   },
   {
    "duration": 4,
    "start_time": "2021-11-17T21:15:51.995Z"
   },
   {
    "duration": 3,
    "start_time": "2021-11-17T21:15:53.923Z"
   },
   {
    "duration": 3,
    "start_time": "2021-11-17T21:15:55.282Z"
   },
   {
    "duration": 3,
    "start_time": "2021-11-17T21:16:28.492Z"
   },
   {
    "duration": 3,
    "start_time": "2021-11-17T21:16:32.603Z"
   },
   {
    "duration": 3,
    "start_time": "2021-11-17T21:17:06.941Z"
   },
   {
    "duration": 98,
    "start_time": "2021-11-17T21:18:05.733Z"
   },
   {
    "duration": 4,
    "start_time": "2021-11-17T21:21:35.255Z"
   },
   {
    "duration": 3,
    "start_time": "2021-11-17T21:21:37.804Z"
   },
   {
    "duration": 4,
    "start_time": "2021-11-17T21:23:06.071Z"
   },
   {
    "duration": 3,
    "start_time": "2021-11-17T21:23:24.799Z"
   },
   {
    "duration": 3,
    "start_time": "2021-11-17T21:23:32.591Z"
   },
   {
    "duration": 98,
    "start_time": "2021-11-17T21:28:31.559Z"
   },
   {
    "duration": 3,
    "start_time": "2021-11-17T21:28:45.448Z"
   },
   {
    "duration": 3,
    "start_time": "2021-11-17T21:29:17.303Z"
   },
   {
    "duration": 3,
    "start_time": "2021-11-17T21:29:29.617Z"
   },
   {
    "duration": 3,
    "start_time": "2021-11-17T21:29:32.681Z"
   },
   {
    "duration": 3,
    "start_time": "2021-11-17T21:36:11.474Z"
   },
   {
    "duration": 3,
    "start_time": "2021-11-17T21:36:14.791Z"
   },
   {
    "duration": 3,
    "start_time": "2021-11-17T21:36:53.943Z"
   },
   {
    "duration": 3,
    "start_time": "2021-11-17T21:36:56.165Z"
   },
   {
    "duration": 4,
    "start_time": "2021-11-17T21:37:16.590Z"
   },
   {
    "duration": 3,
    "start_time": "2021-11-17T21:37:22.702Z"
   },
   {
    "duration": 4,
    "start_time": "2021-11-17T21:38:03.479Z"
   },
   {
    "duration": 3,
    "start_time": "2021-11-17T21:38:08.601Z"
   },
   {
    "duration": 3,
    "start_time": "2021-11-17T21:38:12.928Z"
   },
   {
    "duration": 3,
    "start_time": "2021-11-17T21:38:48.896Z"
   },
   {
    "duration": 2,
    "start_time": "2021-11-17T21:38:49.171Z"
   },
   {
    "duration": 4,
    "start_time": "2021-11-17T21:39:57.889Z"
   },
   {
    "duration": 3,
    "start_time": "2021-11-17T21:39:58.057Z"
   },
   {
    "duration": 3,
    "start_time": "2021-11-17T21:41:20.108Z"
   },
   {
    "duration": 3,
    "start_time": "2021-11-17T21:41:20.629Z"
   },
   {
    "duration": 3,
    "start_time": "2021-11-17T21:42:49.136Z"
   },
   {
    "duration": 3,
    "start_time": "2021-11-17T21:43:15.137Z"
   },
   {
    "duration": 4,
    "start_time": "2021-11-17T21:43:16.766Z"
   },
   {
    "duration": 4,
    "start_time": "2021-11-17T21:43:31.711Z"
   },
   {
    "duration": 3,
    "start_time": "2021-11-17T21:43:36.312Z"
   },
   {
    "duration": 4,
    "start_time": "2021-11-17T21:45:08.825Z"
   },
   {
    "duration": 4,
    "start_time": "2021-11-17T21:45:10.119Z"
   },
   {
    "duration": 4,
    "start_time": "2021-11-17T21:45:13.748Z"
   },
   {
    "duration": 3,
    "start_time": "2021-11-17T21:45:22.219Z"
   },
   {
    "duration": 3,
    "start_time": "2021-11-17T21:45:33.412Z"
   },
   {
    "duration": 2,
    "start_time": "2021-11-17T21:46:01.885Z"
   },
   {
    "duration": 3,
    "start_time": "2021-11-17T21:46:03.628Z"
   },
   {
    "duration": 107,
    "start_time": "2021-11-17T21:47:32.512Z"
   },
   {
    "duration": 103,
    "start_time": "2021-11-17T21:50:36.243Z"
   },
   {
    "duration": 3,
    "start_time": "2021-11-18T06:28:31.440Z"
   },
   {
    "duration": 3,
    "start_time": "2021-11-18T06:29:00.168Z"
   },
   {
    "duration": 3,
    "start_time": "2021-11-18T06:31:27.008Z"
   },
   {
    "duration": 2,
    "start_time": "2021-11-18T06:35:34.288Z"
   },
   {
    "duration": 2,
    "start_time": "2021-11-18T06:38:04.527Z"
   },
   {
    "duration": 643,
    "start_time": "2025-03-11T00:52:36.068Z"
   },
   {
    "duration": 249,
    "start_time": "2025-03-11T00:53:11.150Z"
   },
   {
    "duration": 94,
    "start_time": "2025-03-11T00:53:22.749Z"
   },
   {
    "duration": 75,
    "start_time": "2025-03-11T00:53:28.468Z"
   },
   {
    "duration": 197,
    "start_time": "2025-03-11T00:57:20.538Z"
   },
   {
    "duration": 9,
    "start_time": "2025-03-11T00:57:43.120Z"
   },
   {
    "duration": 7,
    "start_time": "2025-03-11T00:58:02.605Z"
   },
   {
    "duration": 10,
    "start_time": "2025-03-11T01:11:38.912Z"
   },
   {
    "duration": 15,
    "start_time": "2025-03-11T01:11:59.763Z"
   },
   {
    "duration": 19,
    "start_time": "2025-03-11T01:13:45.872Z"
   },
   {
    "duration": 16,
    "start_time": "2025-03-11T01:15:08.887Z"
   },
   {
    "duration": 19,
    "start_time": "2025-03-11T01:16:23.565Z"
   },
   {
    "duration": 13,
    "start_time": "2025-03-11T01:17:28.204Z"
   },
   {
    "duration": 8,
    "start_time": "2025-03-11T01:30:00.590Z"
   },
   {
    "duration": 12,
    "start_time": "2025-03-11T01:39:36.008Z"
   },
   {
    "duration": 3,
    "start_time": "2025-03-11T01:40:40.027Z"
   },
   {
    "duration": 9,
    "start_time": "2025-03-11T01:40:54.535Z"
   },
   {
    "duration": 13,
    "start_time": "2025-03-11T01:41:07.077Z"
   },
   {
    "duration": 44,
    "start_time": "2025-03-11T01:41:16.822Z"
   },
   {
    "duration": 14,
    "start_time": "2025-03-11T01:41:50.908Z"
   },
   {
    "duration": 173,
    "start_time": "2025-03-11T01:42:04.630Z"
   },
   {
    "duration": 13,
    "start_time": "2025-03-11T01:42:08.384Z"
   },
   {
    "duration": 151,
    "start_time": "2025-03-11T01:42:25.698Z"
   },
   {
    "duration": 5,
    "start_time": "2025-03-11T01:42:29.670Z"
   },
   {
    "duration": 13,
    "start_time": "2025-03-11T01:42:34.369Z"
   },
   {
    "duration": 9,
    "start_time": "2025-03-11T01:42:41.096Z"
   },
   {
    "duration": 12,
    "start_time": "2025-03-11T01:43:24.773Z"
   },
   {
    "duration": 18,
    "start_time": "2025-03-11T01:43:45.741Z"
   },
   {
    "duration": 20,
    "start_time": "2025-03-11T01:44:40.191Z"
   },
   {
    "duration": 335,
    "start_time": "2025-03-11T01:45:22.357Z"
   },
   {
    "duration": 26,
    "start_time": "2025-03-11T01:45:50.166Z"
   },
   {
    "duration": 34,
    "start_time": "2025-03-11T01:46:13.397Z"
   },
   {
    "duration": 15,
    "start_time": "2025-03-11T01:47:08.984Z"
   },
   {
    "duration": 26,
    "start_time": "2025-03-11T01:47:29.741Z"
   },
   {
    "duration": 18,
    "start_time": "2025-03-11T01:49:05.643Z"
   },
   {
    "duration": 31,
    "start_time": "2025-03-11T01:50:12.488Z"
   },
   {
    "duration": 14,
    "start_time": "2025-03-11T01:51:44.611Z"
   },
   {
    "duration": 20,
    "start_time": "2025-03-11T01:57:36.631Z"
   },
   {
    "duration": 635,
    "start_time": "2025-03-11T02:07:11.570Z"
   },
   {
    "duration": 158,
    "start_time": "2025-03-11T02:07:12.207Z"
   },
   {
    "duration": 19,
    "start_time": "2025-03-11T02:07:12.366Z"
   },
   {
    "duration": 19,
    "start_time": "2025-03-11T02:07:12.387Z"
   },
   {
    "duration": 15,
    "start_time": "2025-03-11T02:07:12.407Z"
   },
   {
    "duration": 18,
    "start_time": "2025-03-11T02:07:12.424Z"
   },
   {
    "duration": 35,
    "start_time": "2025-03-11T02:07:12.444Z"
   },
   {
    "duration": 7,
    "start_time": "2025-03-11T02:07:12.481Z"
   },
   {
    "duration": 18,
    "start_time": "2025-03-11T02:07:12.490Z"
   },
   {
    "duration": 69,
    "start_time": "2025-03-11T02:07:12.513Z"
   },
   {
    "duration": 26,
    "start_time": "2025-03-11T02:07:12.584Z"
   },
   {
    "duration": 31,
    "start_time": "2025-03-11T02:07:12.612Z"
   },
   {
    "duration": 14,
    "start_time": "2025-03-11T02:07:12.670Z"
   },
   {
    "duration": 2,
    "start_time": "2025-03-11T02:07:12.686Z"
   },
   {
    "duration": 3,
    "start_time": "2025-03-11T02:07:12.689Z"
   },
   {
    "duration": 4,
    "start_time": "2025-03-11T02:07:12.694Z"
   },
   {
    "duration": 3,
    "start_time": "2025-03-11T02:07:12.700Z"
   },
   {
    "duration": 3,
    "start_time": "2025-03-11T02:07:12.705Z"
   },
   {
    "duration": 2,
    "start_time": "2025-03-11T02:07:12.710Z"
   },
   {
    "duration": 3,
    "start_time": "2025-03-11T02:07:12.714Z"
   },
   {
    "duration": 4,
    "start_time": "2025-03-11T02:07:12.718Z"
   },
   {
    "duration": 3,
    "start_time": "2025-03-11T02:07:12.723Z"
   },
   {
    "duration": 42,
    "start_time": "2025-03-11T02:07:12.728Z"
   },
   {
    "duration": 2,
    "start_time": "2025-03-11T02:07:12.771Z"
   },
   {
    "duration": 3,
    "start_time": "2025-03-11T02:07:12.775Z"
   },
   {
    "duration": 3,
    "start_time": "2025-03-11T02:07:12.780Z"
   },
   {
    "duration": 3,
    "start_time": "2025-03-11T02:07:12.785Z"
   },
   {
    "duration": 2,
    "start_time": "2025-03-11T02:07:12.792Z"
   },
   {
    "duration": 3,
    "start_time": "2025-03-11T02:07:12.796Z"
   },
   {
    "duration": 2,
    "start_time": "2025-03-11T02:07:12.801Z"
   },
   {
    "duration": 3,
    "start_time": "2025-03-11T02:07:12.804Z"
   },
   {
    "duration": 3,
    "start_time": "2025-03-11T02:07:12.809Z"
   },
   {
    "duration": 3,
    "start_time": "2025-03-11T02:07:12.813Z"
   },
   {
    "duration": 3,
    "start_time": "2025-03-11T02:07:12.818Z"
   },
   {
    "duration": 3,
    "start_time": "2025-03-11T02:07:12.823Z"
   },
   {
    "duration": 41,
    "start_time": "2025-03-11T02:07:12.829Z"
   },
   {
    "duration": 2,
    "start_time": "2025-03-11T02:07:12.872Z"
   },
   {
    "duration": 9,
    "start_time": "2025-03-11T02:23:30.500Z"
   },
   {
    "duration": 9,
    "start_time": "2025-03-11T02:24:28.578Z"
   },
   {
    "duration": 16,
    "start_time": "2025-03-11T02:28:01.795Z"
   },
   {
    "duration": 17,
    "start_time": "2025-03-11T02:28:18.526Z"
   },
   {
    "duration": 12,
    "start_time": "2025-03-11T02:29:08.097Z"
   },
   {
    "duration": 7,
    "start_time": "2025-03-11T02:29:16.695Z"
   },
   {
    "duration": 11,
    "start_time": "2025-03-11T02:29:24.991Z"
   },
   {
    "duration": 14,
    "start_time": "2025-03-11T02:30:28.172Z"
   },
   {
    "duration": 13,
    "start_time": "2025-03-11T02:30:47.628Z"
   },
   {
    "duration": 18,
    "start_time": "2025-03-11T02:40:28.113Z"
   },
   {
    "duration": 16,
    "start_time": "2025-03-11T02:59:50.007Z"
   },
   {
    "duration": 13,
    "start_time": "2025-03-11T03:09:45.425Z"
   },
   {
    "duration": 655,
    "start_time": "2025-03-11T03:10:46.483Z"
   },
   {
    "duration": 14,
    "start_time": "2025-03-11T03:11:09.984Z"
   },
   {
    "duration": 7,
    "start_time": "2025-03-11T03:12:25.939Z"
   },
   {
    "duration": 630,
    "start_time": "2025-03-11T03:17:54.172Z"
   },
   {
    "duration": 177,
    "start_time": "2025-03-11T03:17:54.804Z"
   },
   {
    "duration": 10,
    "start_time": "2025-03-11T03:17:54.983Z"
   },
   {
    "duration": 10,
    "start_time": "2025-03-11T03:17:54.995Z"
   },
   {
    "duration": 13,
    "start_time": "2025-03-11T03:17:55.007Z"
   },
   {
    "duration": 7,
    "start_time": "2025-03-11T03:17:55.022Z"
   },
   {
    "duration": 9,
    "start_time": "2025-03-11T03:17:55.030Z"
   },
   {
    "duration": 40,
    "start_time": "2025-03-11T03:17:55.040Z"
   },
   {
    "duration": 16,
    "start_time": "2025-03-11T03:17:55.082Z"
   },
   {
    "duration": 10,
    "start_time": "2025-03-11T03:17:55.100Z"
   },
   {
    "duration": 66,
    "start_time": "2025-03-11T03:17:55.111Z"
   },
   {
    "duration": 15,
    "start_time": "2025-03-11T03:17:55.178Z"
   },
   {
    "duration": 10,
    "start_time": "2025-03-11T03:17:55.195Z"
   },
   {
    "duration": 8,
    "start_time": "2025-03-11T03:17:55.207Z"
   },
   {
    "duration": 53,
    "start_time": "2025-03-11T03:17:55.217Z"
   },
   {
    "duration": 12,
    "start_time": "2025-03-11T03:17:55.272Z"
   },
   {
    "duration": 13,
    "start_time": "2025-03-11T03:17:55.286Z"
   },
   {
    "duration": 9,
    "start_time": "2025-03-11T03:17:55.300Z"
   },
   {
    "duration": 34,
    "start_time": "2025-03-11T03:17:55.310Z"
   },
   {
    "duration": 15,
    "start_time": "2025-03-11T03:17:55.371Z"
   },
   {
    "duration": 6,
    "start_time": "2025-03-11T03:17:55.388Z"
   },
   {
    "duration": 2,
    "start_time": "2025-03-11T03:17:55.396Z"
   },
   {
    "duration": 3,
    "start_time": "2025-03-11T03:17:55.400Z"
   },
   {
    "duration": 3,
    "start_time": "2025-03-11T03:17:55.405Z"
   },
   {
    "duration": 3,
    "start_time": "2025-03-11T03:17:55.410Z"
   },
   {
    "duration": 3,
    "start_time": "2025-03-11T03:17:55.415Z"
   },
   {
    "duration": 2,
    "start_time": "2025-03-11T03:17:55.421Z"
   },
   {
    "duration": 2,
    "start_time": "2025-03-11T03:17:55.427Z"
   },
   {
    "duration": 2,
    "start_time": "2025-03-11T03:17:55.470Z"
   },
   {
    "duration": 3,
    "start_time": "2025-03-11T03:17:55.474Z"
   },
   {
    "duration": 4,
    "start_time": "2025-03-11T03:17:55.478Z"
   },
   {
    "duration": 4,
    "start_time": "2025-03-11T03:17:55.483Z"
   },
   {
    "duration": 3,
    "start_time": "2025-03-11T03:17:55.488Z"
   },
   {
    "duration": 2,
    "start_time": "2025-03-11T03:17:55.494Z"
   },
   {
    "duration": 2,
    "start_time": "2025-03-11T03:17:55.498Z"
   },
   {
    "duration": 3,
    "start_time": "2025-03-11T03:17:55.502Z"
   },
   {
    "duration": 13,
    "start_time": "2025-03-11T03:17:55.507Z"
   },
   {
    "duration": 168,
    "start_time": "2025-03-12T04:21:13.402Z"
   },
   {
    "duration": 631,
    "start_time": "2025-03-12T04:21:23.630Z"
   },
   {
    "duration": 246,
    "start_time": "2025-03-12T04:21:24.264Z"
   },
   {
    "duration": 10,
    "start_time": "2025-03-12T04:21:24.511Z"
   },
   {
    "duration": 12,
    "start_time": "2025-03-12T04:21:24.524Z"
   },
   {
    "duration": 16,
    "start_time": "2025-03-12T04:21:24.538Z"
   },
   {
    "duration": 10,
    "start_time": "2025-03-12T04:21:24.556Z"
   },
   {
    "duration": 10,
    "start_time": "2025-03-12T04:21:24.567Z"
   },
   {
    "duration": 21,
    "start_time": "2025-03-12T04:21:24.605Z"
   },
   {
    "duration": 16,
    "start_time": "2025-03-12T04:21:24.627Z"
   },
   {
    "duration": 8,
    "start_time": "2025-03-12T04:21:24.646Z"
   },
   {
    "duration": 70,
    "start_time": "2025-03-12T04:21:24.656Z"
   },
   {
    "duration": 16,
    "start_time": "2025-03-12T04:21:24.727Z"
   },
   {
    "duration": 11,
    "start_time": "2025-03-12T04:21:24.745Z"
   },
   {
    "duration": 7,
    "start_time": "2025-03-12T04:21:24.758Z"
   },
   {
    "duration": 53,
    "start_time": "2025-03-12T04:21:24.766Z"
   },
   {
    "duration": 14,
    "start_time": "2025-03-12T04:21:24.821Z"
   },
   {
    "duration": 13,
    "start_time": "2025-03-12T04:21:24.837Z"
   },
   {
    "duration": 11,
    "start_time": "2025-03-12T04:21:24.853Z"
   },
   {
    "duration": 53,
    "start_time": "2025-03-12T04:21:24.865Z"
   },
   {
    "duration": 21,
    "start_time": "2025-03-12T04:21:24.920Z"
   },
   {
    "duration": 8,
    "start_time": "2025-03-12T04:21:24.943Z"
   },
   {
    "duration": 15,
    "start_time": "2025-03-12T04:21:24.953Z"
   },
   {
    "duration": 3,
    "start_time": "2025-03-12T04:21:24.970Z"
   },
   {
    "duration": 32,
    "start_time": "2025-03-12T04:21:24.975Z"
   },
   {
    "duration": 3,
    "start_time": "2025-03-12T04:21:25.009Z"
   },
   {
    "duration": 5,
    "start_time": "2025-03-12T04:21:25.015Z"
   },
   {
    "duration": 3,
    "start_time": "2025-03-12T04:21:25.022Z"
   },
   {
    "duration": 1,
    "start_time": "2025-03-12T04:21:25.029Z"
   },
   {
    "duration": 3,
    "start_time": "2025-03-12T04:21:25.032Z"
   },
   {
    "duration": 3,
    "start_time": "2025-03-12T04:21:25.037Z"
   },
   {
    "duration": 3,
    "start_time": "2025-03-12T04:21:25.041Z"
   },
   {
    "duration": 2,
    "start_time": "2025-03-12T04:21:25.046Z"
   },
   {
    "duration": 3,
    "start_time": "2025-03-12T04:21:25.050Z"
   },
   {
    "duration": 3,
    "start_time": "2025-03-12T04:21:25.055Z"
   },
   {
    "duration": 46,
    "start_time": "2025-03-12T04:21:25.060Z"
   },
   {
    "duration": 3,
    "start_time": "2025-03-12T04:21:25.108Z"
   },
   {
    "duration": 21,
    "start_time": "2025-03-12T04:22:36.843Z"
   },
   {
    "duration": 2,
    "start_time": "2025-03-12T04:24:06.128Z"
   },
   {
    "duration": 11,
    "start_time": "2025-03-12T04:24:08.637Z"
   },
   {
    "duration": 16,
    "start_time": "2025-03-12T04:24:21.310Z"
   },
   {
    "duration": 17,
    "start_time": "2025-03-12T04:24:25.280Z"
   },
   {
    "duration": 20,
    "start_time": "2025-03-12T04:24:36.880Z"
   },
   {
    "duration": 12,
    "start_time": "2025-03-12T04:26:01.876Z"
   },
   {
    "duration": 314,
    "start_time": "2025-03-12T04:26:22.003Z"
   },
   {
    "duration": 17,
    "start_time": "2025-03-12T04:26:28.373Z"
   },
   {
    "duration": 11,
    "start_time": "2025-03-12T04:27:50.906Z"
   },
   {
    "duration": 16,
    "start_time": "2025-03-12T04:28:53.475Z"
   },
   {
    "duration": 53,
    "start_time": "2025-03-12T04:30:05.516Z"
   },
   {
    "duration": 21,
    "start_time": "2025-03-12T04:30:31.558Z"
   },
   {
    "duration": 27,
    "start_time": "2025-03-12T04:30:36.903Z"
   },
   {
    "duration": 30,
    "start_time": "2025-03-12T04:31:03.279Z"
   },
   {
    "duration": 6,
    "start_time": "2025-03-12T04:31:15.565Z"
   },
   {
    "duration": 311,
    "start_time": "2025-03-12T04:31:19.570Z"
   },
   {
    "duration": 19,
    "start_time": "2025-03-12T04:33:22.987Z"
   },
   {
    "duration": 20,
    "start_time": "2025-03-12T04:33:34.776Z"
   },
   {
    "duration": 670,
    "start_time": "2025-03-12T04:33:48.893Z"
   },
   {
    "duration": 18,
    "start_time": "2025-03-12T04:33:58.267Z"
   },
   {
    "duration": 17,
    "start_time": "2025-03-12T04:35:00.616Z"
   },
   {
    "duration": 22,
    "start_time": "2025-03-12T04:35:06.998Z"
   },
   {
    "duration": 344,
    "start_time": "2025-03-12T04:35:51.053Z"
   },
   {
    "duration": 64,
    "start_time": "2025-03-12T04:36:10.653Z"
   },
   {
    "duration": 24,
    "start_time": "2025-03-12T04:39:12.915Z"
   },
   {
    "duration": 27,
    "start_time": "2025-03-12T04:39:43.737Z"
   },
   {
    "duration": 26,
    "start_time": "2025-03-12T04:39:52.667Z"
   },
   {
    "duration": 23,
    "start_time": "2025-03-12T04:40:21.703Z"
   },
   {
    "duration": 35,
    "start_time": "2025-03-12T04:43:11.773Z"
   },
   {
    "duration": 18,
    "start_time": "2025-03-12T04:44:40.874Z"
   },
   {
    "duration": 44,
    "start_time": "2025-03-12T04:48:46.191Z"
   },
   {
    "duration": 17,
    "start_time": "2025-03-12T04:50:21.755Z"
   },
   {
    "duration": 20,
    "start_time": "2025-03-12T04:50:50.074Z"
   },
   {
    "duration": 27,
    "start_time": "2025-03-12T04:50:54.522Z"
   },
   {
    "duration": 22,
    "start_time": "2025-03-12T04:52:50.314Z"
   },
   {
    "duration": 22,
    "start_time": "2025-03-12T04:58:56.443Z"
   },
   {
    "duration": 20,
    "start_time": "2025-03-12T05:00:12.944Z"
   },
   {
    "duration": 21,
    "start_time": "2025-03-12T05:01:25.031Z"
   },
   {
    "duration": 17,
    "start_time": "2025-03-12T05:13:33.697Z"
   },
   {
    "duration": 21,
    "start_time": "2025-03-12T05:13:43.012Z"
   },
   {
    "duration": 7,
    "start_time": "2025-03-12T05:17:41.971Z"
   },
   {
    "duration": 23,
    "start_time": "2025-03-12T05:36:43.627Z"
   },
   {
    "duration": 569,
    "start_time": "2025-03-12T05:37:18.786Z"
   },
   {
    "duration": 166,
    "start_time": "2025-03-12T05:37:19.358Z"
   },
   {
    "duration": 12,
    "start_time": "2025-03-12T05:37:19.526Z"
   },
   {
    "duration": 10,
    "start_time": "2025-03-12T05:37:19.541Z"
   },
   {
    "duration": 14,
    "start_time": "2025-03-12T05:37:19.553Z"
   },
   {
    "duration": 8,
    "start_time": "2025-03-12T05:37:19.569Z"
   },
   {
    "duration": 34,
    "start_time": "2025-03-12T05:37:19.579Z"
   },
   {
    "duration": 21,
    "start_time": "2025-03-12T05:37:19.615Z"
   },
   {
    "duration": 16,
    "start_time": "2025-03-12T05:37:19.638Z"
   },
   {
    "duration": 8,
    "start_time": "2025-03-12T05:37:19.657Z"
   },
   {
    "duration": 69,
    "start_time": "2025-03-12T05:37:19.666Z"
   },
   {
    "duration": 15,
    "start_time": "2025-03-12T05:37:19.737Z"
   },
   {
    "duration": 11,
    "start_time": "2025-03-12T05:37:19.754Z"
   },
   {
    "duration": 7,
    "start_time": "2025-03-12T05:37:19.769Z"
   },
   {
    "duration": 49,
    "start_time": "2025-03-12T05:37:19.778Z"
   },
   {
    "duration": 12,
    "start_time": "2025-03-12T05:37:19.829Z"
   },
   {
    "duration": 13,
    "start_time": "2025-03-12T05:37:19.843Z"
   },
   {
    "duration": 9,
    "start_time": "2025-03-12T05:37:19.858Z"
   },
   {
    "duration": 63,
    "start_time": "2025-03-12T05:37:19.868Z"
   },
   {
    "duration": 16,
    "start_time": "2025-03-12T05:37:19.933Z"
   },
   {
    "duration": 8,
    "start_time": "2025-03-12T05:37:19.950Z"
   },
   {
    "duration": 45,
    "start_time": "2025-03-12T05:37:19.960Z"
   },
   {
    "duration": 26,
    "start_time": "2025-03-12T05:37:20.007Z"
   },
   {
    "duration": 16,
    "start_time": "2025-03-12T05:37:20.035Z"
   },
   {
    "duration": 20,
    "start_time": "2025-03-12T05:37:20.052Z"
   },
   {
    "duration": 46,
    "start_time": "2025-03-12T05:37:20.074Z"
   },
   {
    "duration": 17,
    "start_time": "2025-03-12T05:37:20.122Z"
   },
   {
    "duration": 7,
    "start_time": "2025-03-12T05:37:20.141Z"
   },
   {
    "duration": 2,
    "start_time": "2025-03-12T05:37:20.150Z"
   },
   {
    "duration": 3,
    "start_time": "2025-03-12T05:37:20.154Z"
   },
   {
    "duration": 4,
    "start_time": "2025-03-12T05:37:20.159Z"
   },
   {
    "duration": 3,
    "start_time": "2025-03-12T05:37:20.164Z"
   },
   {
    "duration": 37,
    "start_time": "2025-03-12T05:37:20.169Z"
   },
   {
    "duration": 4,
    "start_time": "2025-03-12T05:37:20.207Z"
   },
   {
    "duration": 3,
    "start_time": "2025-03-12T05:37:20.212Z"
   },
   {
    "duration": 2,
    "start_time": "2025-03-12T05:37:20.218Z"
   },
   {
    "duration": 252,
    "start_time": "2025-03-12T05:52:27.903Z"
   },
   {
    "duration": 5,
    "start_time": "2025-03-12T05:52:46.137Z"
   },
   {
    "duration": 5,
    "start_time": "2025-03-12T05:52:51.026Z"
   },
   {
    "duration": 8,
    "start_time": "2025-03-12T05:53:45.965Z"
   },
   {
    "duration": 1026,
    "start_time": "2025-03-12T05:58:42.408Z"
   },
   {
    "duration": 598,
    "start_time": "2025-03-12T06:00:22.355Z"
   },
   {
    "duration": 175,
    "start_time": "2025-03-12T06:00:22.955Z"
   },
   {
    "duration": 11,
    "start_time": "2025-03-12T06:00:23.132Z"
   },
   {
    "duration": 14,
    "start_time": "2025-03-12T06:00:23.145Z"
   },
   {
    "duration": 14,
    "start_time": "2025-03-12T06:00:23.163Z"
   },
   {
    "duration": 26,
    "start_time": "2025-03-12T06:00:23.179Z"
   },
   {
    "duration": 9,
    "start_time": "2025-03-12T06:00:23.207Z"
   },
   {
    "duration": 19,
    "start_time": "2025-03-12T06:00:23.217Z"
   },
   {
    "duration": 17,
    "start_time": "2025-03-12T06:00:23.238Z"
   },
   {
    "duration": 9,
    "start_time": "2025-03-12T06:00:23.256Z"
   },
   {
    "duration": 74,
    "start_time": "2025-03-12T06:00:23.267Z"
   },
   {
    "duration": 16,
    "start_time": "2025-03-12T06:00:23.343Z"
   },
   {
    "duration": 12,
    "start_time": "2025-03-12T06:00:23.361Z"
   },
   {
    "duration": 29,
    "start_time": "2025-03-12T06:00:23.377Z"
   },
   {
    "duration": 31,
    "start_time": "2025-03-12T06:00:23.408Z"
   },
   {
    "duration": 13,
    "start_time": "2025-03-12T06:00:23.441Z"
   },
   {
    "duration": 14,
    "start_time": "2025-03-12T06:00:23.455Z"
   },
   {
    "duration": 38,
    "start_time": "2025-03-12T06:00:23.471Z"
   },
   {
    "duration": 34,
    "start_time": "2025-03-12T06:00:23.510Z"
   },
   {
    "duration": 14,
    "start_time": "2025-03-12T06:00:23.546Z"
   },
   {
    "duration": 7,
    "start_time": "2025-03-12T06:00:23.562Z"
   },
   {
    "duration": 46,
    "start_time": "2025-03-12T06:00:23.571Z"
   },
   {
    "duration": 24,
    "start_time": "2025-03-12T06:00:23.619Z"
   },
   {
    "duration": 15,
    "start_time": "2025-03-12T06:00:23.645Z"
   },
   {
    "duration": 43,
    "start_time": "2025-03-12T06:00:23.662Z"
   },
   {
    "duration": 21,
    "start_time": "2025-03-12T06:00:23.707Z"
   },
   {
    "duration": 17,
    "start_time": "2025-03-12T06:00:23.730Z"
   },
   {
    "duration": 4,
    "start_time": "2025-03-12T06:00:23.749Z"
   },
   {
    "duration": 940,
    "start_time": "2025-03-12T06:00:23.754Z"
   },
   {
    "duration": 9,
    "start_time": "2025-03-12T06:00:24.696Z"
   },
   {
    "duration": 3,
    "start_time": "2025-03-12T06:00:24.707Z"
   },
   {
    "duration": 4,
    "start_time": "2025-03-12T06:00:24.712Z"
   },
   {
    "duration": 3,
    "start_time": "2025-03-12T06:00:24.718Z"
   },
   {
    "duration": 6,
    "start_time": "2025-03-12T06:00:24.722Z"
   },
   {
    "duration": 5,
    "start_time": "2025-03-12T06:00:24.729Z"
   },
   {
    "duration": 3,
    "start_time": "2025-03-12T06:00:24.735Z"
   },
   {
    "duration": 4,
    "start_time": "2025-03-12T06:00:24.739Z"
   },
   {
    "duration": 1938,
    "start_time": "2025-03-12T06:03:56.123Z"
   },
   {
    "duration": 65,
    "start_time": "2025-03-12T06:10:45.320Z"
   },
   {
    "duration": 45613,
    "start_time": "2025-03-12T06:12:54.193Z"
   },
   {
    "duration": 25153,
    "start_time": "2025-03-12T06:14:27.498Z"
   },
   {
    "duration": 267,
    "start_time": "2025-03-12T06:15:31.344Z"
   },
   {
    "duration": 20629,
    "start_time": "2025-03-12T06:15:56.443Z"
   },
   {
    "duration": 632,
    "start_time": "2025-03-12T06:19:04.774Z"
   },
   {
    "duration": 582,
    "start_time": "2025-03-12T06:20:26.686Z"
   },
   {
    "duration": 835,
    "start_time": "2025-03-12T06:24:10.402Z"
   },
   {
    "duration": 169,
    "start_time": "2025-03-12T06:24:11.239Z"
   },
   {
    "duration": 10,
    "start_time": "2025-03-12T06:24:11.410Z"
   },
   {
    "duration": 12,
    "start_time": "2025-03-12T06:24:11.422Z"
   },
   {
    "duration": 15,
    "start_time": "2025-03-12T06:24:11.435Z"
   },
   {
    "duration": 8,
    "start_time": "2025-03-12T06:24:11.452Z"
   },
   {
    "duration": 8,
    "start_time": "2025-03-12T06:24:11.462Z"
   },
   {
    "duration": 49,
    "start_time": "2025-03-12T06:24:11.471Z"
   },
   {
    "duration": 17,
    "start_time": "2025-03-12T06:24:11.522Z"
   },
   {
    "duration": 11,
    "start_time": "2025-03-12T06:24:11.543Z"
   },
   {
    "duration": 75,
    "start_time": "2025-03-12T06:24:11.555Z"
   },
   {
    "duration": 16,
    "start_time": "2025-03-12T06:24:11.632Z"
   },
   {
    "duration": 13,
    "start_time": "2025-03-12T06:24:11.649Z"
   },
   {
    "duration": 7,
    "start_time": "2025-03-12T06:24:11.664Z"
   },
   {
    "duration": 51,
    "start_time": "2025-03-12T06:24:11.673Z"
   },
   {
    "duration": 13,
    "start_time": "2025-03-12T06:24:11.726Z"
   },
   {
    "duration": 13,
    "start_time": "2025-03-12T06:24:11.741Z"
   },
   {
    "duration": 9,
    "start_time": "2025-03-12T06:24:11.756Z"
   },
   {
    "duration": 61,
    "start_time": "2025-03-12T06:24:11.767Z"
   },
   {
    "duration": 14,
    "start_time": "2025-03-12T06:24:11.830Z"
   },
   {
    "duration": 7,
    "start_time": "2025-03-12T06:24:11.846Z"
   },
   {
    "duration": 22,
    "start_time": "2025-03-12T06:24:11.855Z"
   },
   {
    "duration": 23,
    "start_time": "2025-03-12T06:24:11.905Z"
   },
   {
    "duration": 16,
    "start_time": "2025-03-12T06:24:11.930Z"
   },
   {
    "duration": 21,
    "start_time": "2025-03-12T06:24:11.947Z"
   },
   {
    "duration": 47,
    "start_time": "2025-03-12T06:24:11.969Z"
   },
   {
    "duration": 18,
    "start_time": "2025-03-12T06:24:12.017Z"
   },
   {
    "duration": 4,
    "start_time": "2025-03-12T06:24:12.039Z"
   },
   {
    "duration": 991,
    "start_time": "2025-03-12T06:24:12.045Z"
   },
   {
    "duration": 868,
    "start_time": "2025-03-12T06:24:13.038Z"
   },
   {
    "duration": 0,
    "start_time": "2025-03-12T06:24:13.908Z"
   },
   {
    "duration": 0,
    "start_time": "2025-03-12T06:24:13.909Z"
   },
   {
    "duration": 0,
    "start_time": "2025-03-12T06:24:13.910Z"
   },
   {
    "duration": 0,
    "start_time": "2025-03-12T06:24:13.912Z"
   },
   {
    "duration": 0,
    "start_time": "2025-03-12T06:24:13.913Z"
   },
   {
    "duration": 0,
    "start_time": "2025-03-12T06:24:13.914Z"
   },
   {
    "duration": 0,
    "start_time": "2025-03-12T06:24:13.915Z"
   },
   {
    "duration": 614,
    "start_time": "2025-03-12T06:24:35.433Z"
   },
   {
    "duration": 2838,
    "start_time": "2025-03-14T02:52:33.994Z"
   },
   {
    "duration": 257,
    "start_time": "2025-03-14T02:52:36.834Z"
   },
   {
    "duration": 11,
    "start_time": "2025-03-14T02:52:37.093Z"
   },
   {
    "duration": 10,
    "start_time": "2025-03-14T02:52:37.106Z"
   },
   {
    "duration": 18,
    "start_time": "2025-03-14T02:52:37.118Z"
   },
   {
    "duration": 10,
    "start_time": "2025-03-14T02:52:37.138Z"
   },
   {
    "duration": 10,
    "start_time": "2025-03-14T02:52:37.150Z"
   },
   {
    "duration": 51,
    "start_time": "2025-03-14T02:52:37.162Z"
   },
   {
    "duration": 20,
    "start_time": "2025-03-14T02:52:37.215Z"
   },
   {
    "duration": 10,
    "start_time": "2025-03-14T02:52:37.238Z"
   },
   {
    "duration": 60,
    "start_time": "2025-03-14T02:52:37.250Z"
   },
   {
    "duration": 17,
    "start_time": "2025-03-14T02:52:37.313Z"
   },
   {
    "duration": 13,
    "start_time": "2025-03-14T02:52:37.332Z"
   },
   {
    "duration": 8,
    "start_time": "2025-03-14T02:52:37.346Z"
   },
   {
    "duration": 57,
    "start_time": "2025-03-14T02:52:37.357Z"
   },
   {
    "duration": 14,
    "start_time": "2025-03-14T02:52:37.416Z"
   },
   {
    "duration": 19,
    "start_time": "2025-03-14T02:52:37.433Z"
   },
   {
    "duration": 13,
    "start_time": "2025-03-14T02:52:37.456Z"
   },
   {
    "duration": 55,
    "start_time": "2025-03-14T02:52:37.471Z"
   },
   {
    "duration": 14,
    "start_time": "2025-03-14T02:52:37.528Z"
   },
   {
    "duration": 6,
    "start_time": "2025-03-14T02:52:37.544Z"
   },
   {
    "duration": 21,
    "start_time": "2025-03-14T02:52:37.553Z"
   },
   {
    "duration": 51,
    "start_time": "2025-03-14T02:52:37.576Z"
   },
   {
    "duration": 21,
    "start_time": "2025-03-14T02:52:37.628Z"
   },
   {
    "duration": 26,
    "start_time": "2025-03-14T02:52:37.651Z"
   },
   {
    "duration": 23,
    "start_time": "2025-03-14T02:52:37.704Z"
   },
   {
    "duration": 25,
    "start_time": "2025-03-14T02:52:37.729Z"
   },
   {
    "duration": 6,
    "start_time": "2025-03-14T02:52:37.759Z"
   },
   {
    "duration": 957,
    "start_time": "2025-03-14T02:52:37.767Z"
   },
   {
    "duration": 589,
    "start_time": "2025-03-14T02:52:38.726Z"
   },
   {
    "duration": 3,
    "start_time": "2025-03-14T02:52:39.317Z"
   },
   {
    "duration": 3,
    "start_time": "2025-03-14T02:52:39.322Z"
   },
   {
    "duration": 3,
    "start_time": "2025-03-14T02:52:39.327Z"
   },
   {
    "duration": 2,
    "start_time": "2025-03-14T02:52:39.332Z"
   },
   {
    "duration": 3,
    "start_time": "2025-03-14T02:52:39.336Z"
   },
   {
    "duration": 2,
    "start_time": "2025-03-14T02:52:39.341Z"
   },
   {
    "duration": 2,
    "start_time": "2025-03-14T02:52:39.345Z"
   },
   {
    "duration": 224,
    "start_time": "2025-03-14T02:57:59.168Z"
   },
   {
    "duration": 3,
    "start_time": "2025-03-14T02:58:36.920Z"
   },
   {
    "duration": 589,
    "start_time": "2025-03-14T02:58:49.954Z"
   },
   {
    "duration": 615,
    "start_time": "2025-03-14T03:05:22.748Z"
   },
   {
    "duration": 640,
    "start_time": "2025-03-14T03:06:27.175Z"
   },
   {
    "duration": 474,
    "start_time": "2025-03-14T03:06:41.694Z"
   },
   {
    "duration": 496,
    "start_time": "2025-03-14T03:07:15.235Z"
   },
   {
    "duration": 573,
    "start_time": "2025-03-14T03:07:29.733Z"
   },
   {
    "duration": 590,
    "start_time": "2025-03-14T03:07:56.275Z"
   },
   {
    "duration": 668,
    "start_time": "2025-03-14T03:08:06.221Z"
   },
   {
    "duration": 480,
    "start_time": "2025-03-14T03:09:15.594Z"
   },
   {
    "duration": 5,
    "start_time": "2025-03-14T03:09:38.596Z"
   },
   {
    "duration": 498,
    "start_time": "2025-03-14T03:09:46.287Z"
   },
   {
    "duration": 542,
    "start_time": "2025-03-14T03:11:30.631Z"
   },
   {
    "duration": 648,
    "start_time": "2025-03-14T03:12:26.052Z"
   },
   {
    "duration": 656,
    "start_time": "2025-03-14T03:13:09.607Z"
   },
   {
    "duration": 578,
    "start_time": "2025-03-14T03:13:36.720Z"
   },
   {
    "duration": 681,
    "start_time": "2025-03-14T03:14:08.450Z"
   },
   {
    "duration": 597,
    "start_time": "2025-03-14T03:16:06.209Z"
   },
   {
    "duration": 605,
    "start_time": "2025-03-14T03:16:29.502Z"
   },
   {
    "duration": 550,
    "start_time": "2025-03-14T03:16:40.607Z"
   },
   {
    "duration": 562,
    "start_time": "2025-03-14T03:16:55.096Z"
   },
   {
    "duration": 604,
    "start_time": "2025-03-14T03:17:06.246Z"
   },
   {
    "duration": 22,
    "start_time": "2025-03-14T03:18:30.398Z"
   },
   {
    "duration": 533,
    "start_time": "2025-03-14T03:21:33.239Z"
   },
   {
    "duration": 637,
    "start_time": "2025-03-14T03:22:04.330Z"
   },
   {
    "duration": 223,
    "start_time": "2025-03-14T03:23:53.469Z"
   },
   {
    "duration": 211,
    "start_time": "2025-03-14T03:25:32.962Z"
   },
   {
    "duration": 15,
    "start_time": "2025-03-14T03:34:00.719Z"
   },
   {
    "duration": 26,
    "start_time": "2025-03-14T03:38:08.324Z"
   },
   {
    "duration": 411,
    "start_time": "2025-03-14T03:39:35.661Z"
   },
   {
    "duration": 34,
    "start_time": "2025-03-14T03:39:43.850Z"
   },
   {
    "duration": 134,
    "start_time": "2025-03-14T03:40:10.893Z"
   },
   {
    "duration": 209,
    "start_time": "2025-03-14T03:40:20.303Z"
   },
   {
    "duration": 110,
    "start_time": "2025-03-14T03:42:11.816Z"
   },
   {
    "duration": 33,
    "start_time": "2025-03-14T03:42:49.777Z"
   },
   {
    "duration": 113,
    "start_time": "2025-03-14T03:43:15.485Z"
   },
   {
    "duration": 33,
    "start_time": "2025-03-14T03:43:31.791Z"
   },
   {
    "duration": 47,
    "start_time": "2025-03-14T03:45:14.744Z"
   },
   {
    "duration": 68,
    "start_time": "2025-03-14T03:45:29.898Z"
   },
   {
    "duration": 33,
    "start_time": "2025-03-14T03:46:04.255Z"
   },
   {
    "duration": 276,
    "start_time": "2025-03-14T03:47:15.875Z"
   },
   {
    "duration": 475,
    "start_time": "2025-03-14T03:47:27.603Z"
   },
   {
    "duration": 352,
    "start_time": "2025-03-14T03:47:43.985Z"
   },
   {
    "duration": 277,
    "start_time": "2025-03-14T03:48:05.766Z"
   },
   {
    "duration": 271,
    "start_time": "2025-03-14T03:49:52.425Z"
   },
   {
    "duration": 210,
    "start_time": "2025-03-14T03:50:53.623Z"
   },
   {
    "duration": 223,
    "start_time": "2025-03-14T03:52:27.126Z"
   },
   {
    "duration": 232,
    "start_time": "2025-03-14T03:52:32.837Z"
   },
   {
    "duration": 216,
    "start_time": "2025-03-14T03:52:48.506Z"
   },
   {
    "duration": 217,
    "start_time": "2025-03-14T03:53:20.630Z"
   },
   {
    "duration": 325,
    "start_time": "2025-03-14T03:54:42.329Z"
   },
   {
    "duration": 216,
    "start_time": "2025-03-14T03:55:53.725Z"
   },
   {
    "duration": 213,
    "start_time": "2025-03-14T03:56:55.657Z"
   },
   {
    "duration": 159,
    "start_time": "2025-03-14T03:57:21.806Z"
   },
   {
    "duration": 145,
    "start_time": "2025-03-14T03:59:07.188Z"
   },
   {
    "duration": 176,
    "start_time": "2025-03-14T04:00:21.691Z"
   },
   {
    "duration": 170,
    "start_time": "2025-03-14T04:05:25.008Z"
   },
   {
    "duration": 182,
    "start_time": "2025-03-14T04:08:21.682Z"
   },
   {
    "duration": 137,
    "start_time": "2025-03-14T04:09:29.032Z"
   },
   {
    "duration": 138,
    "start_time": "2025-03-14T04:09:58.421Z"
   },
   {
    "duration": 140,
    "start_time": "2025-03-14T04:10:11.277Z"
   },
   {
    "duration": 141,
    "start_time": "2025-03-14T04:10:46.870Z"
   },
   {
    "duration": 135,
    "start_time": "2025-03-14T04:11:04.993Z"
   },
   {
    "duration": 127,
    "start_time": "2025-03-14T04:11:21.779Z"
   },
   {
    "duration": 787,
    "start_time": "2025-03-14T04:11:39.398Z"
   },
   {
    "duration": 180,
    "start_time": "2025-03-14T04:12:05.449Z"
   },
   {
    "duration": 131,
    "start_time": "2025-03-14T04:12:12.126Z"
   },
   {
    "duration": 141,
    "start_time": "2025-03-14T04:12:52.313Z"
   },
   {
    "duration": 123,
    "start_time": "2025-03-14T04:12:57.055Z"
   },
   {
    "duration": 124,
    "start_time": "2025-03-14T04:13:10.473Z"
   },
   {
    "duration": 6,
    "start_time": "2025-03-14T04:13:43.638Z"
   },
   {
    "duration": 126,
    "start_time": "2025-03-14T04:13:48.659Z"
   },
   {
    "duration": 131,
    "start_time": "2025-03-14T04:14:14.099Z"
   },
   {
    "duration": 185,
    "start_time": "2025-03-14T04:16:36.965Z"
   },
   {
    "duration": 173,
    "start_time": "2025-03-14T04:16:48.627Z"
   },
   {
    "duration": 387,
    "start_time": "2025-03-14T04:16:56.359Z"
   },
   {
    "duration": 108,
    "start_time": "2025-03-14T04:17:29.859Z"
   },
   {
    "duration": 115,
    "start_time": "2025-03-14T04:18:46.118Z"
   },
   {
    "duration": 114,
    "start_time": "2025-03-14T04:19:08.039Z"
   },
   {
    "duration": 118,
    "start_time": "2025-03-14T04:19:18.779Z"
   },
   {
    "duration": 115,
    "start_time": "2025-03-14T04:19:27.349Z"
   },
   {
    "duration": 134,
    "start_time": "2025-03-14T04:20:09.436Z"
   },
   {
    "duration": 138,
    "start_time": "2025-03-14T04:20:48.604Z"
   },
   {
    "duration": 138,
    "start_time": "2025-03-14T04:21:02.043Z"
   },
   {
    "duration": 148,
    "start_time": "2025-03-14T04:21:56.274Z"
   },
   {
    "duration": 149,
    "start_time": "2025-03-14T04:22:13.926Z"
   },
   {
    "duration": 153,
    "start_time": "2025-03-14T04:22:21.744Z"
   },
   {
    "duration": 222,
    "start_time": "2025-03-14T04:24:08.583Z"
   },
   {
    "duration": 156,
    "start_time": "2025-03-14T04:25:30.560Z"
   },
   {
    "duration": 163,
    "start_time": "2025-03-14T04:25:52.201Z"
   },
   {
    "duration": 185,
    "start_time": "2025-03-14T04:26:11.602Z"
   },
   {
    "duration": 168,
    "start_time": "2025-03-14T04:30:31.490Z"
   },
   {
    "duration": 167,
    "start_time": "2025-03-14T04:31:59.545Z"
   },
   {
    "duration": 173,
    "start_time": "2025-03-14T04:32:47.407Z"
   },
   {
    "duration": 189,
    "start_time": "2025-03-14T04:33:18.621Z"
   },
   {
    "duration": 5,
    "start_time": "2025-03-14T04:41:44.500Z"
   },
   {
    "duration": 6,
    "start_time": "2025-03-14T04:42:01.301Z"
   },
   {
    "duration": 4,
    "start_time": "2025-03-14T04:43:04.292Z"
   },
   {
    "duration": 96,
    "start_time": "2025-03-14T04:44:24.276Z"
   },
   {
    "duration": 84,
    "start_time": "2025-03-14T04:47:57.223Z"
   },
   {
    "duration": 88,
    "start_time": "2025-03-14T04:48:43.013Z"
   },
   {
    "duration": 93,
    "start_time": "2025-03-14T04:50:03.701Z"
   },
   {
    "duration": 92,
    "start_time": "2025-03-14T04:50:35.801Z"
   },
   {
    "duration": 91,
    "start_time": "2025-03-14T04:51:03.914Z"
   },
   {
    "duration": 96,
    "start_time": "2025-03-14T04:51:22.873Z"
   },
   {
    "duration": 100,
    "start_time": "2025-03-14T04:51:55.864Z"
   },
   {
    "duration": 305,
    "start_time": "2025-03-14T04:53:08.743Z"
   },
   {
    "duration": 95,
    "start_time": "2025-03-14T04:53:46.153Z"
   },
   {
    "duration": 97,
    "start_time": "2025-03-14T04:53:51.582Z"
   },
   {
    "duration": 95,
    "start_time": "2025-03-14T04:54:43.233Z"
   },
   {
    "duration": 97,
    "start_time": "2025-03-14T04:55:25.176Z"
   },
   {
    "duration": 154,
    "start_time": "2025-03-14T04:58:03.458Z"
   },
   {
    "duration": 105,
    "start_time": "2025-03-14T04:58:32.060Z"
   },
   {
    "duration": 93,
    "start_time": "2025-03-14T04:58:40.439Z"
   },
   {
    "duration": 220,
    "start_time": "2025-03-14T05:04:46.288Z"
   },
   {
    "duration": 29,
    "start_time": "2025-03-14T05:05:20.719Z"
   },
   {
    "duration": 47,
    "start_time": "2025-03-14T05:07:48.782Z"
   },
   {
    "duration": 461,
    "start_time": "2025-03-14T05:10:55.121Z"
   },
   {
    "duration": 197,
    "start_time": "2025-03-14T05:12:10.068Z"
   },
   {
    "duration": 255,
    "start_time": "2025-03-14T05:12:43.407Z"
   },
   {
    "duration": 373,
    "start_time": "2025-03-14T05:14:20.743Z"
   },
   {
    "duration": 95,
    "start_time": "2025-03-14T05:14:29.381Z"
   },
   {
    "duration": 126,
    "start_time": "2025-03-14T05:19:20.623Z"
   },
   {
    "duration": 127,
    "start_time": "2025-03-14T05:20:03.027Z"
   },
   {
    "duration": 126,
    "start_time": "2025-03-14T05:20:10.374Z"
   },
   {
    "duration": 100,
    "start_time": "2025-03-14T05:20:41.262Z"
   },
   {
    "duration": 125,
    "start_time": "2025-03-14T05:20:56.273Z"
   },
   {
    "duration": 201,
    "start_time": "2025-03-14T05:37:48.832Z"
   },
   {
    "duration": 195,
    "start_time": "2025-03-14T05:37:54.314Z"
   },
   {
    "duration": 2600,
    "start_time": "2025-03-15T00:33:07.239Z"
   },
   {
    "duration": 221,
    "start_time": "2025-03-15T00:33:09.842Z"
   },
   {
    "duration": 9,
    "start_time": "2025-03-15T00:33:10.064Z"
   },
   {
    "duration": 10,
    "start_time": "2025-03-15T00:33:10.076Z"
   },
   {
    "duration": 23,
    "start_time": "2025-03-15T00:33:10.087Z"
   },
   {
    "duration": 9,
    "start_time": "2025-03-15T00:33:10.112Z"
   },
   {
    "duration": 9,
    "start_time": "2025-03-15T00:33:10.123Z"
   },
   {
    "duration": 23,
    "start_time": "2025-03-15T00:33:10.134Z"
   },
   {
    "duration": 18,
    "start_time": "2025-03-15T00:33:10.159Z"
   },
   {
    "duration": 8,
    "start_time": "2025-03-15T00:33:10.211Z"
   },
   {
    "duration": 38,
    "start_time": "2025-03-15T00:33:10.221Z"
   },
   {
    "duration": 15,
    "start_time": "2025-03-15T00:33:10.261Z"
   },
   {
    "duration": 36,
    "start_time": "2025-03-15T00:33:10.278Z"
   },
   {
    "duration": 7,
    "start_time": "2025-03-15T00:33:10.315Z"
   },
   {
    "duration": 25,
    "start_time": "2025-03-15T00:33:10.324Z"
   },
   {
    "duration": 12,
    "start_time": "2025-03-15T00:33:10.351Z"
   },
   {
    "duration": 46,
    "start_time": "2025-03-15T00:33:10.365Z"
   },
   {
    "duration": 8,
    "start_time": "2025-03-15T00:33:10.413Z"
   },
   {
    "duration": 32,
    "start_time": "2025-03-15T00:33:10.422Z"
   },
   {
    "duration": 13,
    "start_time": "2025-03-15T00:33:10.456Z"
   },
   {
    "duration": 7,
    "start_time": "2025-03-15T00:33:10.471Z"
   },
   {
    "duration": 49,
    "start_time": "2025-03-15T00:33:10.479Z"
   },
   {
    "duration": 22,
    "start_time": "2025-03-15T00:33:10.529Z"
   },
   {
    "duration": 15,
    "start_time": "2025-03-15T00:33:10.552Z"
   },
   {
    "duration": 40,
    "start_time": "2025-03-15T00:33:10.569Z"
   },
   {
    "duration": 20,
    "start_time": "2025-03-15T00:33:10.611Z"
   },
   {
    "duration": 17,
    "start_time": "2025-03-15T00:33:10.632Z"
   },
   {
    "duration": 4,
    "start_time": "2025-03-15T00:33:10.653Z"
   },
   {
    "duration": 1005,
    "start_time": "2025-03-15T00:33:10.659Z"
   },
   {
    "duration": 231,
    "start_time": "2025-03-15T00:33:11.667Z"
   },
   {
    "duration": 197,
    "start_time": "2025-03-15T00:33:11.908Z"
   },
   {
    "duration": 47,
    "start_time": "2025-03-15T00:33:12.109Z"
   },
   {
    "duration": 135,
    "start_time": "2025-03-15T00:33:12.159Z"
   },
   {
    "duration": 3,
    "start_time": "2025-03-15T00:33:12.296Z"
   },
   {
    "duration": 2,
    "start_time": "2025-03-15T00:33:12.309Z"
   },
   {
    "duration": 3,
    "start_time": "2025-03-15T00:33:12.313Z"
   },
   {
    "duration": 2,
    "start_time": "2025-03-15T00:33:12.318Z"
   },
   {
    "duration": 211,
    "start_time": "2025-03-15T01:09:28.207Z"
   },
   {
    "duration": 8,
    "start_time": "2025-03-15T01:17:18.384Z"
   },
   {
    "duration": 8,
    "start_time": "2025-03-15T01:18:12.169Z"
   },
   {
    "duration": 165,
    "start_time": "2025-03-15T01:20:42.379Z"
   },
   {
    "duration": 196,
    "start_time": "2025-03-15T01:32:29.240Z"
   },
   {
    "duration": 8,
    "start_time": "2025-03-15T01:39:30.746Z"
   },
   {
    "duration": 116,
    "start_time": "2025-03-15T01:45:00.736Z"
   },
   {
    "duration": 195,
    "start_time": "2025-03-15T02:17:05.698Z"
   },
   {
    "duration": 140,
    "start_time": "2025-03-15T02:28:42.369Z"
   },
   {
    "duration": 348,
    "start_time": "2025-03-15T02:29:14.548Z"
   },
   {
    "duration": 199,
    "start_time": "2025-03-15T02:29:27.145Z"
   },
   {
    "duration": 9,
    "start_time": "2025-03-15T02:37:25.795Z"
   },
   {
    "duration": 98,
    "start_time": "2025-03-15T02:43:49.484Z"
   },
   {
    "duration": 2576,
    "start_time": "2025-03-15T03:52:20.630Z"
   },
   {
    "duration": 227,
    "start_time": "2025-03-15T03:52:23.209Z"
   },
   {
    "duration": 9,
    "start_time": "2025-03-15T03:52:23.438Z"
   },
   {
    "duration": 9,
    "start_time": "2025-03-15T03:52:23.449Z"
   },
   {
    "duration": 15,
    "start_time": "2025-03-15T03:52:23.460Z"
   },
   {
    "duration": 8,
    "start_time": "2025-03-15T03:52:23.477Z"
   },
   {
    "duration": 9,
    "start_time": "2025-03-15T03:52:23.486Z"
   },
   {
    "duration": 50,
    "start_time": "2025-03-15T03:52:23.496Z"
   },
   {
    "duration": 15,
    "start_time": "2025-03-15T03:52:23.548Z"
   },
   {
    "duration": 9,
    "start_time": "2025-03-15T03:52:23.565Z"
   },
   {
    "duration": 58,
    "start_time": "2025-03-15T03:52:23.576Z"
   },
   {
    "duration": 15,
    "start_time": "2025-03-15T03:52:23.636Z"
   },
   {
    "duration": 11,
    "start_time": "2025-03-15T03:52:23.653Z"
   },
   {
    "duration": 7,
    "start_time": "2025-03-15T03:52:23.668Z"
   },
   {
    "duration": 53,
    "start_time": "2025-03-15T03:52:23.678Z"
   },
   {
    "duration": 12,
    "start_time": "2025-03-15T03:52:23.733Z"
   },
   {
    "duration": 12,
    "start_time": "2025-03-15T03:52:23.747Z"
   },
   {
    "duration": 8,
    "start_time": "2025-03-15T03:52:23.761Z"
   },
   {
    "duration": 33,
    "start_time": "2025-03-15T03:52:23.771Z"
   },
   {
    "duration": 17,
    "start_time": "2025-03-15T03:52:23.832Z"
   },
   {
    "duration": 7,
    "start_time": "2025-03-15T03:52:23.851Z"
   },
   {
    "duration": 23,
    "start_time": "2025-03-15T03:52:23.860Z"
   },
   {
    "duration": 47,
    "start_time": "2025-03-15T03:52:23.885Z"
   },
   {
    "duration": 15,
    "start_time": "2025-03-15T03:52:23.934Z"
   },
   {
    "duration": 20,
    "start_time": "2025-03-15T03:52:23.950Z"
   },
   {
    "duration": 21,
    "start_time": "2025-03-15T03:52:23.971Z"
   },
   {
    "duration": 44,
    "start_time": "2025-03-15T03:52:23.994Z"
   },
   {
    "duration": 5,
    "start_time": "2025-03-15T03:52:24.040Z"
   },
   {
    "duration": 947,
    "start_time": "2025-03-15T03:52:24.046Z"
   },
   {
    "duration": 243,
    "start_time": "2025-03-15T03:52:24.994Z"
   },
   {
    "duration": 207,
    "start_time": "2025-03-15T03:52:25.239Z"
   },
   {
    "duration": 46,
    "start_time": "2025-03-15T03:52:25.449Z"
   },
   {
    "duration": 136,
    "start_time": "2025-03-15T03:52:25.497Z"
   },
   {
    "duration": 203,
    "start_time": "2025-03-15T03:52:25.635Z"
   },
   {
    "duration": 8,
    "start_time": "2025-03-15T03:52:25.839Z"
   },
   {
    "duration": 180,
    "start_time": "2025-03-15T03:52:25.849Z"
   },
   {
    "duration": 212,
    "start_time": "2025-03-15T03:52:26.031Z"
   },
   {
    "duration": 7,
    "start_time": "2025-03-15T03:52:26.245Z"
   },
   {
    "duration": 118,
    "start_time": "2025-03-15T03:52:26.254Z"
   },
   {
    "duration": 184,
    "start_time": "2025-03-15T03:52:26.374Z"
   },
   {
    "duration": 201,
    "start_time": "2025-03-15T03:52:26.563Z"
   },
   {
    "duration": 8,
    "start_time": "2025-03-15T03:52:26.766Z"
   },
   {
    "duration": 116,
    "start_time": "2025-03-15T03:52:26.775Z"
   },
   {
    "duration": 2,
    "start_time": "2025-03-15T03:52:26.894Z"
   },
   {
    "duration": 4,
    "start_time": "2025-03-15T03:52:26.897Z"
   },
   {
    "duration": 6,
    "start_time": "2025-03-15T03:52:51.308Z"
   },
   {
    "duration": 6,
    "start_time": "2025-03-15T03:57:57.833Z"
   },
   {
    "duration": 13,
    "start_time": "2025-03-15T04:03:18.786Z"
   },
   {
    "duration": 459,
    "start_time": "2025-03-15T04:06:48.140Z"
   },
   {
    "duration": 13,
    "start_time": "2025-03-15T04:09:14.644Z"
   },
   {
    "duration": 446,
    "start_time": "2025-03-15T04:11:16.062Z"
   },
   {
    "duration": 16,
    "start_time": "2025-03-15T04:11:29.776Z"
   },
   {
    "duration": 15,
    "start_time": "2025-03-15T04:12:57.793Z"
   },
   {
    "duration": 14,
    "start_time": "2025-03-15T04:13:37.238Z"
   },
   {
    "duration": 5,
    "start_time": "2025-03-15T04:26:33.767Z"
   },
   {
    "duration": 5,
    "start_time": "2025-03-15T04:34:28.509Z"
   },
   {
    "duration": 17,
    "start_time": "2025-03-15T04:36:09.647Z"
   },
   {
    "duration": 10,
    "start_time": "2025-03-15T04:36:35.850Z"
   },
   {
    "duration": 16,
    "start_time": "2025-03-15T04:36:55.538Z"
   },
   {
    "duration": 8,
    "start_time": "2025-03-15T04:40:31.164Z"
   },
   {
    "duration": 8,
    "start_time": "2025-03-15T04:40:40.411Z"
   },
   {
    "duration": 9,
    "start_time": "2025-03-15T04:41:02.976Z"
   },
   {
    "duration": 8,
    "start_time": "2025-03-15T04:44:11.480Z"
   },
   {
    "duration": 858,
    "start_time": "2025-03-15T05:13:47.157Z"
   },
   {
    "duration": 173,
    "start_time": "2025-03-15T05:13:48.017Z"
   },
   {
    "duration": 9,
    "start_time": "2025-03-15T05:13:48.192Z"
   },
   {
    "duration": 9,
    "start_time": "2025-03-15T05:13:48.203Z"
   },
   {
    "duration": 28,
    "start_time": "2025-03-15T05:13:48.214Z"
   },
   {
    "duration": 9,
    "start_time": "2025-03-15T05:13:48.243Z"
   },
   {
    "duration": 9,
    "start_time": "2025-03-15T05:13:48.253Z"
   },
   {
    "duration": 18,
    "start_time": "2025-03-15T05:13:48.263Z"
   },
   {
    "duration": 16,
    "start_time": "2025-03-15T05:13:48.282Z"
   },
   {
    "duration": 41,
    "start_time": "2025-03-15T05:13:48.300Z"
   },
   {
    "duration": 40,
    "start_time": "2025-03-15T05:13:48.343Z"
   },
   {
    "duration": 15,
    "start_time": "2025-03-15T05:13:48.386Z"
   },
   {
    "duration": 33,
    "start_time": "2025-03-15T05:13:48.403Z"
   },
   {
    "duration": 7,
    "start_time": "2025-03-15T05:13:48.437Z"
   },
   {
    "duration": 25,
    "start_time": "2025-03-15T05:13:48.446Z"
   },
   {
    "duration": 11,
    "start_time": "2025-03-15T05:13:48.473Z"
   },
   {
    "duration": 14,
    "start_time": "2025-03-15T05:13:48.486Z"
   },
   {
    "duration": 9,
    "start_time": "2025-03-15T05:13:48.532Z"
   },
   {
    "duration": 31,
    "start_time": "2025-03-15T05:13:48.543Z"
   },
   {
    "duration": 15,
    "start_time": "2025-03-15T05:13:48.576Z"
   },
   {
    "duration": 7,
    "start_time": "2025-03-15T05:13:48.592Z"
   },
   {
    "duration": 50,
    "start_time": "2025-03-15T05:13:48.600Z"
   },
   {
    "duration": 24,
    "start_time": "2025-03-15T05:13:48.652Z"
   },
   {
    "duration": 17,
    "start_time": "2025-03-15T05:13:48.677Z"
   },
   {
    "duration": 44,
    "start_time": "2025-03-15T05:13:48.696Z"
   },
   {
    "duration": 21,
    "start_time": "2025-03-15T05:13:48.741Z"
   },
   {
    "duration": 18,
    "start_time": "2025-03-15T05:13:48.763Z"
   },
   {
    "duration": 5,
    "start_time": "2025-03-15T05:13:48.785Z"
   },
   {
    "duration": 1021,
    "start_time": "2025-03-15T05:13:48.791Z"
   },
   {
    "duration": 231,
    "start_time": "2025-03-15T05:13:49.814Z"
   },
   {
    "duration": 202,
    "start_time": "2025-03-15T05:13:50.047Z"
   },
   {
    "duration": 47,
    "start_time": "2025-03-15T05:13:50.251Z"
   },
   {
    "duration": 193,
    "start_time": "2025-03-15T05:13:50.300Z"
   },
   {
    "duration": 209,
    "start_time": "2025-03-15T05:13:50.495Z"
   },
   {
    "duration": 8,
    "start_time": "2025-03-15T05:13:50.706Z"
   },
   {
    "duration": 109,
    "start_time": "2025-03-15T05:13:50.716Z"
   },
   {
    "duration": 202,
    "start_time": "2025-03-15T05:13:50.831Z"
   },
   {
    "duration": 7,
    "start_time": "2025-03-15T05:13:51.036Z"
   },
   {
    "duration": 129,
    "start_time": "2025-03-15T05:13:51.045Z"
   },
   {
    "duration": 185,
    "start_time": "2025-03-15T05:13:51.178Z"
   },
   {
    "duration": 208,
    "start_time": "2025-03-15T05:13:51.365Z"
   },
   {
    "duration": 7,
    "start_time": "2025-03-15T05:13:51.575Z"
   },
   {
    "duration": 112,
    "start_time": "2025-03-15T05:13:51.584Z"
   },
   {
    "duration": 7,
    "start_time": "2025-03-15T05:13:51.699Z"
   },
   {
    "duration": 8,
    "start_time": "2025-03-15T05:13:51.707Z"
   },
   {
    "duration": 843,
    "start_time": "2025-03-15T05:14:07.950Z"
   },
   {
    "duration": 154,
    "start_time": "2025-03-15T05:14:08.795Z"
   },
   {
    "duration": 9,
    "start_time": "2025-03-15T05:14:08.951Z"
   },
   {
    "duration": 9,
    "start_time": "2025-03-15T05:14:08.963Z"
   },
   {
    "duration": 14,
    "start_time": "2025-03-15T05:14:08.973Z"
   },
   {
    "duration": 8,
    "start_time": "2025-03-15T05:14:08.989Z"
   },
   {
    "duration": 39,
    "start_time": "2025-03-15T05:14:08.998Z"
   },
   {
    "duration": 21,
    "start_time": "2025-03-15T05:14:09.039Z"
   },
   {
    "duration": 16,
    "start_time": "2025-03-15T05:14:09.062Z"
   },
   {
    "duration": 8,
    "start_time": "2025-03-15T05:14:09.082Z"
   },
   {
    "duration": 63,
    "start_time": "2025-03-15T05:14:09.092Z"
   },
   {
    "duration": 15,
    "start_time": "2025-03-15T05:14:09.157Z"
   },
   {
    "duration": 13,
    "start_time": "2025-03-15T05:14:09.173Z"
   },
   {
    "duration": 7,
    "start_time": "2025-03-15T05:14:09.188Z"
   },
   {
    "duration": 50,
    "start_time": "2025-03-15T05:14:09.197Z"
   },
   {
    "duration": 11,
    "start_time": "2025-03-15T05:14:09.249Z"
   },
   {
    "duration": 13,
    "start_time": "2025-03-15T05:14:09.262Z"
   },
   {
    "duration": 9,
    "start_time": "2025-03-15T05:14:09.277Z"
   },
   {
    "duration": 61,
    "start_time": "2025-03-15T05:14:09.287Z"
   },
   {
    "duration": 15,
    "start_time": "2025-03-15T05:14:09.350Z"
   },
   {
    "duration": 7,
    "start_time": "2025-03-15T05:14:09.366Z"
   },
   {
    "duration": 21,
    "start_time": "2025-03-15T05:14:09.374Z"
   },
   {
    "duration": 47,
    "start_time": "2025-03-15T05:14:09.397Z"
   },
   {
    "duration": 16,
    "start_time": "2025-03-15T05:14:09.445Z"
   },
   {
    "duration": 22,
    "start_time": "2025-03-15T05:14:09.462Z"
   },
   {
    "duration": 20,
    "start_time": "2025-03-15T05:14:09.486Z"
   },
   {
    "duration": 38,
    "start_time": "2025-03-15T05:14:09.508Z"
   },
   {
    "duration": 4,
    "start_time": "2025-03-15T05:14:09.549Z"
   },
   {
    "duration": 999,
    "start_time": "2025-03-15T05:14:09.555Z"
   },
   {
    "duration": 247,
    "start_time": "2025-03-15T05:14:10.556Z"
   },
   {
    "duration": 200,
    "start_time": "2025-03-15T05:14:10.805Z"
   },
   {
    "duration": 57,
    "start_time": "2025-03-15T05:14:11.007Z"
   },
   {
    "duration": 189,
    "start_time": "2025-03-15T05:14:11.066Z"
   },
   {
    "duration": 198,
    "start_time": "2025-03-15T05:14:11.257Z"
   },
   {
    "duration": 8,
    "start_time": "2025-03-15T05:14:11.456Z"
   },
   {
    "duration": 107,
    "start_time": "2025-03-15T05:14:11.465Z"
   },
   {
    "duration": 204,
    "start_time": "2025-03-15T05:14:11.574Z"
   },
   {
    "duration": 8,
    "start_time": "2025-03-15T05:14:11.780Z"
   },
   {
    "duration": 112,
    "start_time": "2025-03-15T05:14:11.790Z"
   },
   {
    "duration": 198,
    "start_time": "2025-03-15T05:14:11.903Z"
   },
   {
    "duration": 199,
    "start_time": "2025-03-15T05:14:12.103Z"
   },
   {
    "duration": 8,
    "start_time": "2025-03-15T05:14:12.304Z"
   },
   {
    "duration": 118,
    "start_time": "2025-03-15T05:14:12.314Z"
   },
   {
    "duration": 6,
    "start_time": "2025-03-15T05:14:12.435Z"
   },
   {
    "duration": 8,
    "start_time": "2025-03-15T05:14:12.443Z"
   },
   {
    "duration": 642,
    "start_time": "2025-03-16T02:20:38.618Z"
   },
   {
    "duration": 3,
    "start_time": "2025-03-16T02:20:42.792Z"
   },
   {
    "duration": 173,
    "start_time": "2025-03-16T02:20:42.797Z"
   },
   {
    "duration": 8,
    "start_time": "2025-03-16T02:20:42.972Z"
   },
   {
    "duration": 7,
    "start_time": "2025-03-16T02:20:42.982Z"
   },
   {
    "duration": 16,
    "start_time": "2025-03-16T02:20:43.005Z"
   },
   {
    "duration": 8,
    "start_time": "2025-03-16T02:20:43.024Z"
   },
   {
    "duration": 10,
    "start_time": "2025-03-16T02:20:43.033Z"
   },
   {
    "duration": 17,
    "start_time": "2025-03-16T02:20:43.044Z"
   },
   {
    "duration": 43,
    "start_time": "2025-03-16T02:20:43.062Z"
   },
   {
    "duration": 10,
    "start_time": "2025-03-16T02:20:43.107Z"
   },
   {
    "duration": 38,
    "start_time": "2025-03-16T02:20:43.119Z"
   },
   {
    "duration": 14,
    "start_time": "2025-03-16T02:20:43.159Z"
   },
   {
    "duration": 33,
    "start_time": "2025-03-16T02:20:43.175Z"
   },
   {
    "duration": 8,
    "start_time": "2025-03-16T02:20:43.213Z"
   },
   {
    "duration": 25,
    "start_time": "2025-03-16T02:20:43.223Z"
   },
   {
    "duration": 12,
    "start_time": "2025-03-16T02:20:43.250Z"
   },
   {
    "duration": 46,
    "start_time": "2025-03-16T02:20:43.264Z"
   },
   {
    "duration": 9,
    "start_time": "2025-03-16T02:20:43.312Z"
   },
   {
    "duration": 31,
    "start_time": "2025-03-16T02:20:43.322Z"
   },
   {
    "duration": 15,
    "start_time": "2025-03-16T02:20:43.355Z"
   },
   {
    "duration": 34,
    "start_time": "2025-03-16T02:20:43.371Z"
   },
   {
    "duration": 24,
    "start_time": "2025-03-16T02:20:43.407Z"
   },
   {
    "duration": 22,
    "start_time": "2025-03-16T02:20:43.433Z"
   },
   {
    "duration": 15,
    "start_time": "2025-03-16T02:20:43.457Z"
   },
   {
    "duration": 45,
    "start_time": "2025-03-16T02:20:43.473Z"
   },
   {
    "duration": 20,
    "start_time": "2025-03-16T02:20:43.520Z"
   },
   {
    "duration": 18,
    "start_time": "2025-03-16T02:20:43.542Z"
   },
   {
    "duration": 5,
    "start_time": "2025-03-16T02:20:43.561Z"
   },
   {
    "duration": 901,
    "start_time": "2025-03-16T02:20:43.568Z"
   },
   {
    "duration": 223,
    "start_time": "2025-03-16T02:20:44.471Z"
   },
   {
    "duration": 203,
    "start_time": "2025-03-16T02:20:44.696Z"
   },
   {
    "duration": 47,
    "start_time": "2025-03-16T02:20:44.901Z"
   },
   {
    "duration": 228,
    "start_time": "2025-03-16T02:20:44.950Z"
   },
   {
    "duration": 203,
    "start_time": "2025-03-16T02:20:45.180Z"
   },
   {
    "duration": 22,
    "start_time": "2025-03-16T02:20:45.385Z"
   },
   {
    "duration": 102,
    "start_time": "2025-03-16T02:20:45.409Z"
   },
   {
    "duration": 211,
    "start_time": "2025-03-16T02:20:45.514Z"
   },
   {
    "duration": 8,
    "start_time": "2025-03-16T02:20:45.728Z"
   },
   {
    "duration": 117,
    "start_time": "2025-03-16T02:20:45.738Z"
   },
   {
    "duration": 210,
    "start_time": "2025-03-16T02:20:45.856Z"
   },
   {
    "duration": 205,
    "start_time": "2025-03-16T02:20:46.071Z"
   },
   {
    "duration": 8,
    "start_time": "2025-03-16T02:20:46.278Z"
   },
   {
    "duration": 118,
    "start_time": "2025-03-16T02:20:46.287Z"
   },
   {
    "duration": 7,
    "start_time": "2025-03-16T02:20:46.408Z"
   },
   {
    "duration": 9,
    "start_time": "2025-03-16T02:20:46.416Z"
   }
  ],
  "colab": {
   "provenance": []
  },
  "kernelspec": {
   "display_name": "Python 3 (ipykernel)",
   "language": "python",
   "name": "python3"
  },
  "language_info": {
   "codemirror_mode": {
    "name": "ipython",
    "version": 3
   },
   "file_extension": ".py",
   "mimetype": "text/x-python",
   "name": "python",
   "nbconvert_exporter": "python",
   "pygments_lexer": "ipython3",
   "version": "3.9.19"
  },
  "toc": {
   "base_numbering": 1,
   "nav_menu": {},
   "number_sections": true,
   "sideBar": true,
   "skip_h1_title": false,
   "title_cell": "Table of Contents",
   "title_sidebar": "Contents",
   "toc_cell": false,
   "toc_position": {
    "height": "calc(100% - 180px)",
    "left": "10px",
    "top": "150px",
    "width": "322.734px"
   },
   "toc_section_display": true,
   "toc_window_display": true
  }
 },
 "nbformat": 4,
 "nbformat_minor": 1
}
